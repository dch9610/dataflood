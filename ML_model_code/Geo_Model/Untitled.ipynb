{
 "cells": [
  {
   "cell_type": "code",
   "execution_count": 1,
   "metadata": {},
   "outputs": [],
   "source": [
    "import pandas as pd"
   ]
  },
  {
   "cell_type": "code",
   "execution_count": 2,
   "metadata": {},
   "outputs": [],
   "source": [
    "File = pd.read_csv(\"../../Data/final_data/training/geo_data/geo_training_data.csv\")"
   ]
  },
  {
   "cell_type": "code",
   "execution_count": 3,
   "metadata": {},
   "outputs": [],
   "source": [
    "a = pd.read_csv('./Weighted_data_nonscale.csv')"
   ]
  },
  {
   "cell_type": "code",
   "execution_count": 4,
   "metadata": {},
   "outputs": [
    {
     "name": "stdout",
     "output_type": "stream",
     "text": [
      "<class 'pandas.core.frame.DataFrame'>\n",
      "RangeIndex: 796 entries, 0 to 795\n",
      "Data columns (total 6 columns):\n",
      " #   Column                     Non-Null Count  Dtype  \n",
      "---  ------                     --------------  -----  \n",
      " 0   Hourly_Rainfall_Weight     796 non-null    float64\n",
      " 1   Impervious_Surface_Weight  796 non-null    float64\n",
      " 2   SLOPE_AVG_Weight           796 non-null    float64\n",
      " 3   HIGH_Weight                796 non-null    float64\n",
      " 4   F_WEIGHT                   796 non-null    float64\n",
      " 5   FLOOD                      796 non-null    int64  \n",
      "dtypes: float64(5), int64(1)\n",
      "memory usage: 37.4 KB\n"
     ]
    }
   ],
   "source": [
    "File.info()"
   ]
  },
  {
   "cell_type": "code",
   "execution_count": 5,
   "metadata": {},
   "outputs": [
    {
     "name": "stdout",
     "output_type": "stream",
     "text": [
      "<class 'pandas.core.frame.DataFrame'>\n",
      "RangeIndex: 796 entries, 0 to 795\n",
      "Data columns (total 8 columns):\n",
      " #   Column                     Non-Null Count  Dtype  \n",
      "---  ------                     --------------  -----  \n",
      " 0   Unnamed: 0                 796 non-null    int64  \n",
      " 1   PUMP_RATIO                 796 non-null    float64\n",
      " 2   Hourly_Rainfall_Weight     796 non-null    float64\n",
      " 3   Impervious_Surface_Weight  796 non-null    float64\n",
      " 4   SLOPE_AVG_Weight           796 non-null    float64\n",
      " 5   HIGH_Weight                796 non-null    float64\n",
      " 6   F_WEIGHT                   796 non-null    float64\n",
      " 7   FLOOD                      796 non-null    int64  \n",
      "dtypes: float64(6), int64(2)\n",
      "memory usage: 49.9 KB\n"
     ]
    }
   ],
   "source": [
    "a.info()"
   ]
  },
  {
   "cell_type": "code",
   "execution_count": 8,
   "metadata": {},
   "outputs": [],
   "source": [
    "a = a.drop(columns=['PUMP_RATIO','Unnamed: 0'])"
   ]
  },
  {
   "cell_type": "code",
   "execution_count": 9,
   "metadata": {},
   "outputs": [
    {
     "data": {
      "text/plain": [
       "Hourly_Rainfall_Weight       291\n",
       "Impervious_Surface_Weight    291\n",
       "SLOPE_AVG_Weight             291\n",
       "HIGH_Weight                  291\n",
       "F_WEIGHT                     291\n",
       "FLOOD                        291\n",
       "dtype: int64"
      ]
     },
     "execution_count": 9,
     "metadata": {},
     "output_type": "execute_result"
    }
   ],
   "source": [
    "a[a['FLOOD']==1].count()"
   ]
  },
  {
   "cell_type": "code",
   "execution_count": 10,
   "metadata": {},
   "outputs": [
    {
     "data": {
      "text/plain": [
       "Hourly_Rainfall_Weight       291\n",
       "Impervious_Surface_Weight    291\n",
       "SLOPE_AVG_Weight             291\n",
       "HIGH_Weight                  291\n",
       "F_WEIGHT                     291\n",
       "FLOOD                        291\n",
       "dtype: int64"
      ]
     },
     "execution_count": 10,
     "metadata": {},
     "output_type": "execute_result"
    }
   ],
   "source": [
    "File[File['FLOOD']==1].count()"
   ]
  },
  {
   "cell_type": "code",
   "execution_count": 14,
   "metadata": {},
   "outputs": [
    {
     "data": {
      "text/html": [
       "<div>\n",
       "<style scoped>\n",
       "    .dataframe tbody tr th:only-of-type {\n",
       "        vertical-align: middle;\n",
       "    }\n",
       "\n",
       "    .dataframe tbody tr th {\n",
       "        vertical-align: top;\n",
       "    }\n",
       "\n",
       "    .dataframe thead th {\n",
       "        text-align: right;\n",
       "    }\n",
       "</style>\n",
       "<table border=\"1\" class=\"dataframe\">\n",
       "  <thead>\n",
       "    <tr style=\"text-align: right;\">\n",
       "      <th></th>\n",
       "      <th>Hourly_Rainfall_Weight</th>\n",
       "      <th>Impervious_Surface_Weight</th>\n",
       "      <th>SLOPE_AVG_Weight</th>\n",
       "      <th>HIGH_Weight</th>\n",
       "      <th>F_WEIGHT</th>\n",
       "      <th>FLOOD</th>\n",
       "    </tr>\n",
       "  </thead>\n",
       "  <tbody>\n",
       "    <tr>\n",
       "      <th>795</th>\n",
       "      <td>0.573248</td>\n",
       "      <td>1.156156</td>\n",
       "      <td>21.608643</td>\n",
       "      <td>448.115108</td>\n",
       "      <td>0.016667</td>\n",
       "      <td>0</td>\n",
       "    </tr>\n",
       "    <tr>\n",
       "      <th>787</th>\n",
       "      <td>0.573248</td>\n",
       "      <td>1.156156</td>\n",
       "      <td>12.147570</td>\n",
       "      <td>0.025496</td>\n",
       "      <td>0.016667</td>\n",
       "      <td>0</td>\n",
       "    </tr>\n",
       "    <tr>\n",
       "      <th>764</th>\n",
       "      <td>0.573248</td>\n",
       "      <td>1.156156</td>\n",
       "      <td>2.699784</td>\n",
       "      <td>0.086285</td>\n",
       "      <td>0.016667</td>\n",
       "      <td>1</td>\n",
       "    </tr>\n",
       "    <tr>\n",
       "      <th>770</th>\n",
       "      <td>0.573248</td>\n",
       "      <td>1.156156</td>\n",
       "      <td>0.599952</td>\n",
       "      <td>0.059282</td>\n",
       "      <td>0.016667</td>\n",
       "      <td>1</td>\n",
       "    </tr>\n",
       "    <tr>\n",
       "      <th>772</th>\n",
       "      <td>0.573248</td>\n",
       "      <td>1.156156</td>\n",
       "      <td>2.699784</td>\n",
       "      <td>0.053253</td>\n",
       "      <td>0.016667</td>\n",
       "      <td>1</td>\n",
       "    </tr>\n",
       "    <tr>\n",
       "      <th>...</th>\n",
       "      <td>...</td>\n",
       "      <td>...</td>\n",
       "      <td>...</td>\n",
       "      <td>...</td>\n",
       "      <td>...</td>\n",
       "      <td>...</td>\n",
       "    </tr>\n",
       "    <tr>\n",
       "      <th>175</th>\n",
       "      <td>0.000000</td>\n",
       "      <td>0.442670</td>\n",
       "      <td>2.699784</td>\n",
       "      <td>0.117684</td>\n",
       "      <td>0.016667</td>\n",
       "      <td>0</td>\n",
       "    </tr>\n",
       "    <tr>\n",
       "      <th>39</th>\n",
       "      <td>0.000000</td>\n",
       "      <td>0.467342</td>\n",
       "      <td>0.599952</td>\n",
       "      <td>0.043080</td>\n",
       "      <td>0.075019</td>\n",
       "      <td>0</td>\n",
       "    </tr>\n",
       "    <tr>\n",
       "      <th>350</th>\n",
       "      <td>0.000000</td>\n",
       "      <td>0.690923</td>\n",
       "      <td>2.699784</td>\n",
       "      <td>0.033534</td>\n",
       "      <td>0.075019</td>\n",
       "      <td>0</td>\n",
       "    </tr>\n",
       "    <tr>\n",
       "      <th>179</th>\n",
       "      <td>0.000000</td>\n",
       "      <td>0.442670</td>\n",
       "      <td>0.599952</td>\n",
       "      <td>0.095956</td>\n",
       "      <td>0.016667</td>\n",
       "      <td>0</td>\n",
       "    </tr>\n",
       "    <tr>\n",
       "      <th>736</th>\n",
       "      <td>0.000000</td>\n",
       "      <td>0.301755</td>\n",
       "      <td>0.599952</td>\n",
       "      <td>0.034665</td>\n",
       "      <td>0.016667</td>\n",
       "      <td>0</td>\n",
       "    </tr>\n",
       "  </tbody>\n",
       "</table>\n",
       "<p>796 rows × 6 columns</p>\n",
       "</div>"
      ],
      "text/plain": [
       "     Hourly_Rainfall_Weight  Impervious_Surface_Weight  SLOPE_AVG_Weight  \\\n",
       "795                0.573248                   1.156156         21.608643   \n",
       "787                0.573248                   1.156156         12.147570   \n",
       "764                0.573248                   1.156156          2.699784   \n",
       "770                0.573248                   1.156156          0.599952   \n",
       "772                0.573248                   1.156156          2.699784   \n",
       "..                      ...                        ...               ...   \n",
       "175                0.000000                   0.442670          2.699784   \n",
       "39                 0.000000                   0.467342          0.599952   \n",
       "350                0.000000                   0.690923          2.699784   \n",
       "179                0.000000                   0.442670          0.599952   \n",
       "736                0.000000                   0.301755          0.599952   \n",
       "\n",
       "     HIGH_Weight  F_WEIGHT  FLOOD  \n",
       "795   448.115108  0.016667      0  \n",
       "787     0.025496  0.016667      0  \n",
       "764     0.086285  0.016667      1  \n",
       "770     0.059282  0.016667      1  \n",
       "772     0.053253  0.016667      1  \n",
       "..           ...       ...    ...  \n",
       "175     0.117684  0.016667      0  \n",
       "39      0.043080  0.075019      0  \n",
       "350     0.033534  0.075019      0  \n",
       "179     0.095956  0.016667      0  \n",
       "736     0.034665  0.016667      0  \n",
       "\n",
       "[796 rows x 6 columns]"
      ]
     },
     "execution_count": 14,
     "metadata": {},
     "output_type": "execute_result"
    }
   ],
   "source": [
    "a.sort_values('Hourly_Rainfall_Weight', ascending=False)"
   ]
  },
  {
   "cell_type": "code",
   "execution_count": 15,
   "metadata": {},
   "outputs": [
    {
     "data": {
      "text/html": [
       "<div>\n",
       "<style scoped>\n",
       "    .dataframe tbody tr th:only-of-type {\n",
       "        vertical-align: middle;\n",
       "    }\n",
       "\n",
       "    .dataframe tbody tr th {\n",
       "        vertical-align: top;\n",
       "    }\n",
       "\n",
       "    .dataframe thead th {\n",
       "        text-align: right;\n",
       "    }\n",
       "</style>\n",
       "<table border=\"1\" class=\"dataframe\">\n",
       "  <thead>\n",
       "    <tr style=\"text-align: right;\">\n",
       "      <th></th>\n",
       "      <th>Hourly_Rainfall_Weight</th>\n",
       "      <th>Impervious_Surface_Weight</th>\n",
       "      <th>SLOPE_AVG_Weight</th>\n",
       "      <th>HIGH_Weight</th>\n",
       "      <th>F_WEIGHT</th>\n",
       "      <th>FLOOD</th>\n",
       "    </tr>\n",
       "  </thead>\n",
       "  <tbody>\n",
       "    <tr>\n",
       "      <th>595</th>\n",
       "      <td>0.573248</td>\n",
       "      <td>1.156156</td>\n",
       "      <td>7.040000</td>\n",
       "      <td>115.950324</td>\n",
       "      <td>0.016667</td>\n",
       "      <td>0</td>\n",
       "    </tr>\n",
       "    <tr>\n",
       "      <th>592</th>\n",
       "      <td>0.573248</td>\n",
       "      <td>1.156156</td>\n",
       "      <td>21.608643</td>\n",
       "      <td>0.061794</td>\n",
       "      <td>0.016667</td>\n",
       "      <td>0</td>\n",
       "    </tr>\n",
       "    <tr>\n",
       "      <th>163</th>\n",
       "      <td>0.573248</td>\n",
       "      <td>1.156156</td>\n",
       "      <td>2.699784</td>\n",
       "      <td>0.053253</td>\n",
       "      <td>0.016667</td>\n",
       "      <td>1</td>\n",
       "    </tr>\n",
       "    <tr>\n",
       "      <th>169</th>\n",
       "      <td>0.573248</td>\n",
       "      <td>1.156156</td>\n",
       "      <td>2.699784</td>\n",
       "      <td>13.159136</td>\n",
       "      <td>0.016667</td>\n",
       "      <td>1</td>\n",
       "    </tr>\n",
       "    <tr>\n",
       "      <th>161</th>\n",
       "      <td>0.573248</td>\n",
       "      <td>1.156156</td>\n",
       "      <td>2.699784</td>\n",
       "      <td>0.025496</td>\n",
       "      <td>0.016667</td>\n",
       "      <td>1</td>\n",
       "    </tr>\n",
       "    <tr>\n",
       "      <th>...</th>\n",
       "      <td>...</td>\n",
       "      <td>...</td>\n",
       "      <td>...</td>\n",
       "      <td>...</td>\n",
       "      <td>...</td>\n",
       "      <td>...</td>\n",
       "    </tr>\n",
       "    <tr>\n",
       "      <th>140</th>\n",
       "      <td>0.000000</td>\n",
       "      <td>0.473500</td>\n",
       "      <td>2.699784</td>\n",
       "      <td>14.231827</td>\n",
       "      <td>0.016667</td>\n",
       "      <td>0</td>\n",
       "    </tr>\n",
       "    <tr>\n",
       "      <th>136</th>\n",
       "      <td>0.000000</td>\n",
       "      <td>0.473500</td>\n",
       "      <td>2.699784</td>\n",
       "      <td>96.414687</td>\n",
       "      <td>0.016667</td>\n",
       "      <td>0</td>\n",
       "    </tr>\n",
       "    <tr>\n",
       "      <th>132</th>\n",
       "      <td>0.000000</td>\n",
       "      <td>0.473500</td>\n",
       "      <td>2.699784</td>\n",
       "      <td>0.086410</td>\n",
       "      <td>0.016667</td>\n",
       "      <td>0</td>\n",
       "    </tr>\n",
       "    <tr>\n",
       "      <th>128</th>\n",
       "      <td>0.000000</td>\n",
       "      <td>0.473500</td>\n",
       "      <td>2.699784</td>\n",
       "      <td>0.190404</td>\n",
       "      <td>0.016667</td>\n",
       "      <td>0</td>\n",
       "    </tr>\n",
       "    <tr>\n",
       "      <th>190</th>\n",
       "      <td>0.000000</td>\n",
       "      <td>0.442670</td>\n",
       "      <td>0.599952</td>\n",
       "      <td>0.097337</td>\n",
       "      <td>0.016667</td>\n",
       "      <td>0</td>\n",
       "    </tr>\n",
       "  </tbody>\n",
       "</table>\n",
       "<p>796 rows × 6 columns</p>\n",
       "</div>"
      ],
      "text/plain": [
       "     Hourly_Rainfall_Weight  Impervious_Surface_Weight  SLOPE_AVG_Weight  \\\n",
       "595                0.573248                   1.156156          7.040000   \n",
       "592                0.573248                   1.156156         21.608643   \n",
       "163                0.573248                   1.156156          2.699784   \n",
       "169                0.573248                   1.156156          2.699784   \n",
       "161                0.573248                   1.156156          2.699784   \n",
       "..                      ...                        ...               ...   \n",
       "140                0.000000                   0.473500          2.699784   \n",
       "136                0.000000                   0.473500          2.699784   \n",
       "132                0.000000                   0.473500          2.699784   \n",
       "128                0.000000                   0.473500          2.699784   \n",
       "190                0.000000                   0.442670          0.599952   \n",
       "\n",
       "     HIGH_Weight  F_WEIGHT  FLOOD  \n",
       "595   115.950324  0.016667      0  \n",
       "592     0.061794  0.016667      0  \n",
       "163     0.053253  0.016667      1  \n",
       "169    13.159136  0.016667      1  \n",
       "161     0.025496  0.016667      1  \n",
       "..           ...       ...    ...  \n",
       "140    14.231827  0.016667      0  \n",
       "136    96.414687  0.016667      0  \n",
       "132     0.086410  0.016667      0  \n",
       "128     0.190404  0.016667      0  \n",
       "190     0.097337  0.016667      0  \n",
       "\n",
       "[796 rows x 6 columns]"
      ]
     },
     "execution_count": 15,
     "metadata": {},
     "output_type": "execute_result"
    }
   ],
   "source": [
    "File.sort_values('Hourly_Rainfall_Weight', ascending=False)"
   ]
  },
  {
   "cell_type": "code",
   "execution_count": 19,
   "metadata": {},
   "outputs": [
    {
     "data": {
      "text/plain": [
       "Hourly_Rainfall_Weight       0\n",
       "Impervious_Surface_Weight    0\n",
       "SLOPE_AVG_Weight             0\n",
       "HIGH_Weight                  0\n",
       "F_WEIGHT                     0\n",
       "FLOOD                        0\n",
       "dtype: int64"
      ]
     },
     "execution_count": 19,
     "metadata": {},
     "output_type": "execute_result"
    }
   ],
   "source": [
    "a[a['Hourly_Rainfall_Weight']==0.573248].count()"
   ]
  },
  {
   "cell_type": "code",
   "execution_count": 20,
   "metadata": {},
   "outputs": [
    {
     "data": {
      "text/plain": [
       "Hourly_Rainfall_Weight       0\n",
       "Impervious_Surface_Weight    0\n",
       "SLOPE_AVG_Weight             0\n",
       "HIGH_Weight                  0\n",
       "F_WEIGHT                     0\n",
       "FLOOD                        0\n",
       "dtype: int64"
      ]
     },
     "execution_count": 20,
     "metadata": {},
     "output_type": "execute_result"
    }
   ],
   "source": [
    "File[File['Hourly_Rainfall_Weight']==0.573248].count()"
   ]
  },
  {
   "cell_type": "code",
   "execution_count": 23,
   "metadata": {},
   "outputs": [],
   "source": [
    "testa = a.groupby('Hourly_Rainfall_Weight').count()['FLOOD']\n",
    "testb = File.groupby('Hourly_Rainfall_Weight').count()['FLOOD']"
   ]
  },
  {
   "cell_type": "code",
   "execution_count": null,
   "metadata": {},
   "outputs": [],
   "source": []
  }
 ],
 "metadata": {
  "kernelspec": {
   "display_name": "Python 3",
   "language": "python",
   "name": "python3"
  },
  "language_info": {
   "codemirror_mode": {
    "name": "ipython",
    "version": 3
   },
   "file_extension": ".py",
   "mimetype": "text/x-python",
   "name": "python",
   "nbconvert_exporter": "python",
   "pygments_lexer": "ipython3",
   "version": "3.7.6"
  }
 },
 "nbformat": 4,
 "nbformat_minor": 4
}

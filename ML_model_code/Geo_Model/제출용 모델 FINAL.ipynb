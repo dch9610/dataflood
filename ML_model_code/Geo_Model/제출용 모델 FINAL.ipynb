{
 "cells": [
  {
   "cell_type": "markdown",
   "metadata": {},
   "source": [
    "# 필요 라이브러리 import"
   ]
  },
  {
   "cell_type": "code",
   "execution_count": 248,
   "metadata": {},
   "outputs": [],
   "source": [
    "import pandas as pd                                          #데이터 분석 라이브러리\n",
    "from sklearn.decomposition import PCA                        #주성분 분석 라이브러리\n",
    "import numpy as np                                           # 계산 라이브러리\n",
    "from sklearn.preprocessing import MinMaxScaler               # scale 라이브러리\n",
    "from sklearn.preprocessing import StandardScaler               # scale 라이브러리\n",
    "\n",
    "\n",
    "from sklearn.model_selection import train_test_split         # 데이터 분할 라이브러리\n",
    "from sklearn.model_selection import cross_validate           # Kfold 라이브러리\n",
    "from sklearn.model_selection import cross_val_score          # Kfold 라이브러리\n",
    "from sklearn.model_selection import StratifiedKFold          # Kfold 라이브러리\n",
    "\n",
    "\n",
    "from sklearn.neighbors import KNeighborsClassifier           # KNN 라이브러리\n",
    "from sklearn.svm import SVC                                  # SVM Classifier 라이브러리\n",
    "from sklearn.tree import DecisionTreeClassifier              # 결정나무분류 라이브러리\n",
    "from sklearn.linear_model import LogisticRegression          # 로지스틱 회귀 라이브러리\n",
    "from bayes_opt import BayesianOptimization                   # 베이시안 라이브러리   \n",
    "\n",
    "\n",
    "from sklearn.metrics import make_scorer                      # 평가용 라이브러리\n",
    "from sklearn.metrics import f1_score                         # f1  라이브러리\n",
    "from sklearn.metrics import accuracy_score                   # accuracy 라이브러리 \n",
    "\n",
    "\n",
    "\n",
    "import matplotlib.pyplot as plt                              # 그래프 라이브러리\n",
    "from sklearn.ensemble import VotingClassifier                # 보팅 앙상블 라이브러리\n",
    "import seaborn as sns                                        # boxplot 을 위한 라이브러리"
   ]
  },
  {
   "cell_type": "markdown",
   "metadata": {},
   "source": [
    "# data 불러오기"
   ]
  },
  {
   "cell_type": "code",
   "execution_count": 249,
   "metadata": {},
   "outputs": [],
   "source": [
    "# 데이터 불러오기\n",
    "File = pd.read_csv(\"../../Data/final_data/training/geo_data/geo_training_data.csv\")"
   ]
  },
  {
   "cell_type": "code",
   "execution_count": 250,
   "metadata": {},
   "outputs": [
    {
     "data": {
      "text/html": [
       "<div>\n",
       "<style scoped>\n",
       "    .dataframe tbody tr th:only-of-type {\n",
       "        vertical-align: middle;\n",
       "    }\n",
       "\n",
       "    .dataframe tbody tr th {\n",
       "        vertical-align: top;\n",
       "    }\n",
       "\n",
       "    .dataframe thead th {\n",
       "        text-align: right;\n",
       "    }\n",
       "</style>\n",
       "<table border=\"1\" class=\"dataframe\">\n",
       "  <thead>\n",
       "    <tr style=\"text-align: right;\">\n",
       "      <th></th>\n",
       "      <th>PUMP_RATIO</th>\n",
       "      <th>Hourly_Rainfall_Weight</th>\n",
       "      <th>Impervious_Surface_Weight</th>\n",
       "      <th>SLOPE_AVG_Weight</th>\n",
       "      <th>HIGH_Weight</th>\n",
       "      <th>F_WEIGHT</th>\n",
       "      <th>FLOOD</th>\n",
       "    </tr>\n",
       "  </thead>\n",
       "  <tbody>\n",
       "    <tr>\n",
       "      <th>0</th>\n",
       "      <td>4.115226e-07</td>\n",
       "      <td>0.104348</td>\n",
       "      <td>0.467342</td>\n",
       "      <td>0.599952</td>\n",
       "      <td>0.045968</td>\n",
       "      <td>0.075019</td>\n",
       "      <td>0</td>\n",
       "    </tr>\n",
       "    <tr>\n",
       "      <th>1</th>\n",
       "      <td>4.115226e-07</td>\n",
       "      <td>0.208696</td>\n",
       "      <td>0.467342</td>\n",
       "      <td>0.599952</td>\n",
       "      <td>0.045968</td>\n",
       "      <td>0.075019</td>\n",
       "      <td>0</td>\n",
       "    </tr>\n",
       "    <tr>\n",
       "      <th>2</th>\n",
       "      <td>4.115226e-07</td>\n",
       "      <td>0.259722</td>\n",
       "      <td>0.467342</td>\n",
       "      <td>0.599952</td>\n",
       "      <td>0.045968</td>\n",
       "      <td>0.075019</td>\n",
       "      <td>1</td>\n",
       "    </tr>\n",
       "    <tr>\n",
       "      <th>3</th>\n",
       "      <td>4.115226e-07</td>\n",
       "      <td>0.010870</td>\n",
       "      <td>0.467342</td>\n",
       "      <td>2.699784</td>\n",
       "      <td>0.072218</td>\n",
       "      <td>0.075019</td>\n",
       "      <td>0</td>\n",
       "    </tr>\n",
       "    <tr>\n",
       "      <th>4</th>\n",
       "      <td>4.115226e-07</td>\n",
       "      <td>0.108696</td>\n",
       "      <td>0.467342</td>\n",
       "      <td>2.699784</td>\n",
       "      <td>0.072218</td>\n",
       "      <td>0.075019</td>\n",
       "      <td>1</td>\n",
       "    </tr>\n",
       "    <tr>\n",
       "      <th>...</th>\n",
       "      <td>...</td>\n",
       "      <td>...</td>\n",
       "      <td>...</td>\n",
       "      <td>...</td>\n",
       "      <td>...</td>\n",
       "      <td>...</td>\n",
       "      <td>...</td>\n",
       "    </tr>\n",
       "    <tr>\n",
       "      <th>791</th>\n",
       "      <td>1.364381e-08</td>\n",
       "      <td>0.573248</td>\n",
       "      <td>1.156156</td>\n",
       "      <td>7.040000</td>\n",
       "      <td>115.950324</td>\n",
       "      <td>0.016667</td>\n",
       "      <td>0</td>\n",
       "    </tr>\n",
       "    <tr>\n",
       "      <th>792</th>\n",
       "      <td>1.364381e-08</td>\n",
       "      <td>0.573248</td>\n",
       "      <td>1.156156</td>\n",
       "      <td>21.608643</td>\n",
       "      <td>13.159136</td>\n",
       "      <td>0.016667</td>\n",
       "      <td>0</td>\n",
       "    </tr>\n",
       "    <tr>\n",
       "      <th>793</th>\n",
       "      <td>1.364381e-08</td>\n",
       "      <td>0.573248</td>\n",
       "      <td>1.156156</td>\n",
       "      <td>12.147570</td>\n",
       "      <td>0.066817</td>\n",
       "      <td>0.016667</td>\n",
       "      <td>0</td>\n",
       "    </tr>\n",
       "    <tr>\n",
       "      <th>794</th>\n",
       "      <td>1.364381e-08</td>\n",
       "      <td>0.573248</td>\n",
       "      <td>1.156156</td>\n",
       "      <td>21.608643</td>\n",
       "      <td>0.061794</td>\n",
       "      <td>0.016667</td>\n",
       "      <td>0</td>\n",
       "    </tr>\n",
       "    <tr>\n",
       "      <th>795</th>\n",
       "      <td>1.364381e-08</td>\n",
       "      <td>0.573248</td>\n",
       "      <td>1.156156</td>\n",
       "      <td>21.608643</td>\n",
       "      <td>448.115108</td>\n",
       "      <td>0.016667</td>\n",
       "      <td>0</td>\n",
       "    </tr>\n",
       "  </tbody>\n",
       "</table>\n",
       "<p>796 rows × 7 columns</p>\n",
       "</div>"
      ],
      "text/plain": [
       "       PUMP_RATIO  Hourly_Rainfall_Weight  Impervious_Surface_Weight  \\\n",
       "0    4.115226e-07                0.104348                   0.467342   \n",
       "1    4.115226e-07                0.208696                   0.467342   \n",
       "2    4.115226e-07                0.259722                   0.467342   \n",
       "3    4.115226e-07                0.010870                   0.467342   \n",
       "4    4.115226e-07                0.108696                   0.467342   \n",
       "..            ...                     ...                        ...   \n",
       "791  1.364381e-08                0.573248                   1.156156   \n",
       "792  1.364381e-08                0.573248                   1.156156   \n",
       "793  1.364381e-08                0.573248                   1.156156   \n",
       "794  1.364381e-08                0.573248                   1.156156   \n",
       "795  1.364381e-08                0.573248                   1.156156   \n",
       "\n",
       "     SLOPE_AVG_Weight  HIGH_Weight  F_WEIGHT  FLOOD  \n",
       "0            0.599952     0.045968  0.075019      0  \n",
       "1            0.599952     0.045968  0.075019      0  \n",
       "2            0.599952     0.045968  0.075019      1  \n",
       "3            2.699784     0.072218  0.075019      0  \n",
       "4            2.699784     0.072218  0.075019      1  \n",
       "..                ...          ...       ...    ...  \n",
       "791          7.040000   115.950324  0.016667      0  \n",
       "792         21.608643    13.159136  0.016667      0  \n",
       "793         12.147570     0.066817  0.016667      0  \n",
       "794         21.608643     0.061794  0.016667      0  \n",
       "795         21.608643   448.115108  0.016667      0  \n",
       "\n",
       "[796 rows x 7 columns]"
      ]
     },
     "execution_count": 250,
     "metadata": {},
     "output_type": "execute_result"
    }
   ],
   "source": [
    "File"
   ]
  },
  {
   "cell_type": "code",
   "execution_count": 251,
   "metadata": {},
   "outputs": [],
   "source": [
    "#File = File.sample(frac=1).reset_index(drop=True)"
   ]
  },
  {
   "cell_type": "code",
   "execution_count": 252,
   "metadata": {},
   "outputs": [],
   "source": [
    "Floodfile = File.drop(['FLOOD'], axis = 1)  # 필요 독립변수\n",
    "Floodclass = File['FLOOD']                                            # 종속 변수 "
   ]
  },
  {
   "cell_type": "code",
   "execution_count": 253,
   "metadata": {},
   "outputs": [
    {
     "data": {
      "text/html": [
       "<div>\n",
       "<style scoped>\n",
       "    .dataframe tbody tr th:only-of-type {\n",
       "        vertical-align: middle;\n",
       "    }\n",
       "\n",
       "    .dataframe tbody tr th {\n",
       "        vertical-align: top;\n",
       "    }\n",
       "\n",
       "    .dataframe thead th {\n",
       "        text-align: right;\n",
       "    }\n",
       "</style>\n",
       "<table border=\"1\" class=\"dataframe\">\n",
       "  <thead>\n",
       "    <tr style=\"text-align: right;\">\n",
       "      <th></th>\n",
       "      <th>PUMP_RATIO</th>\n",
       "      <th>Hourly_Rainfall_Weight</th>\n",
       "      <th>Impervious_Surface_Weight</th>\n",
       "      <th>SLOPE_AVG_Weight</th>\n",
       "      <th>HIGH_Weight</th>\n",
       "      <th>F_WEIGHT</th>\n",
       "    </tr>\n",
       "  </thead>\n",
       "  <tbody>\n",
       "    <tr>\n",
       "      <th>0</th>\n",
       "      <td>4.115226e-07</td>\n",
       "      <td>0.104348</td>\n",
       "      <td>0.467342</td>\n",
       "      <td>0.599952</td>\n",
       "      <td>0.045968</td>\n",
       "      <td>0.075019</td>\n",
       "    </tr>\n",
       "    <tr>\n",
       "      <th>1</th>\n",
       "      <td>4.115226e-07</td>\n",
       "      <td>0.208696</td>\n",
       "      <td>0.467342</td>\n",
       "      <td>0.599952</td>\n",
       "      <td>0.045968</td>\n",
       "      <td>0.075019</td>\n",
       "    </tr>\n",
       "    <tr>\n",
       "      <th>2</th>\n",
       "      <td>4.115226e-07</td>\n",
       "      <td>0.259722</td>\n",
       "      <td>0.467342</td>\n",
       "      <td>0.599952</td>\n",
       "      <td>0.045968</td>\n",
       "      <td>0.075019</td>\n",
       "    </tr>\n",
       "    <tr>\n",
       "      <th>3</th>\n",
       "      <td>4.115226e-07</td>\n",
       "      <td>0.010870</td>\n",
       "      <td>0.467342</td>\n",
       "      <td>2.699784</td>\n",
       "      <td>0.072218</td>\n",
       "      <td>0.075019</td>\n",
       "    </tr>\n",
       "    <tr>\n",
       "      <th>4</th>\n",
       "      <td>4.115226e-07</td>\n",
       "      <td>0.108696</td>\n",
       "      <td>0.467342</td>\n",
       "      <td>2.699784</td>\n",
       "      <td>0.072218</td>\n",
       "      <td>0.075019</td>\n",
       "    </tr>\n",
       "    <tr>\n",
       "      <th>...</th>\n",
       "      <td>...</td>\n",
       "      <td>...</td>\n",
       "      <td>...</td>\n",
       "      <td>...</td>\n",
       "      <td>...</td>\n",
       "      <td>...</td>\n",
       "    </tr>\n",
       "    <tr>\n",
       "      <th>791</th>\n",
       "      <td>1.364381e-08</td>\n",
       "      <td>0.573248</td>\n",
       "      <td>1.156156</td>\n",
       "      <td>7.040000</td>\n",
       "      <td>115.950324</td>\n",
       "      <td>0.016667</td>\n",
       "    </tr>\n",
       "    <tr>\n",
       "      <th>792</th>\n",
       "      <td>1.364381e-08</td>\n",
       "      <td>0.573248</td>\n",
       "      <td>1.156156</td>\n",
       "      <td>21.608643</td>\n",
       "      <td>13.159136</td>\n",
       "      <td>0.016667</td>\n",
       "    </tr>\n",
       "    <tr>\n",
       "      <th>793</th>\n",
       "      <td>1.364381e-08</td>\n",
       "      <td>0.573248</td>\n",
       "      <td>1.156156</td>\n",
       "      <td>12.147570</td>\n",
       "      <td>0.066817</td>\n",
       "      <td>0.016667</td>\n",
       "    </tr>\n",
       "    <tr>\n",
       "      <th>794</th>\n",
       "      <td>1.364381e-08</td>\n",
       "      <td>0.573248</td>\n",
       "      <td>1.156156</td>\n",
       "      <td>21.608643</td>\n",
       "      <td>0.061794</td>\n",
       "      <td>0.016667</td>\n",
       "    </tr>\n",
       "    <tr>\n",
       "      <th>795</th>\n",
       "      <td>1.364381e-08</td>\n",
       "      <td>0.573248</td>\n",
       "      <td>1.156156</td>\n",
       "      <td>21.608643</td>\n",
       "      <td>448.115108</td>\n",
       "      <td>0.016667</td>\n",
       "    </tr>\n",
       "  </tbody>\n",
       "</table>\n",
       "<p>796 rows × 6 columns</p>\n",
       "</div>"
      ],
      "text/plain": [
       "       PUMP_RATIO  Hourly_Rainfall_Weight  Impervious_Surface_Weight  \\\n",
       "0    4.115226e-07                0.104348                   0.467342   \n",
       "1    4.115226e-07                0.208696                   0.467342   \n",
       "2    4.115226e-07                0.259722                   0.467342   \n",
       "3    4.115226e-07                0.010870                   0.467342   \n",
       "4    4.115226e-07                0.108696                   0.467342   \n",
       "..            ...                     ...                        ...   \n",
       "791  1.364381e-08                0.573248                   1.156156   \n",
       "792  1.364381e-08                0.573248                   1.156156   \n",
       "793  1.364381e-08                0.573248                   1.156156   \n",
       "794  1.364381e-08                0.573248                   1.156156   \n",
       "795  1.364381e-08                0.573248                   1.156156   \n",
       "\n",
       "     SLOPE_AVG_Weight  HIGH_Weight  F_WEIGHT  \n",
       "0            0.599952     0.045968  0.075019  \n",
       "1            0.599952     0.045968  0.075019  \n",
       "2            0.599952     0.045968  0.075019  \n",
       "3            2.699784     0.072218  0.075019  \n",
       "4            2.699784     0.072218  0.075019  \n",
       "..                ...          ...       ...  \n",
       "791          7.040000   115.950324  0.016667  \n",
       "792         21.608643    13.159136  0.016667  \n",
       "793         12.147570     0.066817  0.016667  \n",
       "794         21.608643     0.061794  0.016667  \n",
       "795         21.608643   448.115108  0.016667  \n",
       "\n",
       "[796 rows x 6 columns]"
      ]
     },
     "execution_count": 253,
     "metadata": {},
     "output_type": "execute_result"
    }
   ],
   "source": [
    "Floodfile"
   ]
  },
  {
   "cell_type": "markdown",
   "metadata": {},
   "source": [
    "# minmaxscaler\n",
    "## data scale 과정"
   ]
  },
  {
   "cell_type": "code",
   "execution_count": 254,
   "metadata": {},
   "outputs": [],
   "source": [
    "scaler = MinMaxScaler()\n",
    "scaler.fit(Floodfile)\n",
    "Floodfile = scaler.transform(Floodfile)  # data sclae 과정 -> minmaxscaler 를 통해 0~1의 값으로 변환"
   ]
  },
  {
   "cell_type": "code",
   "execution_count": 255,
   "metadata": {},
   "outputs": [
    {
     "data": {
      "text/plain": [
       "array([[3.97878882e-06, 1.82028986e-01, 1.93804093e-01, 0.00000000e+00,\n",
       "        2.74362826e-05, 4.37886848e-01],\n",
       "       [3.97878882e-06, 3.64057971e-01, 1.93804093e-01, 0.00000000e+00,\n",
       "        2.74362826e-05, 4.37886848e-01],\n",
       "       [3.97878882e-06, 4.53070988e-01, 1.93804093e-01, 0.00000000e+00,\n",
       "        2.74362826e-05, 4.37886848e-01],\n",
       "       ...,\n",
       "       [0.00000000e+00, 1.00000000e+00, 1.00000000e+00, 5.49659102e-01,\n",
       "        4.09911127e-05, 0.00000000e+00],\n",
       "       [0.00000000e+00, 1.00000000e+00, 1.00000000e+00, 1.00000000e+00,\n",
       "        3.77248886e-05, 0.00000000e+00],\n",
       "       [0.00000000e+00, 1.00000000e+00, 1.00000000e+00, 1.00000000e+00,\n",
       "        2.91335963e-01, 0.00000000e+00]])"
      ]
     },
     "execution_count": 255,
     "metadata": {},
     "output_type": "execute_result"
    }
   ],
   "source": [
    "Floodfile"
   ]
  },
  {
   "cell_type": "markdown",
   "metadata": {},
   "source": [
    "# PCA"
   ]
  },
  {
   "cell_type": "code",
   "execution_count": 256,
   "metadata": {},
   "outputs": [],
   "source": [
    "pca = PCA(n_components=4)  # 주성분 분석 후 -> 주성분을 몇개로 할지 결정\n",
    "printcipalComponents = pca.fit_transform(Floodfile)  \n",
    "Floodfile = pd.DataFrame(data=printcipalComponents, columns = ['principal component1', 'principal component2','principal component3','principal component4'])\n",
    "# pca를 통해 나온 4가지 주성분을 독립변수로 사용하도록 데이터 변형"
   ]
  },
  {
   "cell_type": "code",
   "execution_count": 257,
   "metadata": {},
   "outputs": [
    {
     "data": {
      "text/html": [
       "<div>\n",
       "<style scoped>\n",
       "    .dataframe tbody tr th:only-of-type {\n",
       "        vertical-align: middle;\n",
       "    }\n",
       "\n",
       "    .dataframe tbody tr th {\n",
       "        vertical-align: top;\n",
       "    }\n",
       "\n",
       "    .dataframe thead th {\n",
       "        text-align: right;\n",
       "    }\n",
       "</style>\n",
       "<table border=\"1\" class=\"dataframe\">\n",
       "  <thead>\n",
       "    <tr style=\"text-align: right;\">\n",
       "      <th></th>\n",
       "      <th>principal component1</th>\n",
       "      <th>principal component2</th>\n",
       "      <th>principal component3</th>\n",
       "      <th>principal component4</th>\n",
       "    </tr>\n",
       "  </thead>\n",
       "  <tbody>\n",
       "    <tr>\n",
       "      <th>0</th>\n",
       "      <td>-0.011940</td>\n",
       "      <td>0.141868</td>\n",
       "      <td>-0.346867</td>\n",
       "      <td>0.120298</td>\n",
       "    </tr>\n",
       "    <tr>\n",
       "      <th>1</th>\n",
       "      <td>-0.034011</td>\n",
       "      <td>0.137298</td>\n",
       "      <td>-0.260972</td>\n",
       "      <td>-0.035119</td>\n",
       "    </tr>\n",
       "    <tr>\n",
       "      <th>2</th>\n",
       "      <td>-0.044803</td>\n",
       "      <td>0.135063</td>\n",
       "      <td>-0.218968</td>\n",
       "      <td>-0.111119</td>\n",
       "    </tr>\n",
       "    <tr>\n",
       "      <th>3</th>\n",
       "      <td>-0.003553</td>\n",
       "      <td>0.115147</td>\n",
       "      <td>-0.344956</td>\n",
       "      <td>0.306535</td>\n",
       "    </tr>\n",
       "    <tr>\n",
       "      <th>4</th>\n",
       "      <td>-0.024245</td>\n",
       "      <td>0.110863</td>\n",
       "      <td>-0.264429</td>\n",
       "      <td>0.160832</td>\n",
       "    </tr>\n",
       "    <tr>\n",
       "      <th>...</th>\n",
       "      <td>...</td>\n",
       "      <td>...</td>\n",
       "      <td>...</td>\n",
       "      <td>...</td>\n",
       "    </tr>\n",
       "    <tr>\n",
       "      <th>791</th>\n",
       "      <td>-0.459173</td>\n",
       "      <td>0.036658</td>\n",
       "      <td>0.376578</td>\n",
       "      <td>-0.516097</td>\n",
       "    </tr>\n",
       "    <tr>\n",
       "      <th>792</th>\n",
       "      <td>-0.532985</td>\n",
       "      <td>-0.169149</td>\n",
       "      <td>0.914837</td>\n",
       "      <td>-0.197536</td>\n",
       "    </tr>\n",
       "    <tr>\n",
       "      <th>793</th>\n",
       "      <td>-0.481033</td>\n",
       "      <td>-0.029302</td>\n",
       "      <td>0.558410</td>\n",
       "      <td>-0.410303</td>\n",
       "    </tr>\n",
       "    <tr>\n",
       "      <th>794</th>\n",
       "      <td>-0.532326</td>\n",
       "      <td>-0.168134</td>\n",
       "      <td>0.913709</td>\n",
       "      <td>-0.198502</td>\n",
       "    </tr>\n",
       "    <tr>\n",
       "      <th>795</th>\n",
       "      <td>-0.554868</td>\n",
       "      <td>-0.202886</td>\n",
       "      <td>0.952283</td>\n",
       "      <td>-0.165452</td>\n",
       "    </tr>\n",
       "  </tbody>\n",
       "</table>\n",
       "<p>796 rows × 4 columns</p>\n",
       "</div>"
      ],
      "text/plain": [
       "     principal component1  principal component2  principal component3  \\\n",
       "0               -0.011940              0.141868             -0.346867   \n",
       "1               -0.034011              0.137298             -0.260972   \n",
       "2               -0.044803              0.135063             -0.218968   \n",
       "3               -0.003553              0.115147             -0.344956   \n",
       "4               -0.024245              0.110863             -0.264429   \n",
       "..                    ...                   ...                   ...   \n",
       "791             -0.459173              0.036658              0.376578   \n",
       "792             -0.532985             -0.169149              0.914837   \n",
       "793             -0.481033             -0.029302              0.558410   \n",
       "794             -0.532326             -0.168134              0.913709   \n",
       "795             -0.554868             -0.202886              0.952283   \n",
       "\n",
       "     principal component4  \n",
       "0                0.120298  \n",
       "1               -0.035119  \n",
       "2               -0.111119  \n",
       "3                0.306535  \n",
       "4                0.160832  \n",
       "..                    ...  \n",
       "791             -0.516097  \n",
       "792             -0.197536  \n",
       "793             -0.410303  \n",
       "794             -0.198502  \n",
       "795             -0.165452  \n",
       "\n",
       "[796 rows x 4 columns]"
      ]
     },
     "execution_count": 257,
     "metadata": {},
     "output_type": "execute_result"
    }
   ],
   "source": [
    "Floodfile"
   ]
  },
  {
   "cell_type": "markdown",
   "metadata": {},
   "source": [
    "# data split\n",
    "## 8 : 2 으로 training 과 test 구분"
   ]
  },
  {
   "cell_type": "code",
   "execution_count": 258,
   "metadata": {},
   "outputs": [],
   "source": [
    "x_train, x_test, y_train, y_test = train_test_split(Floodfile, Floodclass , test_size=0.2, random_state=400)"
   ]
  },
  {
   "cell_type": "markdown",
   "metadata": {},
   "source": [
    "# BayesianOptimization"
   ]
  },
  {
   "cell_type": "code",
   "execution_count": 259,
   "metadata": {},
   "outputs": [],
   "source": [
    "skfolds=StratifiedKFold(n_splits=5, random_state=400 ,shuffle = True)\n",
    "\n",
    "# 베이지안최적화과정에서 Kfold 를 사용하기위해 설정"
   ]
  },
  {
   "cell_type": "markdown",
   "metadata": {},
   "source": [
    "## KNN"
   ]
  },
  {
   "cell_type": "code",
   "execution_count": 260,
   "metadata": {},
   "outputs": [
    {
     "name": "stdout",
     "output_type": "stream",
     "text": [
      "|   iter    |  target   |     k     |   leaf    |\n",
      "-------------------------------------------------\n",
      "| \u001b[0m 1       \u001b[0m | \u001b[0m 0.7923  \u001b[0m | \u001b[0m 39.25   \u001b[0m | \u001b[0m 2.017   \u001b[0m |\n",
      "| \u001b[0m 2       \u001b[0m | \u001b[0m 0.7906  \u001b[0m | \u001b[0m 26.48   \u001b[0m | \u001b[0m 25.79   \u001b[0m |\n",
      "| \u001b[0m 3       \u001b[0m | \u001b[0m 0.7639  \u001b[0m | \u001b[0m 3.842   \u001b[0m | \u001b[0m 1.058   \u001b[0m |\n",
      "| \u001b[0m 4       \u001b[0m | \u001b[0m 0.7854  \u001b[0m | \u001b[0m 49.9    \u001b[0m | \u001b[0m 49.91   \u001b[0m |\n",
      "| \u001b[0m 5       \u001b[0m | \u001b[0m 0.7892  \u001b[0m | \u001b[0m 38.91   \u001b[0m | \u001b[0m 6.17    \u001b[0m |\n",
      "| \u001b[0m 6       \u001b[0m | \u001b[0m 0.7638  \u001b[0m | \u001b[0m 3.787   \u001b[0m | \u001b[0m 49.76   \u001b[0m |\n",
      "| \u001b[0m 7       \u001b[0m | \u001b[0m 0.7892  \u001b[0m | \u001b[0m 28.82   \u001b[0m | \u001b[0m 49.87   \u001b[0m |\n",
      "| \u001b[0m 8       \u001b[0m | \u001b[0m 0.7923  \u001b[0m | \u001b[0m 35.44   \u001b[0m | \u001b[0m 3.554   \u001b[0m |\n",
      "| \u001b[0m 9       \u001b[0m | \u001b[0m 0.7906  \u001b[0m | \u001b[0m 36.96   \u001b[0m | \u001b[0m 37.93   \u001b[0m |\n",
      "| \u001b[0m 10      \u001b[0m | \u001b[0m 0.7823  \u001b[0m | \u001b[0m 24.95   \u001b[0m | \u001b[0m 1.027   \u001b[0m |\n",
      "| \u001b[0m 11      \u001b[0m | \u001b[0m 0.7624  \u001b[0m | \u001b[0m 3.019   \u001b[0m | \u001b[0m 25.39   \u001b[0m |\n",
      "| \u001b[0m 12      \u001b[0m | \u001b[0m 0.783   \u001b[0m | \u001b[0m 22.84   \u001b[0m | \u001b[0m 38.94   \u001b[0m |\n",
      "| \u001b[0m 13      \u001b[0m | \u001b[0m 0.7923  \u001b[0m | \u001b[0m 39.91   \u001b[0m | \u001b[0m 49.89   \u001b[0m |\n",
      "| \u001b[0m 14      \u001b[0m | \u001b[0m 0.7909  \u001b[0m | \u001b[0m 34.86   \u001b[0m | \u001b[0m 24.6    \u001b[0m |\n",
      "| \u001b[0m 15      \u001b[0m | \u001b[0m 0.7907  \u001b[0m | \u001b[0m 29.71   \u001b[0m | \u001b[0m 17.27   \u001b[0m |\n",
      "| \u001b[0m 16      \u001b[0m | \u001b[0m 0.7906  \u001b[0m | \u001b[0m 36.17   \u001b[0m | \u001b[0m 1.072   \u001b[0m |\n",
      "=================================================\n"
     ]
    }
   ],
   "source": [
    "KNN_search_point = {'k': (3,50), 'leaf': (1,50)}  # 각 옵션들의 범위를 정해줌\n",
    "\n",
    "gp_params = {\"alpha\":1e-10}\n",
    "scores_all = []\n",
    "k_all = []\n",
    "leaf_all=[]\n",
    "\n",
    "def KNN_opt(k,leaf):\n",
    "    cvscores = []\n",
    "    \n",
    "    for train_index, val_index in skfolds.split(x_train, y_train):\n",
    "\n",
    "        x_skftrain, x_val = x_train.values[train_index], x_train.values[val_index]\n",
    "        Y_skftrain, Y_val = np.array(y_train)[train_index],np.array(y_train)[val_index]\n",
    "        # train 데이터를 5fold 를 사용해 검증하며 옵션 최적값 탐색을 위해 데이터 분할\n",
    "        \n",
    "        KNNmodel = KNeighborsClassifier(n_neighbors = int(k),weights = 'distance', leaf_size= leaf ) \n",
    "        # KNN 모델에 사용되는 옵션들의 최적값 탐색  \n",
    "        \n",
    "        KNNmodel2 = KNNmodel.fit(x_skftrain,Y_skftrain)        # 모델학습\n",
    "        y_pred = KNNmodel2.predict(x_val)                      # 예측\n",
    "\n",
    "        report = f1_score(Y_val, y_pred, average='weighted')  # F1\n",
    "        cvscores.append(report)                               # 결과들을 리스트로 저장\n",
    "    \n",
    "    \n",
    "    scores_all.append(np.mean(cvscores))\n",
    "    k_all.append(int(k))\n",
    "    \n",
    "    return np.mean(cvscores)\n",
    "\n",
    "result = BayesianOptimization(KNN_opt, KNN_search_point,    random_state=10,    verbose=2) \n",
    "result.maximize(acq='ucb',n_iter=15, kappa=2.576, init_points=1 , **gp_params)\n",
    "# 타겟과 범위를 정해준뒤에 그 결과를 확인 n_iter를 통해 확인 횟수 조절가능"
   ]
  },
  {
   "cell_type": "code",
   "execution_count": 261,
   "metadata": {},
   "outputs": [
    {
     "data": {
      "text/plain": [
       "<matplotlib.collections.PathCollection at 0x1b9efe58648>"
      ]
     },
     "execution_count": 261,
     "metadata": {},
     "output_type": "execute_result"
    },
    {
     "data": {
      "image/png": "[encoded data removed]",
      "text/plain": [
       "<Figure size 432x288 with 1 Axes>"
      ]
     },
     "metadata": {
      "needs_background": "light"
     },
     "output_type": "display_data"
    }
   ],
   "source": [
    "plt.scatter(k_all, scores_all)"
   ]
  },
  {
   "cell_type": "markdown",
   "metadata": {},
   "source": [
    "## SVM"
   ]
  },
  {
   "cell_type": "code",
   "execution_count": 262,
   "metadata": {},
   "outputs": [
    {
     "name": "stdout",
     "output_type": "stream",
     "text": [
      "|   iter    |  target   |   gamma   |     k     |\n",
      "-------------------------------------------------\n",
      "| \u001b[0m 1       \u001b[0m | \u001b[0m 0.7539  \u001b[0m | \u001b[0m 15.43   \u001b[0m | \u001b[0m 1.602   \u001b[0m |\n",
      "| \u001b[95m 2       \u001b[0m | \u001b[95m 0.7552  \u001b[0m | \u001b[95m 9.991   \u001b[0m | \u001b[95m 15.67   \u001b[0m |\n",
      "| \u001b[95m 3       \u001b[0m | \u001b[95m 0.7679  \u001b[0m | \u001b[95m 19.93   \u001b[0m | \u001b[95m 29.62   \u001b[0m |\n",
      "| \u001b[95m 4       \u001b[0m | \u001b[95m 0.7694  \u001b[0m | \u001b[95m 19.96   \u001b[0m | \u001b[95m 29.95   \u001b[0m |\n",
      "| \u001b[0m 5       \u001b[0m | \u001b[0m 0.7479  \u001b[0m | \u001b[0m 0.1515  \u001b[0m | \u001b[0m 29.97   \u001b[0m |\n",
      "| \u001b[0m 6       \u001b[0m | \u001b[0m 0.7084  \u001b[0m | \u001b[0m 0.2132  \u001b[0m | \u001b[0m 1.085   \u001b[0m |\n",
      "| \u001b[0m 7       \u001b[0m | \u001b[0m 0.756   \u001b[0m | \u001b[0m 10.99   \u001b[0m | \u001b[0m 29.92   \u001b[0m |\n",
      "| \u001b[0m 8       \u001b[0m | \u001b[0m 0.7552  \u001b[0m | \u001b[0m 19.98   \u001b[0m | \u001b[0m 8.502   \u001b[0m |\n",
      "| \u001b[0m 9       \u001b[0m | \u001b[0m 0.7497  \u001b[0m | \u001b[0m 19.95   \u001b[0m | \u001b[0m 1.171   \u001b[0m |\n",
      "| \u001b[0m 10      \u001b[0m | \u001b[0m 0.7663  \u001b[0m | \u001b[0m 19.13   \u001b[0m | \u001b[0m 29.92   \u001b[0m |\n",
      "| \u001b[0m 11      \u001b[0m | \u001b[0m 0.7368  \u001b[0m | \u001b[0m 0.1422  \u001b[0m | \u001b[0m 18.23   \u001b[0m |\n",
      "| \u001b[0m 12      \u001b[0m | \u001b[0m 0.7509  \u001b[0m | \u001b[0m 9.848   \u001b[0m | \u001b[0m 8.242   \u001b[0m |\n",
      "| \u001b[0m 13      \u001b[0m | \u001b[0m 0.7679  \u001b[0m | \u001b[0m 19.91   \u001b[0m | \u001b[0m 29.71   \u001b[0m |\n",
      "| \u001b[0m 14      \u001b[0m | \u001b[0m 0.7663  \u001b[0m | \u001b[0m 20.0    \u001b[0m | \u001b[0m 18.67   \u001b[0m |\n",
      "| \u001b[0m 15      \u001b[0m | \u001b[0m 0.7244  \u001b[0m | \u001b[0m 0.0898  \u001b[0m | \u001b[0m 9.559   \u001b[0m |\n",
      "| \u001b[0m 16      \u001b[0m | \u001b[0m 0.7661  \u001b[0m | \u001b[0m 7.085   \u001b[0m | \u001b[0m 1.003   \u001b[0m |\n",
      "| \u001b[0m 17      \u001b[0m | \u001b[0m 0.7621  \u001b[0m | \u001b[0m 13.07   \u001b[0m | \u001b[0m 22.93   \u001b[0m |\n",
      "| \u001b[0m 18      \u001b[0m | \u001b[0m 0.7689  \u001b[0m | \u001b[0m 4.676   \u001b[0m | \u001b[0m 23.54   \u001b[0m |\n",
      "| \u001b[0m 19      \u001b[0m | \u001b[0m 0.7569  \u001b[0m | \u001b[0m 4.536   \u001b[0m | \u001b[0m 13.95   \u001b[0m |\n",
      "| \u001b[0m 20      \u001b[0m | \u001b[0m 0.7693  \u001b[0m | \u001b[0m 19.99   \u001b[0m | \u001b[0m 23.23   \u001b[0m |\n",
      "| \u001b[0m 21      \u001b[0m | \u001b[0m 0.7273  \u001b[0m | \u001b[0m 0.08898 \u001b[0m | \u001b[0m 24.48   \u001b[0m |\n",
      "=================================================\n"
     ]
    }
   ],
   "source": [
    "# KNN 과 동일 옵션만 바뀐 상태로 범위를 지정해주고 최적값을 탐색\n",
    "SVM_search_point = {'k': (1,30), 'gamma': (0.001,20)}\n",
    "\n",
    "gp_params = {\"alpha\":1e-10}\n",
    "scores_all = []\n",
    "k_all = []\n",
    "gamma_all = []\n",
    "\n",
    "def SVM_opt(k,gamma):\n",
    "    cvscores = []\n",
    "    \n",
    "    for train_index, val_index in skfolds.split(x_train, y_train):\n",
    "        \n",
    "        x_skftrain, x_val = x_train.values[train_index],x_train.values[val_index]\n",
    "        Y_skftrain, Y_val = np.array(y_train)[train_index],np.array(y_train)[val_index]\n",
    "\n",
    "        SVMmodel = SVC( C= int(k) , kernel='rbf' , probability = True, gamma = gamma ) # SVM  \n",
    "        \n",
    "        SVMmodel2 = SVMmodel.fit(x_skftrain,Y_skftrain)      # 모델학습\n",
    "        y_pred = SVMmodel2.predict(x_val)                    # 예측\n",
    "\n",
    "        report = f1_score(Y_val, y_pred, average='weighted') # F1\n",
    "        cvscores.append(report)\n",
    "    \n",
    "    scores_all.append(np.mean(cvscores))\n",
    "    k_all.append(int(k))\n",
    "    return np.mean(cvscores)\n",
    "\n",
    "result = BayesianOptimization(SVM_opt, SVM_search_point, random_state=10, verbose=2) \n",
    "result.maximize(acq='ucb',n_iter=20, kappa=2.576, init_points=1 , **gp_params)"
   ]
  },
  {
   "cell_type": "code",
   "execution_count": 263,
   "metadata": {},
   "outputs": [
    {
     "data": {
      "text/plain": [
       "<matplotlib.collections.PathCollection at 0x1b9f0eacc88>"
      ]
     },
     "execution_count": 263,
     "metadata": {},
     "output_type": "execute_result"
    },
    {
     "data": {
      "image/png": "[encoded data removed]",
      "text/plain": [
       "<Figure size 432x288 with 1 Axes>"
      ]
     },
     "metadata": {
      "needs_background": "light"
     },
     "output_type": "display_data"
    }
   ],
   "source": [
    "plt.scatter(k_all, scores_all)"
   ]
  },
  {
   "cell_type": "markdown",
   "metadata": {},
   "source": [
    "## Decision Tree"
   ]
  },
  {
   "cell_type": "code",
   "execution_count": 264,
   "metadata": {},
   "outputs": [
    {
     "name": "stdout",
     "output_type": "stream",
     "text": [
      "|   iter    |  target   |     k     |   leaf    |   split   |\n",
      "-------------------------------------------------------------\n",
      "| \u001b[0m 1       \u001b[0m | \u001b[0m 0.7558  \u001b[0m | \u001b[0m 23.37   \u001b[0m | \u001b[0m 2.581   \u001b[0m | \u001b[0m 19.74   \u001b[0m |\n",
      "| \u001b[0m 2       \u001b[0m | \u001b[0m 0.7381  \u001b[0m | \u001b[0m 26.25   \u001b[0m | \u001b[0m 23.01   \u001b[0m | \u001b[0m 19.33   \u001b[0m |\n",
      "| \u001b[0m 3       \u001b[0m | \u001b[0m 0.627   \u001b[0m | \u001b[0m 1.445   \u001b[0m | \u001b[0m 3.984   \u001b[0m | \u001b[0m 2.857   \u001b[0m |\n",
      "| \u001b[0m 4       \u001b[0m | \u001b[0m 0.627   \u001b[0m | \u001b[0m 1.0     \u001b[0m | \u001b[0m 2.0     \u001b[0m | \u001b[0m 30.0    \u001b[0m |\n",
      "| \u001b[95m 5       \u001b[0m | \u001b[95m 0.771   \u001b[0m | \u001b[95m 30.0    \u001b[0m | \u001b[95m 2.0     \u001b[0m | \u001b[95m 2.0     \u001b[0m |\n",
      "| \u001b[0m 6       \u001b[0m | \u001b[0m 0.765   \u001b[0m | \u001b[0m 29.83   \u001b[0m | \u001b[0m 2.161   \u001b[0m | \u001b[0m 28.56   \u001b[0m |\n",
      "| \u001b[0m 7       \u001b[0m | \u001b[0m 0.7272  \u001b[0m | \u001b[0m 29.41   \u001b[0m | \u001b[0m 28.76   \u001b[0m | \u001b[0m 3.344   \u001b[0m |\n",
      "| \u001b[95m 8       \u001b[0m | \u001b[95m 0.7798  \u001b[0m | \u001b[95m 29.5    \u001b[0m | \u001b[95m 2.455   \u001b[0m | \u001b[95m 5.043   \u001b[0m |\n",
      "| \u001b[0m 9       \u001b[0m | \u001b[0m 0.7659  \u001b[0m | \u001b[0m 29.91   \u001b[0m | \u001b[0m 9.274   \u001b[0m | \u001b[0m 12.63   \u001b[0m |\n",
      "| \u001b[0m 10      \u001b[0m | \u001b[0m 0.627   \u001b[0m | \u001b[0m 1.0     \u001b[0m | \u001b[0m 30.0    \u001b[0m | \u001b[0m 19.73   \u001b[0m |\n",
      "| \u001b[0m 11      \u001b[0m | \u001b[0m 0.7259  \u001b[0m | \u001b[0m 29.42   \u001b[0m | \u001b[0m 29.98   \u001b[0m | \u001b[0m 28.43   \u001b[0m |\n",
      "| \u001b[0m 12      \u001b[0m | \u001b[0m 0.7665  \u001b[0m | \u001b[0m 29.88   \u001b[0m | \u001b[0m 2.11    \u001b[0m | \u001b[0m 17.83   \u001b[0m |\n",
      "| \u001b[0m 13      \u001b[0m | \u001b[0m 0.7446  \u001b[0m | \u001b[0m 20.08   \u001b[0m | \u001b[0m 12.38   \u001b[0m | \u001b[0m 2.049   \u001b[0m |\n",
      "| \u001b[0m 14      \u001b[0m | \u001b[0m 0.7678  \u001b[0m | \u001b[0m 22.58   \u001b[0m | \u001b[0m 2.282   \u001b[0m | \u001b[0m 4.791   \u001b[0m |\n",
      "| \u001b[0m 15      \u001b[0m | \u001b[0m 0.7751  \u001b[0m | \u001b[0m 27.81   \u001b[0m | \u001b[0m 2.073   \u001b[0m | \u001b[0m 10.04   \u001b[0m |\n",
      "| \u001b[0m 16      \u001b[0m | \u001b[0m 0.7549  \u001b[0m | \u001b[0m 21.66   \u001b[0m | \u001b[0m 17.68   \u001b[0m | \u001b[0m 29.99   \u001b[0m |\n",
      "=============================================================\n"
     ]
    }
   ],
   "source": [
    "DT_search_point = { 'k': (1,30), 'leaf' : ( 2, 30), 'split': (2,30) }\n",
    "\n",
    "gp_params = {\"alpha\":1e-10}\n",
    "scores_all = []\n",
    "k_all = []\n",
    "leaf_all = []\n",
    "split_all = []\n",
    "\n",
    "def DT_opt(k,leaf,split):\n",
    "    cvscores = []\n",
    "    \n",
    "    for train_index, val_index in skfolds.split(x_train, y_train):\n",
    "        x_skftrain, x_val = x_train.values[train_index],x_train.values[val_index]\n",
    "        Y_skftrain, Y_val = np.array(y_train)[train_index],np.array(y_train)[val_index]\n",
    "\n",
    "        DTmodel = DecisionTreeClassifier(criterion='gini',\n",
    "                                         max_depth=int(k), \n",
    "                                         min_samples_leaf= int(leaf),\n",
    "                                         min_samples_split= int(split)) #DT  \n",
    "        \n",
    "        \n",
    "        DTmodel2 = DTmodel.fit(x_skftrain,Y_skftrain)      # 모델학습\n",
    "        y_pred = DTmodel2.predict(x_val)                    # 예측\n",
    "\n",
    "        report = f1_score(Y_val, y_pred, average='weighted') # F1\n",
    "        cvscores.append(report)\n",
    "    \n",
    "    scores_all.append(np.mean(cvscores))\n",
    "    k_all.append(int(k))\n",
    "    leaf_all.append(int(leaf))\n",
    "    split_all.append(split)\n",
    "\n",
    "    \n",
    "    return np.mean(cvscores)\n",
    "\n",
    "result = BayesianOptimization(DT_opt, DT_search_point, random_state=10, verbose=2) \n",
    "result.maximize(acq='ucb',n_iter=15, kappa=2.576, init_points=1 , **gp_params)"
   ]
  },
  {
   "cell_type": "code",
   "execution_count": 265,
   "metadata": {},
   "outputs": [
    {
     "data": {
      "text/plain": [
       "<matplotlib.collections.PathCollection at 0x1b9f0f15ac8>"
      ]
     },
     "execution_count": 265,
     "metadata": {},
     "output_type": "execute_result"
    },
    {
     "data": {
      "image/png": "[encoded data removed]",
      "text/plain": [
       "<Figure size 432x288 with 1 Axes>"
      ]
     },
     "metadata": {
      "needs_background": "light"
     },
     "output_type": "display_data"
    }
   ],
   "source": [
    "plt.scatter(k_all, scores_all)"
   ]
  },
  {
   "cell_type": "markdown",
   "metadata": {},
   "source": [
    "## Logistic Regression"
   ]
  },
  {
   "cell_type": "code",
   "execution_count": 266,
   "metadata": {},
   "outputs": [
    {
     "name": "stdout",
     "output_type": "stream",
     "text": [
      "|   iter    |  target   |     k     |    tol    |\n",
      "-------------------------------------------------\n",
      "| \u001b[0m 1       \u001b[0m | \u001b[0m 0.7274  \u001b[0m | \u001b[0m 38.79   \u001b[0m | \u001b[0m 1.038   \u001b[0m |\n",
      "| \u001b[0m 2       \u001b[0m | \u001b[0m 0.7256  \u001b[0m | \u001b[0m 25.48   \u001b[0m | \u001b[0m 25.29   \u001b[0m |\n",
      "| \u001b[0m 3       \u001b[0m | \u001b[0m 0.7191  \u001b[0m | \u001b[0m 1.878   \u001b[0m | \u001b[0m 0.05957 \u001b[0m |\n",
      "| \u001b[0m 4       \u001b[0m | \u001b[0m 0.7274  \u001b[0m | \u001b[0m 49.9    \u001b[0m | \u001b[0m 49.91   \u001b[0m |\n",
      "| \u001b[0m 5       \u001b[0m | \u001b[0m 0.7274  \u001b[0m | \u001b[0m 35.73   \u001b[0m | \u001b[0m 4.828   \u001b[0m |\n",
      "| \u001b[0m 6       \u001b[0m | \u001b[0m 0.7274  \u001b[0m | \u001b[0m 50.0    \u001b[0m | \u001b[0m 19.98   \u001b[0m |\n",
      "| \u001b[0m 7       \u001b[0m | \u001b[0m 0.7274  \u001b[0m | \u001b[0m 44.87   \u001b[0m | \u001b[0m 32.48   \u001b[0m |\n",
      "| \u001b[0m 8       \u001b[0m | \u001b[0m 0.7274  \u001b[0m | \u001b[0m 33.5    \u001b[0m | \u001b[0m 0.1829  \u001b[0m |\n",
      "| \u001b[0m 9       \u001b[0m | \u001b[0m 0.7274  \u001b[0m | \u001b[0m 49.86   \u001b[0m | \u001b[0m 40.27   \u001b[0m |\n",
      "| \u001b[0m 10      \u001b[0m | \u001b[0m 0.7274  \u001b[0m | \u001b[0m 44.62   \u001b[0m | \u001b[0m 21.11   \u001b[0m |\n",
      "| \u001b[0m 11      \u001b[0m | \u001b[0m 0.7274  \u001b[0m | \u001b[0m 42.09   \u001b[0m | \u001b[0m 47.69   \u001b[0m |\n",
      "| \u001b[0m 12      \u001b[0m | \u001b[0m 0.7274  \u001b[0m | \u001b[0m 38.99   \u001b[0m | \u001b[0m 1.759   \u001b[0m |\n",
      "| \u001b[0m 13      \u001b[0m | \u001b[0m 0.7274  \u001b[0m | \u001b[0m 48.77   \u001b[0m | \u001b[0m 23.6    \u001b[0m |\n",
      "| \u001b[0m 14      \u001b[0m | \u001b[0m 0.7274  \u001b[0m | \u001b[0m 36.62   \u001b[0m | \u001b[0m 1.325   \u001b[0m |\n",
      "| \u001b[0m 15      \u001b[0m | \u001b[0m 0.7274  \u001b[0m | \u001b[0m 46.25   \u001b[0m | \u001b[0m 35.34   \u001b[0m |\n",
      "| \u001b[0m 16      \u001b[0m | \u001b[0m 0.7274  \u001b[0m | \u001b[0m 44.32   \u001b[0m | \u001b[0m 37.87   \u001b[0m |\n",
      "| \u001b[0m 17      \u001b[0m | \u001b[0m 0.7274  \u001b[0m | \u001b[0m 38.28   \u001b[0m | \u001b[0m 10.19   \u001b[0m |\n",
      "| \u001b[0m 18      \u001b[0m | \u001b[0m 0.7274  \u001b[0m | \u001b[0m 38.72   \u001b[0m | \u001b[0m 40.81   \u001b[0m |\n",
      "| \u001b[0m 19      \u001b[0m | \u001b[0m 0.7274  \u001b[0m | \u001b[0m 46.24   \u001b[0m | \u001b[0m 43.28   \u001b[0m |\n",
      "| \u001b[0m 20      \u001b[0m | \u001b[0m 0.7274  \u001b[0m | \u001b[0m 49.43   \u001b[0m | \u001b[0m 36.26   \u001b[0m |\n",
      "| \u001b[0m 21      \u001b[0m | \u001b[0m 0.7274  \u001b[0m | \u001b[0m 44.02   \u001b[0m | \u001b[0m 11.25   \u001b[0m |\n",
      "=================================================\n"
     ]
    }
   ],
   "source": [
    "LR_search_point = { 'k': (1,50), 'tol':(0.0001,50)}\n",
    "\n",
    "gp_params = {\"alpha\":1e-10}\n",
    "scores_all = []\n",
    "k_all = []\n",
    "\n",
    "def LR_opt(k,tol):\n",
    "    cvscores = []\n",
    "    \n",
    "    for train_index, val_index in skfolds.split(x_train, y_train):\n",
    "        x_skftrain, x_val = x_train.values[train_index],x_train.values[val_index]\n",
    "        Y_skftrain, Y_val = np.array(y_train)[train_index],np.array(y_train)[val_index]\n",
    "\n",
    "        LRmodel = LogisticRegression(C= int(k) , multi_class= 'auto') #LR  \n",
    "        \n",
    "        \n",
    "        LRmodel2 = LRmodel.fit(x_skftrain,Y_skftrain)      # 모델학습\n",
    "        y_pred = LRmodel2.predict(x_val)                    # 예측\n",
    "\n",
    "        report = f1_score(Y_val, y_pred, average='weighted') # F1\n",
    "        cvscores.append(report)\n",
    "    \n",
    "    scores_all.append(np.mean(cvscores))\n",
    "    k_all.append(int(k))\n",
    "    \n",
    "    return np.mean(cvscores)\n",
    "\n",
    "result = BayesianOptimization(LR_opt, LR_search_point, random_state=10, verbose=2) \n",
    "result.maximize(acq='ucb',n_iter=20, kappa=2.576, init_points=1 , **gp_params)"
   ]
  },
  {
   "cell_type": "code",
   "execution_count": 267,
   "metadata": {},
   "outputs": [
    {
     "data": {
      "text/plain": [
       "<matplotlib.collections.PathCollection at 0x1b9f0f748c8>"
      ]
     },
     "execution_count": 267,
     "metadata": {},
     "output_type": "execute_result"
    },
    {
     "data": {
      "image/png": "[encoded data removed]",
      "text/plain": [
       "<Figure size 432x288 with 1 Axes>"
      ]
     },
     "metadata": {
      "needs_background": "light"
     },
     "output_type": "display_data"
    }
   ],
   "source": [
    "plt.scatter(k_all, scores_all)"
   ]
  },
  {
   "cell_type": "markdown",
   "metadata": {},
   "source": [
    "# Voting ensemble\n",
    "## 사용 된 모델 : KNN, SVM, Decision Tree, Logistic Regression"
   ]
  },
  {
   "cell_type": "code",
   "execution_count": 268,
   "metadata": {},
   "outputs": [],
   "source": [
    "KNN_model = KNeighborsClassifier(n_neighbors = 21,weights = 'distance')\n",
    "\n",
    "SVM_model = SVC( C= 20 , kernel='rbf' , probability = True , gamma = 20 )\n",
    "\n",
    "DT_model = DecisionTreeClassifier(criterion='gini', max_depth=29, min_samples_leaf= 2, min_samples_split= 10)\n",
    "\n",
    "LR_model = LogisticRegression(C= 12, multi_class= 'auto')\n",
    "\n",
    "# 베이지안 최적화에서 탐색해 찾아낸 최적의 parameter 들을 넣고 Voting 을 위해 모델선언"
   ]
  },
  {
   "cell_type": "code",
   "execution_count": 269,
   "metadata": {},
   "outputs": [],
   "source": [
    "ensemble=VotingClassifier(\n",
    "        estimators=[('KNN',KNN_model),\n",
    "                   ('SVM',SVM_model),\n",
    "                   ('DT',DT_model),\n",
    "                   ('LR',LR_model)]\n",
    "        ,voting='soft')\n",
    "\n",
    "# Voting 모델 안에 각 모델들을 묶어주기"
   ]
  },
  {
   "cell_type": "code",
   "execution_count": 270,
   "metadata": {},
   "outputs": [
    {
     "data": {
      "text/plain": [
       "VotingClassifier(estimators=[('KNN',\n",
       "                              KNeighborsClassifier(algorithm='auto',\n",
       "                                                   leaf_size=30,\n",
       "                                                   metric='minkowski',\n",
       "                                                   metric_params=None,\n",
       "                                                   n_jobs=None, n_neighbors=21,\n",
       "                                                   p=2, weights='distance')),\n",
       "                             ('SVM',\n",
       "                              SVC(C=20, break_ties=False, cache_size=200,\n",
       "                                  class_weight=None, coef0=0.0,\n",
       "                                  decision_function_shape='ovr', degree=3,\n",
       "                                  gamma=20, kernel='rbf', max_iter=-1,\n",
       "                                  probability=True, random_...\n",
       "                                                     presort='deprecated',\n",
       "                                                     random_state=None,\n",
       "                                                     splitter='best')),\n",
       "                             ('LR',\n",
       "                              LogisticRegression(C=12, class_weight=None,\n",
       "                                                 dual=False, fit_intercept=True,\n",
       "                                                 intercept_scaling=1,\n",
       "                                                 l1_ratio=None, max_iter=100,\n",
       "                                                 multi_class='auto',\n",
       "                                                 n_jobs=None, penalty='l2',\n",
       "                                                 random_state=None,\n",
       "                                                 solver='lbfgs', tol=0.0001,\n",
       "                                                 verbose=0,\n",
       "                                                 warm_start=False))],\n",
       "                 flatten_transform=True, n_jobs=None, voting='soft',\n",
       "                 weights=None)"
      ]
     },
     "execution_count": 270,
     "metadata": {},
     "output_type": "execute_result"
    }
   ],
   "source": [
    "KNN_model.fit(x_train,y_train)\n",
    "SVM_model.fit(x_train,y_train)\n",
    "DT_model.fit(x_train,y_train)\n",
    "LR_model.fit(x_train,y_train)\n",
    "ensemble.fit(x_train,y_train)\n",
    "\n",
    "# 각 모델에  train 데이터 학습시키고\n",
    "# 모델들이 묶어진 voting 앙상블에도 train 데이터를 학습"
   ]
  },
  {
   "cell_type": "markdown",
   "metadata": {},
   "source": [
    "# 교차검증 적용"
   ]
  },
  {
   "cell_type": "code",
   "execution_count": 271,
   "metadata": {},
   "outputs": [],
   "source": [
    "SKF = StratifiedKFold( n_splits = 5,  shuffle = True, random_state = 16)"
   ]
  },
  {
   "cell_type": "code",
   "execution_count": 272,
   "metadata": {},
   "outputs": [],
   "source": [
    "KNN_scores=cross_validate(KNN_model, x_train, y_train, cv=SKF, scoring=make_scorer(f1_score))\n",
    "SVM_scores=cross_validate(SVM_model, x_train, y_train, cv=SKF, scoring=make_scorer(f1_score))\n",
    "DT_scores=cross_validate(DT_model, x_train, y_train, cv=SKF, scoring=make_scorer(f1_score))\n",
    "LR_scores=cross_validate(LR_model, x_train, y_train, cv=SKF, scoring=make_scorer(f1_score))\n",
    "ensemble_scores=cross_validate(ensemble, x_train, y_train, cv=SKF, scoring=make_scorer(f1_score))\n",
    "\n",
    "# 각 모델들의 성능 평가를 위해 교차검증 실시  확인할 score는 f1 임"
   ]
  },
  {
   "cell_type": "code",
   "execution_count": 273,
   "metadata": {},
   "outputs": [
    {
     "name": "stdout",
     "output_type": "stream",
     "text": [
      "{'fit_time': array([0.05470133, 0.07083011, 0.09892726, 0.05934262, 0.06387115]), 'score_time': array([0.00796652, 0.01648784, 0.01335883, 0.00979519, 0.00905204]), 'test_score': array([0.68131868, 0.68181818, 0.75268817, 0.64367816, 0.72727273])}\n"
     ]
    }
   ],
   "source": [
    "# print(KNN_scores)\n",
    "# print(SVM_scores)\n",
    "# print(DT_scores)\n",
    "# print(LR_scores)\n",
    "print(ensemble_scores)\n",
    "\n",
    "# validate 를 통해 모델 학습시간, 모델 가동시간, f1_score 를 확인 가능"
   ]
  },
  {
   "cell_type": "code",
   "execution_count": 274,
   "metadata": {},
   "outputs": [
    {
     "name": "stdout",
     "output_type": "stream",
     "text": [
      "f1_score:  0.7188\n",
      "f1_score:  0.6857\n",
      "f1_score:  0.6865\n",
      "f1_score:  0.5783\n",
      "f1_score:  0.6974\n"
     ]
    }
   ],
   "source": [
    "KNN_f1_score = KNN_scores[\"test_score\"].mean()\n",
    "SVN_f1_score = SVM_scores[\"test_score\"].mean()\n",
    "DT_f1_score = DT_scores[\"test_score\"].mean()\n",
    "LR_f1_score = LR_scores[\"test_score\"].mean()\n",
    "ensemble_f1_score = ensemble_scores[\"test_score\"].mean()\n",
    "\n",
    "\n",
    "print(\"f1_score: {0: .4f}\".format(KNN_f1_score))\n",
    "print(\"f1_score: {0: .4f}\".format(SVN_f1_score))\n",
    "print(\"f1_score: {0: .4f}\".format(DT_f1_score))\n",
    "print(\"f1_score: {0: .4f}\".format(LR_f1_score))\n",
    "print(\"f1_score: {0: .4f}\".format(ensemble_f1_score))\n",
    "\n",
    "# 나온 값들의 평균을 확인을 위해 mean 값을 print로 표시"
   ]
  },
  {
   "cell_type": "markdown",
   "metadata": {},
   "source": [
    "# 결과 boxplot"
   ]
  },
  {
   "cell_type": "markdown",
   "metadata": {},
   "source": [
    "## # 교차검증의 결과를 시각화 하여 보기 편하게 하고자함"
   ]
  },
  {
   "cell_type": "markdown",
   "metadata": {},
   "source": [
    "## KNN"
   ]
  },
  {
   "cell_type": "code",
   "execution_count": 275,
   "metadata": {},
   "outputs": [
    {
     "data": {
      "text/plain": [
       "[Text(1, 0, 'KNN')]"
      ]
     },
     "execution_count": 275,
     "metadata": {},
     "output_type": "execute_result"
    },
    {
     "data": {
      "image/png": "[encoded data removed]",
      "text/plain": [
       "<Figure size 432x288 with 1 Axes>"
      ]
     },
     "metadata": {
      "needs_background": "light"
     },
     "output_type": "display_data"
    }
   ],
   "source": [
    "results = []\n",
    "names = []\n",
    "\n",
    "models = []\n",
    "models.append(('KNN', KNN_model))\n",
    "\n",
    "\n",
    "for name, model in models:\n",
    "    kfold = StratifiedKFold( n_splits = 5,  shuffle = True, random_state = 10)\n",
    "#     cv_results = cross_validate(ensemble, x_train, y_train, cv=SKF, scoring=make_scorer(f1_score))\n",
    "    cv_results = cross_val_score(KNN_model, x_train, y_train, cv=SKF, scoring=make_scorer(f1_score))\n",
    "    \n",
    "    results.append(cv_results)\n",
    "    names.append(name)\n",
    "    \n",
    "fig = plt.figure()\n",
    "fig.suptitle('Classifier Comparison')\n",
    "ax= fig.add_subplot(111)\n",
    "plt.boxplot(results)\n",
    "ax.set_xticklabels(names)"
   ]
  },
  {
   "cell_type": "markdown",
   "metadata": {},
   "source": [
    "## SVM"
   ]
  },
  {
   "cell_type": "code",
   "execution_count": 276,
   "metadata": {},
   "outputs": [
    {
     "data": {
      "text/plain": [
       "[Text(1, 0, 'SVM')]"
      ]
     },
     "execution_count": 276,
     "metadata": {},
     "output_type": "execute_result"
    },
    {
     "data": {
      "image/png": "[encoded data removed]",
      "text/plain": [
       "<Figure size 432x288 with 1 Axes>"
      ]
     },
     "metadata": {
      "needs_background": "light"
     },
     "output_type": "display_data"
    }
   ],
   "source": [
    "results = []\n",
    "names = []\n",
    "\n",
    "models = []\n",
    "\n",
    "models.append(('SVM', SVM_model))\n",
    "\n",
    "\n",
    "for name, model in models:\n",
    "    kfold = StratifiedKFold( n_splits = 5,  shuffle = True, random_state = 10)\n",
    "#     cv_results = cross_validate(ensemble, x_train, y_train, cv=SKF, scoring=make_scorer(f1_score))\n",
    "    cv_results = cross_val_score(SVM_model, x_train, y_train, cv=SKF, scoring=make_scorer(f1_score))\n",
    "    \n",
    "    results.append(cv_results)\n",
    "    names.append(name)\n",
    "    \n",
    "fig = plt.figure()\n",
    "fig.suptitle('Classifier Comparison')\n",
    "ax= fig.add_subplot(111)\n",
    "plt.boxplot(results)\n",
    "ax.set_xticklabels(names)"
   ]
  },
  {
   "cell_type": "markdown",
   "metadata": {},
   "source": [
    "## Decision Tree"
   ]
  },
  {
   "cell_type": "code",
   "execution_count": 277,
   "metadata": {},
   "outputs": [
    {
     "data": {
      "text/plain": [
       "[Text(1, 0, 'DT')]"
      ]
     },
     "execution_count": 277,
     "metadata": {},
     "output_type": "execute_result"
    },
    {
     "data": {
      "image/png": "[encoded data removed]",
      "text/plain": [
       "<Figure size 432x288 with 1 Axes>"
      ]
     },
     "metadata": {
      "needs_background": "light"
     },
     "output_type": "display_data"
    }
   ],
   "source": [
    "results = []\n",
    "names = []\n",
    "\n",
    "models = []\n",
    "models.append(('DT', DT_model))\n",
    "\n",
    "\n",
    "for name, model in models:\n",
    "    kfold = StratifiedKFold( n_splits = 5,  shuffle = True, random_state = 10)\n",
    "#     cv_results = cross_validate(ensemble, x_train, y_train, cv=SKF, scoring=make_scorer(f1_score))\n",
    "    cv_results = cross_val_score(DT_model, x_train, y_train, cv=SKF, scoring=make_scorer(f1_score))\n",
    "    \n",
    "    results.append(cv_results)\n",
    "    names.append(name)\n",
    "    \n",
    "fig = plt.figure()\n",
    "fig.suptitle('Classifier Comparison')\n",
    "ax= fig.add_subplot(111)\n",
    "plt.boxplot(results)\n",
    "ax.set_xticklabels(names)"
   ]
  },
  {
   "cell_type": "markdown",
   "metadata": {},
   "source": [
    "## Logistic regression"
   ]
  },
  {
   "cell_type": "code",
   "execution_count": 278,
   "metadata": {},
   "outputs": [
    {
     "data": {
      "text/plain": [
       "[Text(1, 0, 'LR')]"
      ]
     },
     "execution_count": 278,
     "metadata": {},
     "output_type": "execute_result"
    },
    {
     "data": {
      "image/png": "[encoded data removed]",
      "text/plain": [
       "<Figure size 432x288 with 1 Axes>"
      ]
     },
     "metadata": {
      "needs_background": "light"
     },
     "output_type": "display_data"
    }
   ],
   "source": [
    "results = []\n",
    "names = []\n",
    "\n",
    "models = []\n",
    "models.append(('LR', LR_model))\n",
    "\n",
    "\n",
    "for name, model in models:\n",
    "    kfold = StratifiedKFold( n_splits = 5,  shuffle = True, random_state = 10)\n",
    "#     cv_results = cross_validate(ensemble, x_train, y_train, cv=SKF, scoring=make_scorer(f1_score))\n",
    "    cv_results = cross_val_score(LR_model, x_train, y_train, cv=SKF, scoring=make_scorer(f1_score))\n",
    "    \n",
    "    results.append(cv_results)\n",
    "    names.append(name)\n",
    "    \n",
    "fig = plt.figure()\n",
    "fig.suptitle('Classifier Comparison')\n",
    "ax= fig.add_subplot(111)\n",
    "plt.boxplot(results)\n",
    "ax.set_xticklabels(names)"
   ]
  },
  {
   "cell_type": "markdown",
   "metadata": {},
   "source": [
    "## Voting ensemble"
   ]
  },
  {
   "cell_type": "code",
   "execution_count": 279,
   "metadata": {},
   "outputs": [
    {
     "data": {
      "text/plain": [
       "[Text(1, 0, 'Voting')]"
      ]
     },
     "execution_count": 279,
     "metadata": {},
     "output_type": "execute_result"
    },
    {
     "data": {
      "image/png": "[encoded data removed]",
      "text/plain": [
       "<Figure size 432x288 with 1 Axes>"
      ]
     },
     "metadata": {
      "needs_background": "light"
     },
     "output_type": "display_data"
    }
   ],
   "source": [
    "results = []\n",
    "names = []\n",
    "\n",
    "models = []\n",
    "models.append(('Voting',ensemble))\n",
    "\n",
    "\n",
    "for name, model in models:\n",
    "    kfold = StratifiedKFold( n_splits = 5,  shuffle = True, random_state = 10)\n",
    "#     cv_results = cross_validate(ensemble, x_train, y_train, cv=SKF, scoring=make_scorer(f1_score))\n",
    "    cv_results = cross_val_score(ensemble, x_train, y_train, cv=SKF, scoring=make_scorer(f1_score))\n",
    "    \n",
    "    results.append(cv_results)\n",
    "    names.append(name)\n",
    "    \n",
    "fig = plt.figure()\n",
    "fig.suptitle('Classifier Comparison')\n",
    "ax= fig.add_subplot(111)\n",
    "plt.boxplot(results)\n",
    "ax.set_xticklabels(names)"
   ]
  },
  {
   "cell_type": "markdown",
   "metadata": {},
   "source": [
    "# test 데이터 예측 정확도"
   ]
  },
  {
   "cell_type": "code",
   "execution_count": 280,
   "metadata": {},
   "outputs": [],
   "source": [
    "pred_KNN = KNN_model.predict(x_test)\n",
    "pred_SVM = SVM_model.predict(x_test)\n",
    "pred_DT = DT_model.predict(x_test)\n",
    "pred_LR = LR_model.predict(x_test)\n",
    "\n",
    "# 각 모델들의 test 데이터에 대한 예측 결과를 알기 위해 각각 예측실행"
   ]
  },
  {
   "cell_type": "code",
   "execution_count": 281,
   "metadata": {},
   "outputs": [],
   "source": [
    "y_predict= ensemble.predict(x_test)\n",
    "\n",
    "# 적용 모델인 Voting ensemble 예측"
   ]
  },
  {
   "cell_type": "code",
   "execution_count": 282,
   "metadata": {
    "scrolled": true
   },
   "outputs": [
    {
     "name": "stdout",
     "output_type": "stream",
     "text": [
      "KNN 0.7017543859649122\n",
      "SVM 0.7142857142857143\n",
      "DT 0.6902654867256637\n",
      "LR 0.6470588235294118\n",
      "Voting 0.6788990825688074\n"
     ]
    }
   ],
   "source": [
    "print('KNN',f1_score(y_test,pred_KNN))\n",
    "print('SVM',f1_score(y_test,pred_SVM))\n",
    "print('DT',f1_score(y_test,pred_DT))\n",
    "print('LR',f1_score(y_test,pred_LR))\n",
    "print('Voting',f1_score(y_test,y_predict))          # 각 모델들의 f1_Score 확인"
   ]
  },
  {
   "cell_type": "markdown",
   "metadata": {},
   "source": [
    "# 2020 년 사고사례 데이터"
   ]
  },
  {
   "cell_type": "code",
   "execution_count": 283,
   "metadata": {},
   "outputs": [],
   "source": [
    "accident = pd.read_excel(\"./초량동 지형 강우량.xlsx\")   # 초량지하차도 지형정보 와 당일 시간당 강우량 데이터\n",
    "accident\n",
    "\n",
    "Busanaccident = accident.drop(['SLOPE_L','SLOPE_H','FLOOD','MANHOLES_RATIO'], axis = 1)  # 불필요 컬럼제거\n",
    "Busanaccidentclass = accident['FLOOD']                                                   # 종속 변수 \n",
    "\n",
    "Busanaccident.rename(columns={'R_W_SUM':'Hourly_Rainfall_Weight','HOUR_RAINFALL':'Hourly_Rainfall','IMP_SUR_RATIO':'Impervious_Surface',\n",
    "                              'IMP_W_SUM':'Impervious_Surface_Weight'},inplace=True)  \n",
    "#가중치 적용을 위해 컬럼명 수정하여 사용\n",
    "\n",
    "Busanaccident['SLOPE_AVG'] = Busanaccident['SLOPE_AVG'].astype(float)\n",
    "Busanaccident['HIGH'] = Busanaccident['HIGH'].astype(float)\n",
    "\n",
    "rain_weight = Busanaccident['Hourly_Rainfall'].copy()\n",
    "imp_weight = Busanaccident['Impervious_Surface'].copy()\n",
    "slope_weight = Busanaccident['SLOPE_AVG'].copy()\n",
    "high_weight = Busanaccident['HIGH'].copy()\n",
    "\n",
    "\n",
    "\n",
    "\n",
    "## 강우량 가중치\n",
    "\n",
    "for idx,col in enumerate(Busanaccident['Hourly_Rainfall']):\n",
    "    if col <= 15:\n",
    "        rain_weight[idx] = col / (46)\n",
    "    elif col > 15 and col <= 35:\n",
    "        rain_weight[idx] = col / (18 * 2**2)\n",
    "    elif col > 35 and col <= 60:\n",
    "        rain_weight[idx] = col / (17 * 3**2)\n",
    "    elif col > 60 and col <= 80:\n",
    "        rain_weight[idx] = col / (11 * 4**2)\n",
    "    elif col > 80:\n",
    "        rain_weight[idx] = col / (6.28 * 5**2)\n",
    "\n",
    "## 불투수면 가중치\n",
    "\n",
    "for idx,col in enumerate(Busanaccident['Impervious_Surface']):\n",
    "    if col <= 15:\n",
    "        imp_weight[idx] = col / 6.66\n",
    "    elif col > 15 and col <= 25:\n",
    "        imp_weight[idx] = col / (20 * 2)\n",
    "    elif col > 25 and col <= 40:\n",
    "        imp_weight[idx] = col / (13.33 * 3)\n",
    "    elif col > 40 and col <= 55:\n",
    "        imp_weight[idx] = col / (33.33 * 4)\n",
    "    elif col > 55:\n",
    "        imp_weight[idx] = col / (26.67 * 5)\n",
    "\n",
    "## 경사도 가중치\n",
    "\n",
    "#Busanaccident['SLOPE_AVG_Weight'] = Busanaccident['SLOPE_AVG']\n",
    "\n",
    "for idx,col in enumerate(Busanaccident['SLOPE_AVG']):\n",
    "    if col <= 10:\n",
    "        slope_weight[idx] = col / (41.67 / 5**2 )\n",
    "    elif col > 10 and col <= 15:\n",
    "        slope_weight[idx] = col / (25 / 4**2)\n",
    "    elif col > 15 and col <= 25:\n",
    "        slope_weight[idx] = col / (16.67 / 3**2)\n",
    "    elif col > 25 and col <= 50:\n",
    "        slope_weight[idx] = col / (8.33 / 2**2)\n",
    "    elif col > 50:\n",
    "        slope_weight[idx] = col / (8.33 / 1**2)\n",
    "\n",
    "## 고도 가중치\n",
    "\n",
    "#Busanaccident['HIGH_Weight'] = Busanaccident['HIGH']\n",
    "\n",
    "for idx,col in enumerate(Busanaccident['HIGH']):\n",
    "    if col <= 20:\n",
    "        high_weight[idx] = col / (79.62 / 1**2)\n",
    "    elif col > 20 and col <= 40:\n",
    "        high_weight[idx] = col / (10.18 / 2**2)\n",
    "    elif col > 40 and col <= 60:\n",
    "        high_weight[idx] = col / (4.63 / 3**2)\n",
    "    elif col > 60 and col <= 80:\n",
    "        high_weight[idx] = col / (2.78 / 4**2)\n",
    "    elif col > 80:\n",
    "        high_weight[idx] = col / (2.78 / 5**2)\n",
    "\n",
    "slope_weight\n",
    "\n",
    "Busanaccident['Hourly_Rainfall_Weight'] = rain_weight\n",
    "Busanaccident['Impervious_Surface_Weight'] = imp_weight\n",
    "Busanaccident['SLOPE_AVG_Weight'] = slope_weight\n",
    "Busanaccident['HIGH_Weight'] = high_weight\n",
    "\n",
    "\n",
    "## 가중치 값을 구한뒤 불필요한 변수 다시 제거\n",
    "\n",
    "Busanaccident = Busanaccident.drop(['SLOPE_AVG','Impervious_Surface','Hourly_Rainfall','HIGH','PUMP_RATIO'], axis = 1)\n",
    "\n",
    "Busanaccident\n",
    "\n",
    "Busanaccident = Busanaccident[['Hourly_Rainfall_Weight','Impervious_Surface_Weight','SLOPE_AVG_Weight','HIGH_Weight','F_WEIGHT']]"
   ]
  },
  {
   "cell_type": "code",
   "execution_count": 284,
   "metadata": {},
   "outputs": [
    {
     "data": {
      "text/html": [
       "<div>\n",
       "<style scoped>\n",
       "    .dataframe tbody tr th:only-of-type {\n",
       "        vertical-align: middle;\n",
       "    }\n",
       "\n",
       "    .dataframe tbody tr th {\n",
       "        vertical-align: top;\n",
       "    }\n",
       "\n",
       "    .dataframe thead th {\n",
       "        text-align: right;\n",
       "    }\n",
       "</style>\n",
       "<table border=\"1\" class=\"dataframe\">\n",
       "  <thead>\n",
       "    <tr style=\"text-align: right;\">\n",
       "      <th></th>\n",
       "      <th>Hourly_Rainfall_Weight</th>\n",
       "      <th>Impervious_Surface_Weight</th>\n",
       "      <th>SLOPE_AVG_Weight</th>\n",
       "      <th>HIGH_Weight</th>\n",
       "      <th>F_WEIGHT</th>\n",
       "    </tr>\n",
       "  </thead>\n",
       "  <tbody>\n",
       "    <tr>\n",
       "      <th>0</th>\n",
       "      <td>0.000000</td>\n",
       "      <td>0.434346</td>\n",
       "      <td>0.599952</td>\n",
       "      <td>0.050239</td>\n",
       "      <td>0.017</td>\n",
       "    </tr>\n",
       "    <tr>\n",
       "      <th>1</th>\n",
       "      <td>0.000000</td>\n",
       "      <td>0.434346</td>\n",
       "      <td>0.599952</td>\n",
       "      <td>0.050239</td>\n",
       "      <td>0.017</td>\n",
       "    </tr>\n",
       "    <tr>\n",
       "      <th>2</th>\n",
       "      <td>0.000000</td>\n",
       "      <td>0.434346</td>\n",
       "      <td>0.599952</td>\n",
       "      <td>0.050239</td>\n",
       "      <td>0.017</td>\n",
       "    </tr>\n",
       "    <tr>\n",
       "      <th>3</th>\n",
       "      <td>0.000000</td>\n",
       "      <td>0.434346</td>\n",
       "      <td>0.599952</td>\n",
       "      <td>0.050239</td>\n",
       "      <td>0.017</td>\n",
       "    </tr>\n",
       "    <tr>\n",
       "      <th>4</th>\n",
       "      <td>0.010870</td>\n",
       "      <td>0.434346</td>\n",
       "      <td>0.599952</td>\n",
       "      <td>0.050239</td>\n",
       "      <td>0.017</td>\n",
       "    </tr>\n",
       "    <tr>\n",
       "      <th>5</th>\n",
       "      <td>0.000000</td>\n",
       "      <td>0.434346</td>\n",
       "      <td>0.599952</td>\n",
       "      <td>0.050239</td>\n",
       "      <td>0.017</td>\n",
       "    </tr>\n",
       "    <tr>\n",
       "      <th>6</th>\n",
       "      <td>0.000000</td>\n",
       "      <td>0.434346</td>\n",
       "      <td>0.599952</td>\n",
       "      <td>0.050239</td>\n",
       "      <td>0.017</td>\n",
       "    </tr>\n",
       "    <tr>\n",
       "      <th>7</th>\n",
       "      <td>0.021739</td>\n",
       "      <td>0.434346</td>\n",
       "      <td>0.599952</td>\n",
       "      <td>0.050239</td>\n",
       "      <td>0.017</td>\n",
       "    </tr>\n",
       "    <tr>\n",
       "      <th>8</th>\n",
       "      <td>0.076087</td>\n",
       "      <td>0.434346</td>\n",
       "      <td>0.599952</td>\n",
       "      <td>0.050239</td>\n",
       "      <td>0.017</td>\n",
       "    </tr>\n",
       "    <tr>\n",
       "      <th>9</th>\n",
       "      <td>0.000000</td>\n",
       "      <td>0.434346</td>\n",
       "      <td>0.599952</td>\n",
       "      <td>0.050239</td>\n",
       "      <td>0.017</td>\n",
       "    </tr>\n",
       "    <tr>\n",
       "      <th>10</th>\n",
       "      <td>0.010870</td>\n",
       "      <td>0.434346</td>\n",
       "      <td>0.599952</td>\n",
       "      <td>0.050239</td>\n",
       "      <td>0.017</td>\n",
       "    </tr>\n",
       "    <tr>\n",
       "      <th>11</th>\n",
       "      <td>0.010870</td>\n",
       "      <td>0.434346</td>\n",
       "      <td>0.599952</td>\n",
       "      <td>0.050239</td>\n",
       "      <td>0.017</td>\n",
       "    </tr>\n",
       "    <tr>\n",
       "      <th>12</th>\n",
       "      <td>0.010870</td>\n",
       "      <td>0.434346</td>\n",
       "      <td>0.599952</td>\n",
       "      <td>0.050239</td>\n",
       "      <td>0.017</td>\n",
       "    </tr>\n",
       "    <tr>\n",
       "      <th>13</th>\n",
       "      <td>0.010870</td>\n",
       "      <td>0.434346</td>\n",
       "      <td>0.599952</td>\n",
       "      <td>0.050239</td>\n",
       "      <td>0.017</td>\n",
       "    </tr>\n",
       "    <tr>\n",
       "      <th>14</th>\n",
       "      <td>0.021739</td>\n",
       "      <td>0.434346</td>\n",
       "      <td>0.599952</td>\n",
       "      <td>0.050239</td>\n",
       "      <td>0.017</td>\n",
       "    </tr>\n",
       "    <tr>\n",
       "      <th>15</th>\n",
       "      <td>0.141304</td>\n",
       "      <td>0.434346</td>\n",
       "      <td>0.599952</td>\n",
       "      <td>0.050239</td>\n",
       "      <td>0.017</td>\n",
       "    </tr>\n",
       "    <tr>\n",
       "      <th>16</th>\n",
       "      <td>0.173913</td>\n",
       "      <td>0.434346</td>\n",
       "      <td>0.599952</td>\n",
       "      <td>0.050239</td>\n",
       "      <td>0.017</td>\n",
       "    </tr>\n",
       "    <tr>\n",
       "      <th>17</th>\n",
       "      <td>0.108696</td>\n",
       "      <td>0.434346</td>\n",
       "      <td>0.599952</td>\n",
       "      <td>0.050239</td>\n",
       "      <td>0.017</td>\n",
       "    </tr>\n",
       "    <tr>\n",
       "      <th>18</th>\n",
       "      <td>0.141304</td>\n",
       "      <td>0.434346</td>\n",
       "      <td>0.599952</td>\n",
       "      <td>0.050239</td>\n",
       "      <td>0.017</td>\n",
       "    </tr>\n",
       "    <tr>\n",
       "      <th>19</th>\n",
       "      <td>0.282609</td>\n",
       "      <td>0.434346</td>\n",
       "      <td>0.599952</td>\n",
       "      <td>0.050239</td>\n",
       "      <td>0.017</td>\n",
       "    </tr>\n",
       "    <tr>\n",
       "      <th>20</th>\n",
       "      <td>0.173913</td>\n",
       "      <td>0.434346</td>\n",
       "      <td>0.599952</td>\n",
       "      <td>0.050239</td>\n",
       "      <td>0.017</td>\n",
       "    </tr>\n",
       "    <tr>\n",
       "      <th>21</th>\n",
       "      <td>0.333333</td>\n",
       "      <td>0.434346</td>\n",
       "      <td>0.599952</td>\n",
       "      <td>0.050239</td>\n",
       "      <td>0.017</td>\n",
       "    </tr>\n",
       "    <tr>\n",
       "      <th>22</th>\n",
       "      <td>0.411932</td>\n",
       "      <td>0.434346</td>\n",
       "      <td>0.599952</td>\n",
       "      <td>0.050239</td>\n",
       "      <td>0.017</td>\n",
       "    </tr>\n",
       "    <tr>\n",
       "      <th>23</th>\n",
       "      <td>0.163043</td>\n",
       "      <td>0.434346</td>\n",
       "      <td>0.599952</td>\n",
       "      <td>0.050239</td>\n",
       "      <td>0.017</td>\n",
       "    </tr>\n",
       "    <tr>\n",
       "      <th>24</th>\n",
       "      <td>0.163043</td>\n",
       "      <td>0.434346</td>\n",
       "      <td>0.599952</td>\n",
       "      <td>0.050239</td>\n",
       "      <td>0.017</td>\n",
       "    </tr>\n",
       "    <tr>\n",
       "      <th>25</th>\n",
       "      <td>0.000000</td>\n",
       "      <td>0.434346</td>\n",
       "      <td>0.599952</td>\n",
       "      <td>0.050239</td>\n",
       "      <td>0.017</td>\n",
       "    </tr>\n",
       "    <tr>\n",
       "      <th>26</th>\n",
       "      <td>0.000000</td>\n",
       "      <td>0.434346</td>\n",
       "      <td>0.599952</td>\n",
       "      <td>0.050239</td>\n",
       "      <td>0.017</td>\n",
       "    </tr>\n",
       "    <tr>\n",
       "      <th>27</th>\n",
       "      <td>0.000000</td>\n",
       "      <td>0.434346</td>\n",
       "      <td>0.599952</td>\n",
       "      <td>0.050239</td>\n",
       "      <td>0.017</td>\n",
       "    </tr>\n",
       "  </tbody>\n",
       "</table>\n",
       "</div>"
      ],
      "text/plain": [
       "    Hourly_Rainfall_Weight  Impervious_Surface_Weight  SLOPE_AVG_Weight  \\\n",
       "0                 0.000000                   0.434346          0.599952   \n",
       "1                 0.000000                   0.434346          0.599952   \n",
       "2                 0.000000                   0.434346          0.599952   \n",
       "3                 0.000000                   0.434346          0.599952   \n",
       "4                 0.010870                   0.434346          0.599952   \n",
       "5                 0.000000                   0.434346          0.599952   \n",
       "6                 0.000000                   0.434346          0.599952   \n",
       "7                 0.021739                   0.434346          0.599952   \n",
       "8                 0.076087                   0.434346          0.599952   \n",
       "9                 0.000000                   0.434346          0.599952   \n",
       "10                0.010870                   0.434346          0.599952   \n",
       "11                0.010870                   0.434346          0.599952   \n",
       "12                0.010870                   0.434346          0.599952   \n",
       "13                0.010870                   0.434346          0.599952   \n",
       "14                0.021739                   0.434346          0.599952   \n",
       "15                0.141304                   0.434346          0.599952   \n",
       "16                0.173913                   0.434346          0.599952   \n",
       "17                0.108696                   0.434346          0.599952   \n",
       "18                0.141304                   0.434346          0.599952   \n",
       "19                0.282609                   0.434346          0.599952   \n",
       "20                0.173913                   0.434346          0.599952   \n",
       "21                0.333333                   0.434346          0.599952   \n",
       "22                0.411932                   0.434346          0.599952   \n",
       "23                0.163043                   0.434346          0.599952   \n",
       "24                0.163043                   0.434346          0.599952   \n",
       "25                0.000000                   0.434346          0.599952   \n",
       "26                0.000000                   0.434346          0.599952   \n",
       "27                0.000000                   0.434346          0.599952   \n",
       "\n",
       "    HIGH_Weight  F_WEIGHT  \n",
       "0      0.050239     0.017  \n",
       "1      0.050239     0.017  \n",
       "2      0.050239     0.017  \n",
       "3      0.050239     0.017  \n",
       "4      0.050239     0.017  \n",
       "5      0.050239     0.017  \n",
       "6      0.050239     0.017  \n",
       "7      0.050239     0.017  \n",
       "8      0.050239     0.017  \n",
       "9      0.050239     0.017  \n",
       "10     0.050239     0.017  \n",
       "11     0.050239     0.017  \n",
       "12     0.050239     0.017  \n",
       "13     0.050239     0.017  \n",
       "14     0.050239     0.017  \n",
       "15     0.050239     0.017  \n",
       "16     0.050239     0.017  \n",
       "17     0.050239     0.017  \n",
       "18     0.050239     0.017  \n",
       "19     0.050239     0.017  \n",
       "20     0.050239     0.017  \n",
       "21     0.050239     0.017  \n",
       "22     0.050239     0.017  \n",
       "23     0.050239     0.017  \n",
       "24     0.050239     0.017  \n",
       "25     0.050239     0.017  \n",
       "26     0.050239     0.017  \n",
       "27     0.050239     0.017  "
      ]
     },
     "execution_count": 284,
     "metadata": {},
     "output_type": "execute_result"
    }
   ],
   "source": [
    "Busanaccident"
   ]
  },
  {
   "cell_type": "markdown",
   "metadata": {},
   "source": [
    "## 정리된 데이터에 scale 적용"
   ]
  },
  {
   "cell_type": "code",
   "execution_count": 285,
   "metadata": {},
   "outputs": [],
   "source": [
    "scaler = MinMaxScaler()\n",
    "scaler.fit(Busanaccident)\n",
    "Busanaccident = scaler.transform(Busanaccident)                         # sccler 적용"
   ]
  },
  {
   "cell_type": "markdown",
   "metadata": {},
   "source": [
    "## 학습 데이터와 동일한 데이터 형태로 만들기위해 pca사용"
   ]
  },
  {
   "cell_type": "code",
   "execution_count": 286,
   "metadata": {},
   "outputs": [],
   "source": [
    "pca = PCA(n_components=4)\n",
    "printcipalComponents = pca.fit_transform(Busanaccident)\n",
    "Busanaccident = pd.DataFrame(data=printcipalComponents, columns = ['principal component1', 'principal component2','principal component3', 'principal component4'])"
   ]
  },
  {
   "cell_type": "markdown",
   "metadata": {},
   "source": [
    "## 초량동에 대한 예측 실시\n"
   ]
  },
  {
   "cell_type": "code",
   "execution_count": 287,
   "metadata": {},
   "outputs": [
    {
     "data": {
      "text/plain": [
       "array([[0.63852037, 0.36147963],\n",
       "       [0.63852037, 0.36147963],\n",
       "       [0.63852037, 0.36147963],\n",
       "       [0.63852037, 0.36147963],\n",
       "       [0.64068394, 0.35931606],\n",
       "       [0.63852037, 0.36147963],\n",
       "       [0.63852037, 0.36147963],\n",
       "       [0.65108103, 0.34891897],\n",
       "       [0.65834587, 0.34165413],\n",
       "       [0.63852037, 0.36147963],\n",
       "       [0.64068394, 0.35931606],\n",
       "       [0.64068394, 0.35931606],\n",
       "       [0.64068394, 0.35931606],\n",
       "       [0.64068394, 0.35931606],\n",
       "       [0.65108103, 0.34891897],\n",
       "       [0.60605307, 0.39394693],\n",
       "       [0.58939311, 0.41060689],\n",
       "       [0.63916839, 0.36083161],\n",
       "       [0.60605307, 0.39394693],\n",
       "       [0.620353  , 0.379647  ],\n",
       "       [0.58939311, 0.41060689],\n",
       "       [0.59624976, 0.40375024],\n",
       "       [0.52015071, 0.47984929],\n",
       "       [0.59075746, 0.40924254],\n",
       "       [0.59075746, 0.40924254],\n",
       "       [0.63852037, 0.36147963],\n",
       "       [0.63852037, 0.36147963],\n",
       "       [0.63852037, 0.36147963]])"
      ]
     },
     "execution_count": 287,
     "metadata": {},
     "output_type": "execute_result"
    }
   ],
   "source": [
    "accident_predict= ensemble.predict(Busanaccident)                       # 학습된 모델을 활용해 사고사례 예측 실시\n",
    "ensemble.predict_proba(Busanaccident)"
   ]
  },
  {
   "cell_type": "code",
   "execution_count": 288,
   "metadata": {},
   "outputs": [
    {
     "name": "stdout",
     "output_type": "stream",
     "text": [
      "[0 0 0 0 0 0 0 0 0 0 0 0 0 0 0 0 0 0 0 0 0 0 0 0 0 0 0 0]\n"
     ]
    }
   ],
   "source": [
    "print(accident_predict)                                                 # 예측값 확인"
   ]
  },
  {
   "cell_type": "code",
   "execution_count": 246,
   "metadata": {},
   "outputs": [],
   "source": [
    "import joblib"
   ]
  },
  {
   "cell_type": "code",
   "execution_count": 247,
   "metadata": {},
   "outputs": [
    {
     "data": {
      "text/plain": [
       "['../../Data/final_data/model/geo_model/ensemble.pkl']"
      ]
     },
     "execution_count": 247,
     "metadata": {},
     "output_type": "execute_result"
    }
   ],
   "source": [
    "joblib.dump(ensemble,'../../Data/final_data/model/geo_model/ensemble.pkl')"
   ]
  },
  {
   "cell_type": "code",
   "execution_count": null,
   "metadata": {},
   "outputs": [],
   "source": []
  }
 ],
 "metadata": {
  "kernelspec": {
   "display_name": "Python 3",
   "language": "python",
   "name": "python3"
  },
  "language_info": {
   "codemirror_mode": {
    "name": "ipython",
    "version": 3
   },
   "file_extension": ".py",
   "mimetype": "text/x-python",
   "name": "python",
   "nbconvert_exporter": "python",
   "pygments_lexer": "ipython3",
   "version": "3.7.6"
  }
 },
 "nbformat": 4,
 "nbformat_minor": 4
}

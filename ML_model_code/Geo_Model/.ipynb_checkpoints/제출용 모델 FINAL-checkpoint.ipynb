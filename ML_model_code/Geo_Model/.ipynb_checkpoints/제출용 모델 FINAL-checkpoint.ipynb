{
 "cells": [
  {
   "cell_type": "markdown",
   "metadata": {},
   "source": [
    "# 필요 라이브러리 import"
   ]
  },
  {
   "cell_type": "code",
   "execution_count": 1,
   "metadata": {},
   "outputs": [],
   "source": [
    "import pandas as pd                                          #데이터 분석 라이브러리\n",
    "from sklearn.decomposition import PCA                        #주성분 분석 라이브러리\n",
    "import numpy as np                                           # 계산 라이브러리\n",
    "from sklearn.preprocessing import MinMaxScaler               # scale 라이브러리\n",
    "\n",
    "from sklearn.model_selection import train_test_split         # 데이터 분할 라이브러리\n",
    "from sklearn.model_selection import cross_validate           # Kfold 라이브러리\n",
    "from sklearn.model_selection import cross_val_score          # Kfold 라이브러리\n",
    "from sklearn.model_selection import StratifiedKFold          # Kfold 라이브러리\n",
    "\n",
    "\n",
    "from sklearn.neighbors import KNeighborsClassifier           # KNN 라이브러리\n",
    "from sklearn.svm import SVC                                  # SVM Classifier 라이브러리\n",
    "from sklearn.tree import DecisionTreeClassifier              # 결정나무분류 라이브러리\n",
    "from sklearn.linear_model import LogisticRegression          # 로지스틱 회귀 라이브러리\n",
    "from bayes_opt import BayesianOptimization                   # 베이시안 라이브러리   \n",
    "\n",
    "\n",
    "from sklearn.metrics import make_scorer                      # 평가용 라이브러리\n",
    "from sklearn.metrics import f1_score                         # f1  라이브러리\n",
    "from sklearn.metrics import accuracy_score                   # accuracy 라이브러리 \n",
    "\n",
    "\n",
    "\n",
    "import matplotlib.pyplot as plt                              # 그래프 라이브러리\n",
    "from sklearn.ensemble import VotingClassifier                # 보팅 앙상블 라이브러리\n",
    "import seaborn as sns                                        # boxplot 을 위한 라이브러리"
   ]
  },
  {
   "cell_type": "markdown",
   "metadata": {},
   "source": [
    "# data 불러오기"
   ]
  },
  {
   "cell_type": "code",
   "execution_count": 11,
   "metadata": {},
   "outputs": [],
   "source": [
    "# 데이터 불러오기\n",
    "File = pd.read_csv(\"../../Data/final_data/training/geo_data/geo_training_data.csv\")"
   ]
  },
  {
   "cell_type": "code",
   "execution_count": 12,
   "metadata": {},
   "outputs": [
    {
     "data": {
      "text/html": [
       "<div>\n",
       "<style scoped>\n",
       "    .dataframe tbody tr th:only-of-type {\n",
       "        vertical-align: middle;\n",
       "    }\n",
       "\n",
       "    .dataframe tbody tr th {\n",
       "        vertical-align: top;\n",
       "    }\n",
       "\n",
       "    .dataframe thead th {\n",
       "        text-align: right;\n",
       "    }\n",
       "</style>\n",
       "<table border=\"1\" class=\"dataframe\">\n",
       "  <thead>\n",
       "    <tr style=\"text-align: right;\">\n",
       "      <th></th>\n",
       "      <th>Hourly_Rainfall_Weight</th>\n",
       "      <th>Impervious_Surface_Weight</th>\n",
       "      <th>SLOPE_AVG_Weight</th>\n",
       "      <th>HIGH_Weight</th>\n",
       "      <th>F_WEIGHT</th>\n",
       "      <th>FLOOD</th>\n",
       "    </tr>\n",
       "  </thead>\n",
       "  <tbody>\n",
       "    <tr>\n",
       "      <th>0</th>\n",
       "      <td>0.104348</td>\n",
       "      <td>0.467342</td>\n",
       "      <td>0.599952</td>\n",
       "      <td>0.045968</td>\n",
       "      <td>0.075019</td>\n",
       "      <td>0</td>\n",
       "    </tr>\n",
       "    <tr>\n",
       "      <th>1</th>\n",
       "      <td>0.208696</td>\n",
       "      <td>0.467342</td>\n",
       "      <td>0.599952</td>\n",
       "      <td>0.045968</td>\n",
       "      <td>0.075019</td>\n",
       "      <td>0</td>\n",
       "    </tr>\n",
       "    <tr>\n",
       "      <th>2</th>\n",
       "      <td>0.259722</td>\n",
       "      <td>0.467342</td>\n",
       "      <td>0.599952</td>\n",
       "      <td>0.045968</td>\n",
       "      <td>0.075019</td>\n",
       "      <td>1</td>\n",
       "    </tr>\n",
       "    <tr>\n",
       "      <th>3</th>\n",
       "      <td>0.010870</td>\n",
       "      <td>0.467342</td>\n",
       "      <td>2.699784</td>\n",
       "      <td>0.072218</td>\n",
       "      <td>0.075019</td>\n",
       "      <td>0</td>\n",
       "    </tr>\n",
       "    <tr>\n",
       "      <th>4</th>\n",
       "      <td>0.108696</td>\n",
       "      <td>0.467342</td>\n",
       "      <td>2.699784</td>\n",
       "      <td>0.072218</td>\n",
       "      <td>0.075019</td>\n",
       "      <td>1</td>\n",
       "    </tr>\n",
       "    <tr>\n",
       "      <th>...</th>\n",
       "      <td>...</td>\n",
       "      <td>...</td>\n",
       "      <td>...</td>\n",
       "      <td>...</td>\n",
       "      <td>...</td>\n",
       "      <td>...</td>\n",
       "    </tr>\n",
       "    <tr>\n",
       "      <th>791</th>\n",
       "      <td>0.573248</td>\n",
       "      <td>1.156156</td>\n",
       "      <td>7.040000</td>\n",
       "      <td>115.950324</td>\n",
       "      <td>0.016667</td>\n",
       "      <td>0</td>\n",
       "    </tr>\n",
       "    <tr>\n",
       "      <th>792</th>\n",
       "      <td>0.573248</td>\n",
       "      <td>1.156156</td>\n",
       "      <td>21.608643</td>\n",
       "      <td>13.159136</td>\n",
       "      <td>0.016667</td>\n",
       "      <td>0</td>\n",
       "    </tr>\n",
       "    <tr>\n",
       "      <th>793</th>\n",
       "      <td>0.573248</td>\n",
       "      <td>1.156156</td>\n",
       "      <td>12.147570</td>\n",
       "      <td>0.066817</td>\n",
       "      <td>0.016667</td>\n",
       "      <td>0</td>\n",
       "    </tr>\n",
       "    <tr>\n",
       "      <th>794</th>\n",
       "      <td>0.573248</td>\n",
       "      <td>1.156156</td>\n",
       "      <td>21.608643</td>\n",
       "      <td>0.061794</td>\n",
       "      <td>0.016667</td>\n",
       "      <td>0</td>\n",
       "    </tr>\n",
       "    <tr>\n",
       "      <th>795</th>\n",
       "      <td>0.573248</td>\n",
       "      <td>1.156156</td>\n",
       "      <td>21.608643</td>\n",
       "      <td>448.115108</td>\n",
       "      <td>0.016667</td>\n",
       "      <td>0</td>\n",
       "    </tr>\n",
       "  </tbody>\n",
       "</table>\n",
       "<p>796 rows × 6 columns</p>\n",
       "</div>"
      ],
      "text/plain": [
       "     Hourly_Rainfall_Weight  Impervious_Surface_Weight  SLOPE_AVG_Weight  \\\n",
       "0                  0.104348                   0.467342          0.599952   \n",
       "1                  0.208696                   0.467342          0.599952   \n",
       "2                  0.259722                   0.467342          0.599952   \n",
       "3                  0.010870                   0.467342          2.699784   \n",
       "4                  0.108696                   0.467342          2.699784   \n",
       "..                      ...                        ...               ...   \n",
       "791                0.573248                   1.156156          7.040000   \n",
       "792                0.573248                   1.156156         21.608643   \n",
       "793                0.573248                   1.156156         12.147570   \n",
       "794                0.573248                   1.156156         21.608643   \n",
       "795                0.573248                   1.156156         21.608643   \n",
       "\n",
       "     HIGH_Weight  F_WEIGHT  FLOOD  \n",
       "0       0.045968  0.075019      0  \n",
       "1       0.045968  0.075019      0  \n",
       "2       0.045968  0.075019      1  \n",
       "3       0.072218  0.075019      0  \n",
       "4       0.072218  0.075019      1  \n",
       "..           ...       ...    ...  \n",
       "791   115.950324  0.016667      0  \n",
       "792    13.159136  0.016667      0  \n",
       "793     0.066817  0.016667      0  \n",
       "794     0.061794  0.016667      0  \n",
       "795   448.115108  0.016667      0  \n",
       "\n",
       "[796 rows x 6 columns]"
      ]
     },
     "execution_count": 12,
     "metadata": {},
     "output_type": "execute_result"
    }
   ],
   "source": [
    "File"
   ]
  },
  {
   "cell_type": "code",
   "execution_count": 13,
   "metadata": {},
   "outputs": [],
   "source": [
    "#File = File.sample(frac=1).reset_index(drop=True)"
   ]
  },
  {
   "cell_type": "code",
   "execution_count": 14,
   "metadata": {},
   "outputs": [],
   "source": [
    "Floodfile = File.drop(['FLOOD'], axis = 1)  # 필요 독립변수\n",
    "Floodclass = File['FLOOD']                                            # 종속 변수 "
   ]
  },
  {
   "cell_type": "code",
   "execution_count": 15,
   "metadata": {},
   "outputs": [
    {
     "data": {
      "text/html": [
       "<div>\n",
       "<style scoped>\n",
       "    .dataframe tbody tr th:only-of-type {\n",
       "        vertical-align: middle;\n",
       "    }\n",
       "\n",
       "    .dataframe tbody tr th {\n",
       "        vertical-align: top;\n",
       "    }\n",
       "\n",
       "    .dataframe thead th {\n",
       "        text-align: right;\n",
       "    }\n",
       "</style>\n",
       "<table border=\"1\" class=\"dataframe\">\n",
       "  <thead>\n",
       "    <tr style=\"text-align: right;\">\n",
       "      <th></th>\n",
       "      <th>Hourly_Rainfall_Weight</th>\n",
       "      <th>Impervious_Surface_Weight</th>\n",
       "      <th>SLOPE_AVG_Weight</th>\n",
       "      <th>HIGH_Weight</th>\n",
       "      <th>F_WEIGHT</th>\n",
       "    </tr>\n",
       "  </thead>\n",
       "  <tbody>\n",
       "    <tr>\n",
       "      <th>0</th>\n",
       "      <td>0.104348</td>\n",
       "      <td>0.467342</td>\n",
       "      <td>0.599952</td>\n",
       "      <td>0.045968</td>\n",
       "      <td>0.075019</td>\n",
       "    </tr>\n",
       "    <tr>\n",
       "      <th>1</th>\n",
       "      <td>0.208696</td>\n",
       "      <td>0.467342</td>\n",
       "      <td>0.599952</td>\n",
       "      <td>0.045968</td>\n",
       "      <td>0.075019</td>\n",
       "    </tr>\n",
       "    <tr>\n",
       "      <th>2</th>\n",
       "      <td>0.259722</td>\n",
       "      <td>0.467342</td>\n",
       "      <td>0.599952</td>\n",
       "      <td>0.045968</td>\n",
       "      <td>0.075019</td>\n",
       "    </tr>\n",
       "    <tr>\n",
       "      <th>3</th>\n",
       "      <td>0.010870</td>\n",
       "      <td>0.467342</td>\n",
       "      <td>2.699784</td>\n",
       "      <td>0.072218</td>\n",
       "      <td>0.075019</td>\n",
       "    </tr>\n",
       "    <tr>\n",
       "      <th>4</th>\n",
       "      <td>0.108696</td>\n",
       "      <td>0.467342</td>\n",
       "      <td>2.699784</td>\n",
       "      <td>0.072218</td>\n",
       "      <td>0.075019</td>\n",
       "    </tr>\n",
       "    <tr>\n",
       "      <th>...</th>\n",
       "      <td>...</td>\n",
       "      <td>...</td>\n",
       "      <td>...</td>\n",
       "      <td>...</td>\n",
       "      <td>...</td>\n",
       "    </tr>\n",
       "    <tr>\n",
       "      <th>791</th>\n",
       "      <td>0.573248</td>\n",
       "      <td>1.156156</td>\n",
       "      <td>7.040000</td>\n",
       "      <td>115.950324</td>\n",
       "      <td>0.016667</td>\n",
       "    </tr>\n",
       "    <tr>\n",
       "      <th>792</th>\n",
       "      <td>0.573248</td>\n",
       "      <td>1.156156</td>\n",
       "      <td>21.608643</td>\n",
       "      <td>13.159136</td>\n",
       "      <td>0.016667</td>\n",
       "    </tr>\n",
       "    <tr>\n",
       "      <th>793</th>\n",
       "      <td>0.573248</td>\n",
       "      <td>1.156156</td>\n",
       "      <td>12.147570</td>\n",
       "      <td>0.066817</td>\n",
       "      <td>0.016667</td>\n",
       "    </tr>\n",
       "    <tr>\n",
       "      <th>794</th>\n",
       "      <td>0.573248</td>\n",
       "      <td>1.156156</td>\n",
       "      <td>21.608643</td>\n",
       "      <td>0.061794</td>\n",
       "      <td>0.016667</td>\n",
       "    </tr>\n",
       "    <tr>\n",
       "      <th>795</th>\n",
       "      <td>0.573248</td>\n",
       "      <td>1.156156</td>\n",
       "      <td>21.608643</td>\n",
       "      <td>448.115108</td>\n",
       "      <td>0.016667</td>\n",
       "    </tr>\n",
       "  </tbody>\n",
       "</table>\n",
       "<p>796 rows × 5 columns</p>\n",
       "</div>"
      ],
      "text/plain": [
       "     Hourly_Rainfall_Weight  Impervious_Surface_Weight  SLOPE_AVG_Weight  \\\n",
       "0                  0.104348                   0.467342          0.599952   \n",
       "1                  0.208696                   0.467342          0.599952   \n",
       "2                  0.259722                   0.467342          0.599952   \n",
       "3                  0.010870                   0.467342          2.699784   \n",
       "4                  0.108696                   0.467342          2.699784   \n",
       "..                      ...                        ...               ...   \n",
       "791                0.573248                   1.156156          7.040000   \n",
       "792                0.573248                   1.156156         21.608643   \n",
       "793                0.573248                   1.156156         12.147570   \n",
       "794                0.573248                   1.156156         21.608643   \n",
       "795                0.573248                   1.156156         21.608643   \n",
       "\n",
       "     HIGH_Weight  F_WEIGHT  \n",
       "0       0.045968  0.075019  \n",
       "1       0.045968  0.075019  \n",
       "2       0.045968  0.075019  \n",
       "3       0.072218  0.075019  \n",
       "4       0.072218  0.075019  \n",
       "..           ...       ...  \n",
       "791   115.950324  0.016667  \n",
       "792    13.159136  0.016667  \n",
       "793     0.066817  0.016667  \n",
       "794     0.061794  0.016667  \n",
       "795   448.115108  0.016667  \n",
       "\n",
       "[796 rows x 5 columns]"
      ]
     },
     "execution_count": 15,
     "metadata": {},
     "output_type": "execute_result"
    }
   ],
   "source": [
    "Floodfile"
   ]
  },
  {
   "cell_type": "markdown",
   "metadata": {},
   "source": [
    "# minmaxscaler\n",
    "## data scale 과정"
   ]
  },
  {
   "cell_type": "code",
   "execution_count": 16,
   "metadata": {},
   "outputs": [],
   "source": [
    "scaler = MinMaxScaler()\n",
    "scaler.fit(Floodfile)\n",
    "Floodfile = scaler.transform(Floodfile)  # data sclae 과정 -> minmaxscaler 를 통해 0~1의 값으로 변환"
   ]
  },
  {
   "cell_type": "markdown",
   "metadata": {},
   "source": [
    "# PCA"
   ]
  },
  {
   "cell_type": "code",
   "execution_count": 18,
   "metadata": {},
   "outputs": [],
   "source": [
    "pca = PCA(n_components=4)  # 주성분 분석 후 -> 주성분을 몇개로 할지 결정\n",
    "printcipalComponents = pca.fit_transform(Floodfile)  \n",
    "Floodfile = pd.DataFrame(data=printcipalComponents, columns = ['principal component1', 'principal component2','principal component3','principal component4'])\n",
    "# pca를 통해 나온 4가지 주성분을 독립변수로 사용하도록 데이터 변형"
   ]
  },
  {
   "cell_type": "code",
   "execution_count": 19,
   "metadata": {},
   "outputs": [
    {
     "data": {
      "text/html": [
       "<div>\n",
       "<style scoped>\n",
       "    .dataframe tbody tr th:only-of-type {\n",
       "        vertical-align: middle;\n",
       "    }\n",
       "\n",
       "    .dataframe tbody tr th {\n",
       "        vertical-align: top;\n",
       "    }\n",
       "\n",
       "    .dataframe thead th {\n",
       "        text-align: right;\n",
       "    }\n",
       "</style>\n",
       "<table border=\"1\" class=\"dataframe\">\n",
       "  <thead>\n",
       "    <tr style=\"text-align: right;\">\n",
       "      <th></th>\n",
       "      <th>principal component1</th>\n",
       "      <th>principal component2</th>\n",
       "      <th>principal component3</th>\n",
       "    </tr>\n",
       "  </thead>\n",
       "  <tbody>\n",
       "    <tr>\n",
       "      <th>0</th>\n",
       "      <td>0.141445</td>\n",
       "      <td>-0.341357</td>\n",
       "      <td>0.108150</td>\n",
       "    </tr>\n",
       "    <tr>\n",
       "      <th>1</th>\n",
       "      <td>0.132385</td>\n",
       "      <td>-0.250417</td>\n",
       "      <td>-0.039648</td>\n",
       "    </tr>\n",
       "    <tr>\n",
       "      <th>2</th>\n",
       "      <td>0.127954</td>\n",
       "      <td>-0.205947</td>\n",
       "      <td>-0.111922</td>\n",
       "    </tr>\n",
       "    <tr>\n",
       "      <th>3</th>\n",
       "      <td>0.116840</td>\n",
       "      <td>-0.346367</td>\n",
       "      <td>0.291639</td>\n",
       "    </tr>\n",
       "    <tr>\n",
       "      <th>4</th>\n",
       "      <td>0.108346</td>\n",
       "      <td>-0.261111</td>\n",
       "      <td>0.153078</td>\n",
       "    </tr>\n",
       "    <tr>\n",
       "      <th>...</th>\n",
       "      <td>...</td>\n",
       "      <td>...</td>\n",
       "      <td>...</td>\n",
       "    </tr>\n",
       "    <tr>\n",
       "      <th>791</th>\n",
       "      <td>-0.047905</td>\n",
       "      <td>0.495855</td>\n",
       "      <td>-0.597371</td>\n",
       "    </tr>\n",
       "    <tr>\n",
       "      <th>792</th>\n",
       "      <td>-0.266087</td>\n",
       "      <td>1.016761</td>\n",
       "      <td>-0.249549</td>\n",
       "    </tr>\n",
       "    <tr>\n",
       "      <th>793</th>\n",
       "      <td>-0.117542</td>\n",
       "      <td>0.671070</td>\n",
       "      <td>-0.480561</td>\n",
       "    </tr>\n",
       "    <tr>\n",
       "      <th>794</th>\n",
       "      <td>-0.264962</td>\n",
       "      <td>1.015546</td>\n",
       "      <td>-0.250391</td>\n",
       "    </tr>\n",
       "    <tr>\n",
       "      <th>795</th>\n",
       "      <td>-0.303426</td>\n",
       "      <td>1.057114</td>\n",
       "      <td>-0.221597</td>\n",
       "    </tr>\n",
       "  </tbody>\n",
       "</table>\n",
       "<p>796 rows × 3 columns</p>\n",
       "</div>"
      ],
      "text/plain": [
       "     principal component1  principal component2  principal component3\n",
       "0                0.141445             -0.341357              0.108150\n",
       "1                0.132385             -0.250417             -0.039648\n",
       "2                0.127954             -0.205947             -0.111922\n",
       "3                0.116840             -0.346367              0.291639\n",
       "4                0.108346             -0.261111              0.153078\n",
       "..                    ...                   ...                   ...\n",
       "791             -0.047905              0.495855             -0.597371\n",
       "792             -0.266087              1.016761             -0.249549\n",
       "793             -0.117542              0.671070             -0.480561\n",
       "794             -0.264962              1.015546             -0.250391\n",
       "795             -0.303426              1.057114             -0.221597\n",
       "\n",
       "[796 rows x 3 columns]"
      ]
     },
     "execution_count": 19,
     "metadata": {},
     "output_type": "execute_result"
    }
   ],
   "source": [
    "Floodfile"
   ]
  },
  {
   "cell_type": "markdown",
   "metadata": {},
   "source": [
    "# data split\n",
    "## 8 : 2 으로 training 과 test 구분"
   ]
  },
  {
   "cell_type": "code",
   "execution_count": 20,
   "metadata": {},
   "outputs": [],
   "source": [
    "x_train, x_test, y_train, y_test = train_test_split(Floodfile, Floodclass , test_size=0.2, random_state=400)"
   ]
  },
  {
   "cell_type": "markdown",
   "metadata": {},
   "source": [
    "# BayesianOptimization"
   ]
  },
  {
   "cell_type": "code",
   "execution_count": 21,
   "metadata": {},
   "outputs": [],
   "source": [
    "skfolds=StratifiedKFold(n_splits=5, random_state=400 ,shuffle = True)\n",
    "\n",
    "# 베이지안최적화과정에서 Kfold 를 사용하기위해 설정"
   ]
  },
  {
   "cell_type": "markdown",
   "metadata": {},
   "source": [
    "## KNN"
   ]
  },
  {
   "cell_type": "code",
   "execution_count": 22,
   "metadata": {},
   "outputs": [
    {
     "name": "stdout",
     "output_type": "stream",
     "text": [
      "|   iter    |  target   |     k     |   leaf    |\n",
      "-------------------------------------------------\n",
      "| \u001b[0m 1       \u001b[0m | \u001b[0m 0.7765  \u001b[0m | \u001b[0m 39.25   \u001b[0m | \u001b[0m 2.017   \u001b[0m |\n",
      "| \u001b[95m 2       \u001b[0m | \u001b[95m 0.783   \u001b[0m | \u001b[95m 26.48   \u001b[0m | \u001b[95m 25.79   \u001b[0m |\n",
      "| \u001b[0m 3       \u001b[0m | \u001b[0m 0.781   \u001b[0m | \u001b[0m 49.83   \u001b[0m | \u001b[0m 49.36   \u001b[0m |\n",
      "| \u001b[0m 4       \u001b[0m | \u001b[0m 0.7604  \u001b[0m | \u001b[0m 3.484   \u001b[0m | \u001b[0m 49.87   \u001b[0m |\n",
      "| \u001b[0m 5       \u001b[0m | \u001b[0m 0.7729  \u001b[0m | \u001b[0m 22.76   \u001b[0m | \u001b[0m 23.73   \u001b[0m |\n",
      "| \u001b[0m 6       \u001b[0m | \u001b[0m 0.781   \u001b[0m | \u001b[0m 50.0    \u001b[0m | \u001b[0m 19.96   \u001b[0m |\n",
      "| \u001b[0m 7       \u001b[0m | \u001b[0m 0.7814  \u001b[0m | \u001b[0m 28.82   \u001b[0m | \u001b[0m 49.87   \u001b[0m |\n",
      "| \u001b[0m 8       \u001b[0m | \u001b[0m 0.78    \u001b[0m | \u001b[0m 30.43   \u001b[0m | \u001b[0m 27.68   \u001b[0m |\n",
      "| \u001b[0m 9       \u001b[0m | \u001b[0m 0.781   \u001b[0m | \u001b[0m 49.89   \u001b[0m | \u001b[0m 1.29    \u001b[0m |\n",
      "| \u001b[0m 10      \u001b[0m | \u001b[0m 0.783   \u001b[0m | \u001b[0m 26.33   \u001b[0m | \u001b[0m 30.29   \u001b[0m |\n",
      "| \u001b[0m 11      \u001b[0m | \u001b[0m 0.759   \u001b[0m | \u001b[0m 3.155   \u001b[0m | \u001b[0m 1.071   \u001b[0m |\n",
      "| \u001b[0m 12      \u001b[0m | \u001b[0m 0.7757  \u001b[0m | \u001b[0m 20.31   \u001b[0m | \u001b[0m 1.115   \u001b[0m |\n",
      "| \u001b[0m 13      \u001b[0m | \u001b[0m 0.7748  \u001b[0m | \u001b[0m 15.59   \u001b[0m | \u001b[0m 49.97   \u001b[0m |\n",
      "| \u001b[0m 14      \u001b[0m | \u001b[0m 0.781   \u001b[0m | \u001b[0m 49.95   \u001b[0m | \u001b[0m 35.48   \u001b[0m |\n",
      "| \u001b[0m 15      \u001b[0m | \u001b[0m 0.78    \u001b[0m | \u001b[0m 31.98   \u001b[0m | \u001b[0m 11.74   \u001b[0m |\n",
      "| \u001b[0m 16      \u001b[0m | \u001b[0m 0.7814  \u001b[0m | \u001b[0m 29.8    \u001b[0m | \u001b[0m 23.08   \u001b[0m |\n",
      "=================================================\n"
     ]
    }
   ],
   "source": [
    "KNN_search_point = {'k': (3,50), 'leaf': (1,50)}  # 각 옵션들의 범위를 정해줌\n",
    "\n",
    "gp_params = {\"alpha\":1e-10}\n",
    "scores_all = []\n",
    "k_all = []\n",
    "leaf_all=[]\n",
    "\n",
    "def KNN_opt(k,leaf):\n",
    "    cvscores = []\n",
    "    \n",
    "    for train_index, val_index in skfolds.split(x_train, y_train):\n",
    "\n",
    "        x_skftrain, x_val = x_train.values[train_index], x_train.values[val_index]\n",
    "        Y_skftrain, Y_val = np.array(y_train)[train_index],np.array(y_train)[val_index]\n",
    "        # train 데이터를 5fold 를 사용해 검증하며 옵션 최적값 탐색을 위해 데이터 분할\n",
    "        \n",
    "        KNNmodel = KNeighborsClassifier(n_neighbors = int(k),weights = 'distance', leaf_size= leaf ) \n",
    "        # KNN 모델에 사용되는 옵션들의 최적값 탐색  \n",
    "        \n",
    "        KNNmodel2 = KNNmodel.fit(x_skftrain,Y_skftrain)        # 모델학습\n",
    "        y_pred = KNNmodel2.predict(x_val)                      # 예측\n",
    "\n",
    "        report = f1_score(Y_val, y_pred, average='weighted')  # F1\n",
    "        cvscores.append(report)                               # 결과들을 리스트로 저장\n",
    "    \n",
    "    \n",
    "    scores_all.append(np.mean(cvscores))\n",
    "    k_all.append(int(k))\n",
    "    \n",
    "    return np.mean(cvscores)\n",
    "\n",
    "result = BayesianOptimization(KNN_opt, KNN_search_point,    random_state=10,    verbose=2) \n",
    "result.maximize(acq='ucb',n_iter=15, kappa=2.576, init_points=1 , **gp_params)\n",
    "# 타겟과 범위를 정해준뒤에 그 결과를 확인 n_iter를 통해 확인 횟수 조절가능"
   ]
  },
  {
   "cell_type": "code",
   "execution_count": 23,
   "metadata": {},
   "outputs": [
    {
     "data": {
      "text/plain": [
       "<matplotlib.collections.PathCollection at 0x1b9e9858648>"
      ]
     },
     "execution_count": 23,
     "metadata": {},
     "output_type": "execute_result"
    },
    {
     "data": {
      "image/png": "[encoded data removed]",
      "text/plain": [
       "<Figure size 432x288 with 1 Axes>"
      ]
     },
     "metadata": {
      "needs_background": "light"
     },
     "output_type": "display_data"
    }
   ],
   "source": [
    "plt.scatter(k_all, scores_all)"
   ]
  },
  {
   "cell_type": "markdown",
   "metadata": {},
   "source": [
    "## SVM"
   ]
  },
  {
   "cell_type": "code",
   "execution_count": 24,
   "metadata": {},
   "outputs": [
    {
     "name": "stdout",
     "output_type": "stream",
     "text": [
      "|   iter    |  target   |   gamma   |     k     |\n",
      "-------------------------------------------------\n",
      "| \u001b[0m 1       \u001b[0m | \u001b[0m 0.7518  \u001b[0m | \u001b[0m 15.43   \u001b[0m | \u001b[0m 1.602   \u001b[0m |\n",
      "| \u001b[95m 2       \u001b[0m | \u001b[95m 0.7543  \u001b[0m | \u001b[95m 9.991   \u001b[0m | \u001b[95m 15.67   \u001b[0m |\n",
      "| \u001b[0m 3       \u001b[0m | \u001b[0m 0.7524  \u001b[0m | \u001b[0m 19.93   \u001b[0m | \u001b[0m 29.62   \u001b[0m |\n",
      "| \u001b[0m 4       \u001b[0m | \u001b[0m 0.7295  \u001b[0m | \u001b[0m 0.05962 \u001b[0m | \u001b[0m 29.51   \u001b[0m |\n",
      "| \u001b[0m 5       \u001b[0m | \u001b[0m 0.7479  \u001b[0m | \u001b[0m 12.06   \u001b[0m | \u001b[0m 19.42   \u001b[0m |\n",
      "| \u001b[0m 6       \u001b[0m | \u001b[0m 0.7081  \u001b[0m | \u001b[0m 0.2132  \u001b[0m | \u001b[0m 1.085   \u001b[0m |\n",
      "| \u001b[0m 7       \u001b[0m | \u001b[0m 0.7462  \u001b[0m | \u001b[0m 19.99   \u001b[0m | \u001b[0m 9.891   \u001b[0m |\n",
      "| \u001b[0m 8       \u001b[0m | \u001b[0m 0.7448  \u001b[0m | \u001b[0m 14.03   \u001b[0m | \u001b[0m 15.49   \u001b[0m |\n",
      "| \u001b[0m 9       \u001b[0m | \u001b[0m 0.721   \u001b[0m | \u001b[0m 0.04861 \u001b[0m | \u001b[0m 17.17   \u001b[0m |\n",
      "| \u001b[0m 10      \u001b[0m | \u001b[0m 0.7529  \u001b[0m | \u001b[0m 10.11   \u001b[0m | \u001b[0m 29.97   \u001b[0m |\n",
      "| \u001b[0m 11      \u001b[0m | \u001b[0m 0.7505  \u001b[0m | \u001b[0m 20.0    \u001b[0m | \u001b[0m 1.0     \u001b[0m |\n",
      "| \u001b[0m 12      \u001b[0m | \u001b[0m 0.7492  \u001b[0m | \u001b[0m 8.413   \u001b[0m | \u001b[0m 7.1     \u001b[0m |\n",
      "| \u001b[95m 13      \u001b[0m | \u001b[95m 0.7569  \u001b[0m | \u001b[95m 6.423   \u001b[0m | \u001b[95m 23.91   \u001b[0m |\n",
      "| \u001b[95m 14      \u001b[0m | \u001b[95m 0.7611  \u001b[0m | \u001b[95m 15.32   \u001b[0m | \u001b[95m 6.309   \u001b[0m |\n",
      "| \u001b[0m 15      \u001b[0m | \u001b[0m 0.7606  \u001b[0m | \u001b[0m 17.64   \u001b[0m | \u001b[0m 4.979   \u001b[0m |\n",
      "| \u001b[0m 16      \u001b[0m | \u001b[0m 0.7596  \u001b[0m | \u001b[0m 16.69   \u001b[0m | \u001b[0m 6.761   \u001b[0m |\n",
      "| \u001b[0m 17      \u001b[0m | \u001b[0m 0.7589  \u001b[0m | \u001b[0m 13.03   \u001b[0m | \u001b[0m 7.79    \u001b[0m |\n",
      "| \u001b[0m 18      \u001b[0m | \u001b[0m 0.7569  \u001b[0m | \u001b[0m 14.48   \u001b[0m | \u001b[0m 5.229   \u001b[0m |\n",
      "| \u001b[0m 19      \u001b[0m | \u001b[0m 0.754   \u001b[0m | \u001b[0m 19.95   \u001b[0m | \u001b[0m 23.39   \u001b[0m |\n",
      "| \u001b[0m 20      \u001b[0m | \u001b[0m 0.4935  \u001b[0m | \u001b[0m 0.001   \u001b[0m | \u001b[0m 8.74    \u001b[0m |\n",
      "| \u001b[95m 21      \u001b[0m | \u001b[95m 0.7616  \u001b[0m | \u001b[95m 5.83    \u001b[0m | \u001b[95m 1.046   \u001b[0m |\n",
      "=================================================\n"
     ]
    }
   ],
   "source": [
    "# KNN 과 동일 옵션만 바뀐 상태로 범위를 지정해주고 최적값을 탐색\n",
    "SVM_search_point = {'k': (1,30), 'gamma': (0.001,20)}\n",
    "\n",
    "gp_params = {\"alpha\":1e-10}\n",
    "scores_all = []\n",
    "k_all = []\n",
    "gamma_all = []\n",
    "\n",
    "def SVM_opt(k,gamma):\n",
    "    cvscores = []\n",
    "    \n",
    "    for train_index, val_index in skfolds.split(x_train, y_train):\n",
    "        \n",
    "        x_skftrain, x_val = x_train.values[train_index],x_train.values[val_index]\n",
    "        Y_skftrain, Y_val = np.array(y_train)[train_index],np.array(y_train)[val_index]\n",
    "\n",
    "        SVMmodel = SVC( C= int(k) , kernel='rbf' , probability = True, gamma = gamma ) # SVM  \n",
    "        \n",
    "        SVMmodel2 = SVMmodel.fit(x_skftrain,Y_skftrain)      # 모델학습\n",
    "        y_pred = SVMmodel2.predict(x_val)                    # 예측\n",
    "\n",
    "        report = f1_score(Y_val, y_pred, average='weighted') # F1\n",
    "        cvscores.append(report)\n",
    "    \n",
    "    scores_all.append(np.mean(cvscores))\n",
    "    k_all.append(int(k))\n",
    "    return np.mean(cvscores)\n",
    "\n",
    "result = BayesianOptimization(SVM_opt, SVM_search_point, random_state=10, verbose=2) \n",
    "result.maximize(acq='ucb',n_iter=20, kappa=2.576, init_points=1 , **gp_params)"
   ]
  },
  {
   "cell_type": "code",
   "execution_count": 25,
   "metadata": {},
   "outputs": [
    {
     "data": {
      "text/plain": [
       "<matplotlib.collections.PathCollection at 0x1b9eb1960c8>"
      ]
     },
     "execution_count": 25,
     "metadata": {},
     "output_type": "execute_result"
    },
    {
     "data": {
      "image/png": "[encoded data removed]",
      "text/plain": [
       "<Figure size 432x288 with 1 Axes>"
      ]
     },
     "metadata": {
      "needs_background": "light"
     },
     "output_type": "display_data"
    }
   ],
   "source": [
    "plt.scatter(k_all, scores_all)"
   ]
  },
  {
   "cell_type": "markdown",
   "metadata": {},
   "source": [
    "## Decision Tree"
   ]
  },
  {
   "cell_type": "code",
   "execution_count": 26,
   "metadata": {},
   "outputs": [
    {
     "name": "stdout",
     "output_type": "stream",
     "text": [
      "|   iter    |  target   |     k     |   leaf    |   split   |\n",
      "-------------------------------------------------------------\n",
      "| \u001b[0m 1       \u001b[0m | \u001b[0m 0.7393  \u001b[0m | \u001b[0m 23.37   \u001b[0m | \u001b[0m 2.581   \u001b[0m | \u001b[0m 19.74   \u001b[0m |\n",
      "| \u001b[0m 2       \u001b[0m | \u001b[0m 0.7208  \u001b[0m | \u001b[0m 26.25   \u001b[0m | \u001b[0m 23.01   \u001b[0m | \u001b[0m 19.33   \u001b[0m |\n",
      "| \u001b[0m 3       \u001b[0m | \u001b[0m 0.6101  \u001b[0m | \u001b[0m 1.0     \u001b[0m | \u001b[0m 2.0     \u001b[0m | \u001b[0m 2.0     \u001b[0m |\n",
      "| \u001b[0m 4       \u001b[0m | \u001b[0m 0.6101  \u001b[0m | \u001b[0m 1.0     \u001b[0m | \u001b[0m 2.0     \u001b[0m | \u001b[0m 30.0    \u001b[0m |\n",
      "| \u001b[95m 5       \u001b[0m | \u001b[95m 0.7426  \u001b[0m | \u001b[95m 30.0    \u001b[0m | \u001b[95m 2.0     \u001b[0m | \u001b[95m 2.0     \u001b[0m |\n",
      "| \u001b[0m 6       \u001b[0m | \u001b[0m 0.7333  \u001b[0m | \u001b[0m 29.83   \u001b[0m | \u001b[0m 2.161   \u001b[0m | \u001b[0m 28.56   \u001b[0m |\n",
      "| \u001b[95m 7       \u001b[0m | \u001b[95m 0.748   \u001b[0m | \u001b[95m 25.9    \u001b[0m | \u001b[95m 3.822   \u001b[0m | \u001b[95m 2.981   \u001b[0m |\n",
      "| \u001b[0m 8       \u001b[0m | \u001b[0m 0.7222  \u001b[0m | \u001b[0m 28.91   \u001b[0m | \u001b[0m 5.18    \u001b[0m | \u001b[0m 2.311   \u001b[0m |\n",
      "| \u001b[0m 9       \u001b[0m | \u001b[0m 0.6101  \u001b[0m | \u001b[0m 1.0     \u001b[0m | \u001b[0m 30.0    \u001b[0m | \u001b[0m 30.0    \u001b[0m |\n",
      "| \u001b[0m 10      \u001b[0m | \u001b[0m 0.7259  \u001b[0m | \u001b[0m 29.62   \u001b[0m | \u001b[0m 29.52   \u001b[0m | \u001b[0m 29.06   \u001b[0m |\n",
      "| \u001b[0m 11      \u001b[0m | \u001b[0m 0.7197  \u001b[0m | \u001b[0m 14.58   \u001b[0m | \u001b[0m 30.0    \u001b[0m | \u001b[0m 2.0     \u001b[0m |\n",
      "| \u001b[0m 12      \u001b[0m | \u001b[0m 0.7259  \u001b[0m | \u001b[0m 28.91   \u001b[0m | \u001b[0m 29.77   \u001b[0m | \u001b[0m 2.124   \u001b[0m |\n",
      "| \u001b[0m 13      \u001b[0m | \u001b[0m 0.7259  \u001b[0m | \u001b[0m 20.73   \u001b[0m | \u001b[0m 29.78   \u001b[0m | \u001b[0m 15.11   \u001b[0m |\n",
      "| \u001b[0m 14      \u001b[0m | \u001b[0m 0.7329  \u001b[0m | \u001b[0m 18.68   \u001b[0m | \u001b[0m 18.3    \u001b[0m | \u001b[0m 30.0    \u001b[0m |\n",
      "| \u001b[0m 15      \u001b[0m | \u001b[0m 0.7323  \u001b[0m | \u001b[0m 17.28   \u001b[0m | \u001b[0m 2.491   \u001b[0m | \u001b[0m 2.387   \u001b[0m |\n",
      "| \u001b[0m 16      \u001b[0m | \u001b[0m 0.7279  \u001b[0m | \u001b[0m 29.24   \u001b[0m | \u001b[0m 2.482   \u001b[0m | \u001b[0m 10.56   \u001b[0m |\n",
      "=============================================================\n"
     ]
    }
   ],
   "source": [
    "DT_search_point = { 'k': (1,30), 'leaf' : ( 2, 30), 'split': (2,30) }\n",
    "\n",
    "gp_params = {\"alpha\":1e-10}\n",
    "scores_all = []\n",
    "k_all = []\n",
    "leaf_all = []\n",
    "split_all = []\n",
    "\n",
    "def DT_opt(k,leaf,split):\n",
    "    cvscores = []\n",
    "    \n",
    "    for train_index, val_index in skfolds.split(x_train, y_train):\n",
    "        x_skftrain, x_val = x_train.values[train_index],x_train.values[val_index]\n",
    "        Y_skftrain, Y_val = np.array(y_train)[train_index],np.array(y_train)[val_index]\n",
    "\n",
    "        DTmodel = DecisionTreeClassifier(criterion='gini',\n",
    "                                         max_depth=int(k), \n",
    "                                         min_samples_leaf= int(leaf),\n",
    "                                         min_samples_split= int(split)) #DT  \n",
    "        \n",
    "        \n",
    "        DTmodel2 = DTmodel.fit(x_skftrain,Y_skftrain)      # 모델학습\n",
    "        y_pred = DTmodel2.predict(x_val)                    # 예측\n",
    "\n",
    "        report = f1_score(Y_val, y_pred, average='weighted') # F1\n",
    "        cvscores.append(report)\n",
    "    \n",
    "    scores_all.append(np.mean(cvscores))\n",
    "    k_all.append(int(k))\n",
    "    leaf_all.append(int(leaf))\n",
    "    split_all.append(split)\n",
    "\n",
    "    \n",
    "    return np.mean(cvscores)\n",
    "\n",
    "result = BayesianOptimization(DT_opt, DT_search_point, random_state=10, verbose=2) \n",
    "result.maximize(acq='ucb',n_iter=15, kappa=2.576, init_points=1 , **gp_params)"
   ]
  },
  {
   "cell_type": "code",
   "execution_count": 27,
   "metadata": {},
   "outputs": [
    {
     "data": {
      "text/plain": [
       "<matplotlib.collections.PathCollection at 0x1b9eb2096c8>"
      ]
     },
     "execution_count": 27,
     "metadata": {},
     "output_type": "execute_result"
    },
    {
     "data": {
      "image/png": "[encoded data removed]",
      "text/plain": [
       "<Figure size 432x288 with 1 Axes>"
      ]
     },
     "metadata": {
      "needs_background": "light"
     },
     "output_type": "display_data"
    }
   ],
   "source": [
    "plt.scatter(k_all, scores_all)"
   ]
  },
  {
   "cell_type": "markdown",
   "metadata": {},
   "source": [
    "## Logistic Regression"
   ]
  },
  {
   "cell_type": "code",
   "execution_count": 28,
   "metadata": {},
   "outputs": [
    {
     "name": "stdout",
     "output_type": "stream",
     "text": [
      "|   iter    |  target   |     k     |    tol    |\n",
      "-------------------------------------------------\n",
      "| \u001b[0m 1       \u001b[0m | \u001b[0m 0.7304  \u001b[0m | \u001b[0m 38.79   \u001b[0m | \u001b[0m 1.038   \u001b[0m |\n",
      "| \u001b[0m 2       \u001b[0m | \u001b[0m 0.7304  \u001b[0m | \u001b[0m 25.48   \u001b[0m | \u001b[0m 25.29   \u001b[0m |\n",
      "| \u001b[0m 3       \u001b[0m | \u001b[0m 0.7304  \u001b[0m | \u001b[0m 49.82   \u001b[0m | \u001b[0m 49.35   \u001b[0m |\n",
      "| \u001b[0m 4       \u001b[0m | \u001b[0m 0.7186  \u001b[0m | \u001b[0m 2.561   \u001b[0m | \u001b[0m 3.891   \u001b[0m |\n",
      "| \u001b[0m 5       \u001b[0m | \u001b[0m 0.7304  \u001b[0m | \u001b[0m 49.41   \u001b[0m | \u001b[0m 44.59   \u001b[0m |\n",
      "| \u001b[0m 6       \u001b[0m | \u001b[0m 0.7183  \u001b[0m | \u001b[0m 1.82    \u001b[0m | \u001b[0m 49.75   \u001b[0m |\n",
      "| \u001b[0m 7       \u001b[0m | \u001b[0m 0.7304  \u001b[0m | \u001b[0m 33.69   \u001b[0m | \u001b[0m 49.9    \u001b[0m |\n",
      "| \u001b[0m 8       \u001b[0m | \u001b[0m 0.7304  \u001b[0m | \u001b[0m 45.52   \u001b[0m | \u001b[0m 47.07   \u001b[0m |\n",
      "| \u001b[0m 9       \u001b[0m | \u001b[0m 0.7304  \u001b[0m | \u001b[0m 49.88   \u001b[0m | \u001b[0m 0.2956  \u001b[0m |\n",
      "| \u001b[0m 10      \u001b[0m | \u001b[0m 0.7304  \u001b[0m | \u001b[0m 46.69   \u001b[0m | \u001b[0m 16.34   \u001b[0m |\n",
      "| \u001b[0m 11      \u001b[0m | \u001b[0m 0.7304  \u001b[0m | \u001b[0m 34.64   \u001b[0m | \u001b[0m 33.33   \u001b[0m |\n",
      "| \u001b[0m 12      \u001b[0m | \u001b[0m 0.7304  \u001b[0m | \u001b[0m 31.54   \u001b[0m | \u001b[0m 14.56   \u001b[0m |\n",
      "| \u001b[0m 13      \u001b[0m | \u001b[0m 0.7304  \u001b[0m | \u001b[0m 42.06   \u001b[0m | \u001b[0m 7.11    \u001b[0m |\n",
      "| \u001b[0m 14      \u001b[0m | \u001b[0m 0.7304  \u001b[0m | \u001b[0m 29.1    \u001b[0m | \u001b[0m 23.93   \u001b[0m |\n",
      "| \u001b[0m 15      \u001b[0m | \u001b[0m 0.7304  \u001b[0m | \u001b[0m 29.07   \u001b[0m | \u001b[0m 37.6    \u001b[0m |\n",
      "| \u001b[0m 16      \u001b[0m | \u001b[0m 0.7304  \u001b[0m | \u001b[0m 48.55   \u001b[0m | \u001b[0m 24.33   \u001b[0m |\n",
      "| \u001b[0m 17      \u001b[0m | \u001b[0m 0.7304  \u001b[0m | \u001b[0m 35.79   \u001b[0m | \u001b[0m 48.83   \u001b[0m |\n",
      "| \u001b[0m 18      \u001b[0m | \u001b[0m 0.7304  \u001b[0m | \u001b[0m 46.96   \u001b[0m | \u001b[0m 9.619   \u001b[0m |\n",
      "| \u001b[0m 19      \u001b[0m | \u001b[0m 0.7304  \u001b[0m | \u001b[0m 29.31   \u001b[0m | \u001b[0m 38.99   \u001b[0m |\n",
      "| \u001b[0m 20      \u001b[0m | \u001b[0m 0.7304  \u001b[0m | \u001b[0m 33.9    \u001b[0m | \u001b[0m 49.73   \u001b[0m |\n",
      "| \u001b[0m 21      \u001b[0m | \u001b[0m 0.7304  \u001b[0m | \u001b[0m 39.19   \u001b[0m | \u001b[0m 38.18   \u001b[0m |\n",
      "=================================================\n"
     ]
    }
   ],
   "source": [
    "LR_search_point = { 'k': (1,50), 'tol':(0.0001,50)}\n",
    "\n",
    "gp_params = {\"alpha\":1e-10}\n",
    "scores_all = []\n",
    "k_all = []\n",
    "\n",
    "def LR_opt(k,tol):\n",
    "    cvscores = []\n",
    "    \n",
    "    for train_index, val_index in skfolds.split(x_train, y_train):\n",
    "        x_skftrain, x_val = x_train.values[train_index],x_train.values[val_index]\n",
    "        Y_skftrain, Y_val = np.array(y_train)[train_index],np.array(y_train)[val_index]\n",
    "\n",
    "        LRmodel = LogisticRegression(C= int(k) , multi_class= 'auto') #LR  \n",
    "        \n",
    "        \n",
    "        LRmodel2 = LRmodel.fit(x_skftrain,Y_skftrain)      # 모델학습\n",
    "        y_pred = LRmodel2.predict(x_val)                    # 예측\n",
    "\n",
    "        report = f1_score(Y_val, y_pred, average='weighted') # F1\n",
    "        cvscores.append(report)\n",
    "    \n",
    "    scores_all.append(np.mean(cvscores))\n",
    "    k_all.append(int(k))\n",
    "    \n",
    "    return np.mean(cvscores)\n",
    "\n",
    "result = BayesianOptimization(LR_opt, LR_search_point, random_state=10, verbose=2) \n",
    "result.maximize(acq='ucb',n_iter=20, kappa=2.576, init_points=1 , **gp_params)"
   ]
  },
  {
   "cell_type": "code",
   "execution_count": 29,
   "metadata": {},
   "outputs": [
    {
     "data": {
      "text/plain": [
       "<matplotlib.collections.PathCollection at 0x1b9eb287948>"
      ]
     },
     "execution_count": 29,
     "metadata": {},
     "output_type": "execute_result"
    },
    {
     "data": {
      "image/png": "[encoded data removed]",
      "text/plain": [
       "<Figure size 432x288 with 1 Axes>"
      ]
     },
     "metadata": {
      "needs_background": "light"
     },
     "output_type": "display_data"
    }
   ],
   "source": [
    "plt.scatter(k_all, scores_all)"
   ]
  },
  {
   "cell_type": "markdown",
   "metadata": {},
   "source": [
    "# Voting ensemble\n",
    "## 사용 된 모델 : KNN, SVM, Decision Tree, Logistic Regression"
   ]
  },
  {
   "cell_type": "code",
   "execution_count": 30,
   "metadata": {},
   "outputs": [],
   "source": [
    "KNN_model = KNeighborsClassifier(n_neighbors = 21,weights = 'distance')\n",
    "\n",
    "SVM_model = SVC( C= 20 , kernel='rbf' , probability = True , gamma = 20 )\n",
    "\n",
    "DT_model = DecisionTreeClassifier(criterion='gini', max_depth=29, min_samples_leaf= 2, min_samples_split= 10)\n",
    "\n",
    "LR_model = LogisticRegression(C= 12, multi_class= 'auto')\n",
    "\n",
    "# 베이지안 최적화에서 탐색해 찾아낸 최적의 parameter 들을 넣고 Voting 을 위해 모델선언"
   ]
  },
  {
   "cell_type": "code",
   "execution_count": 31,
   "metadata": {},
   "outputs": [],
   "source": [
    "ensemble=VotingClassifier(\n",
    "        estimators=[('KNN',KNN_model),\n",
    "                   ('SVM',SVM_model),\n",
    "                   ('DT',DT_model),\n",
    "                   ('LR',LR_model)]\n",
    "        ,voting='soft')\n",
    "\n",
    "# Voting 모델 안에 각 모델들을 묶어주기"
   ]
  },
  {
   "cell_type": "code",
   "execution_count": 32,
   "metadata": {},
   "outputs": [
    {
     "data": {
      "text/plain": [
       "VotingClassifier(estimators=[('KNN',\n",
       "                              KNeighborsClassifier(algorithm='auto',\n",
       "                                                   leaf_size=30,\n",
       "                                                   metric='minkowski',\n",
       "                                                   metric_params=None,\n",
       "                                                   n_jobs=None, n_neighbors=21,\n",
       "                                                   p=2, weights='distance')),\n",
       "                             ('SVM',\n",
       "                              SVC(C=20, break_ties=False, cache_size=200,\n",
       "                                  class_weight=None, coef0=0.0,\n",
       "                                  decision_function_shape='ovr', degree=3,\n",
       "                                  gamma=20, kernel='rbf', max_iter=-1,\n",
       "                                  probability=True, random_...\n",
       "                                                     presort='deprecated',\n",
       "                                                     random_state=None,\n",
       "                                                     splitter='best')),\n",
       "                             ('LR',\n",
       "                              LogisticRegression(C=12, class_weight=None,\n",
       "                                                 dual=False, fit_intercept=True,\n",
       "                                                 intercept_scaling=1,\n",
       "                                                 l1_ratio=None, max_iter=100,\n",
       "                                                 multi_class='auto',\n",
       "                                                 n_jobs=None, penalty='l2',\n",
       "                                                 random_state=None,\n",
       "                                                 solver='lbfgs', tol=0.0001,\n",
       "                                                 verbose=0,\n",
       "                                                 warm_start=False))],\n",
       "                 flatten_transform=True, n_jobs=None, voting='soft',\n",
       "                 weights=None)"
      ]
     },
     "execution_count": 32,
     "metadata": {},
     "output_type": "execute_result"
    }
   ],
   "source": [
    "KNN_model.fit(x_train,y_train)\n",
    "SVM_model.fit(x_train,y_train)\n",
    "DT_model.fit(x_train,y_train)\n",
    "LR_model.fit(x_train,y_train)\n",
    "ensemble.fit(x_train,y_train)\n",
    "\n",
    "# 각 모델에  train 데이터 학습시키고\n",
    "# 모델들이 묶어진 voting 앙상블에도 train 데이터를 학습"
   ]
  },
  {
   "cell_type": "markdown",
   "metadata": {},
   "source": [
    "# 교차검증 적용"
   ]
  },
  {
   "cell_type": "code",
   "execution_count": 33,
   "metadata": {},
   "outputs": [],
   "source": [
    "SKF = StratifiedKFold( n_splits = 5,  shuffle = True, random_state = 16)"
   ]
  },
  {
   "cell_type": "code",
   "execution_count": 34,
   "metadata": {},
   "outputs": [],
   "source": [
    "KNN_scores=cross_validate(KNN_model, x_train, y_train, cv=SKF, scoring=make_scorer(f1_score))\n",
    "SVM_scores=cross_validate(SVM_model, x_train, y_train, cv=SKF, scoring=make_scorer(f1_score))\n",
    "DT_scores=cross_validate(DT_model, x_train, y_train, cv=SKF, scoring=make_scorer(f1_score))\n",
    "LR_scores=cross_validate(LR_model, x_train, y_train, cv=SKF, scoring=make_scorer(f1_score))\n",
    "ensemble_scores=cross_validate(ensemble, x_train, y_train, cv=SKF, scoring=make_scorer(f1_score))\n",
    "\n",
    "# 각 모델들의 성능 평가를 위해 교차검증 실시  확인할 score는 f1 임"
   ]
  },
  {
   "cell_type": "code",
   "execution_count": 35,
   "metadata": {},
   "outputs": [
    {
     "name": "stdout",
     "output_type": "stream",
     "text": [
      "{'fit_time': array([0.05948591, 0.05420494, 0.06004262, 0.06757426, 0.06091547]), 'score_time': array([0.00779915, 0.00695634, 0.00866008, 0.01136422, 0.00882149]), 'test_score': array([0.6741573 , 0.64367816, 0.7311828 , 0.63529412, 0.72727273])}\n"
     ]
    }
   ],
   "source": [
    "# print(KNN_scores)\n",
    "# print(SVM_scores)\n",
    "# print(DT_scores)\n",
    "# print(LR_scores)\n",
    "print(ensemble_scores)\n",
    "\n",
    "# validate 를 통해 모델 학습시간, 모델 가동시간, f1_score 를 확인 가능"
   ]
  },
  {
   "cell_type": "code",
   "execution_count": 36,
   "metadata": {},
   "outputs": [
    {
     "name": "stdout",
     "output_type": "stream",
     "text": [
      "f1_score:  0.7037\n",
      "f1_score:  0.6693\n",
      "f1_score:  0.6392\n",
      "f1_score:  0.5739\n",
      "f1_score:  0.6823\n"
     ]
    }
   ],
   "source": [
    "KNN_f1_score = KNN_scores[\"test_score\"].mean()\n",
    "SVN_f1_score = SVM_scores[\"test_score\"].mean()\n",
    "DT_f1_score = DT_scores[\"test_score\"].mean()\n",
    "LR_f1_score = LR_scores[\"test_score\"].mean()\n",
    "ensemble_f1_score = ensemble_scores[\"test_score\"].mean()\n",
    "\n",
    "\n",
    "print(\"f1_score: {0: .4f}\".format(KNN_f1_score))\n",
    "print(\"f1_score: {0: .4f}\".format(SVN_f1_score))\n",
    "print(\"f1_score: {0: .4f}\".format(DT_f1_score))\n",
    "print(\"f1_score: {0: .4f}\".format(LR_f1_score))\n",
    "print(\"f1_score: {0: .4f}\".format(ensemble_f1_score))\n",
    "\n",
    "# 나온 값들의 평균을 확인을 위해 mean 값을 print로 표시"
   ]
  },
  {
   "cell_type": "markdown",
   "metadata": {},
   "source": [
    "# 결과 boxplot"
   ]
  },
  {
   "cell_type": "markdown",
   "metadata": {},
   "source": [
    "## # 교차검증의 결과를 시각화 하여 보기 편하게 하고자함"
   ]
  },
  {
   "cell_type": "markdown",
   "metadata": {},
   "source": [
    "## KNN"
   ]
  },
  {
   "cell_type": "code",
   "execution_count": 37,
   "metadata": {},
   "outputs": [
    {
     "data": {
      "text/plain": [
       "[Text(1, 0, 'KNN')]"
      ]
     },
     "execution_count": 37,
     "metadata": {},
     "output_type": "execute_result"
    },
    {
     "data": {
      "image/png": "[encoded data removed]",
      "text/plain": [
       "<Figure size 432x288 with 1 Axes>"
      ]
     },
     "metadata": {
      "needs_background": "light"
     },
     "output_type": "display_data"
    }
   ],
   "source": [
    "results = []\n",
    "names = []\n",
    "\n",
    "models = []\n",
    "models.append(('KNN', KNN_model))\n",
    "\n",
    "\n",
    "for name, model in models:\n",
    "    kfold = StratifiedKFold( n_splits = 5,  shuffle = True, random_state = 10)\n",
    "#     cv_results = cross_validate(ensemble, x_train, y_train, cv=SKF, scoring=make_scorer(f1_score))\n",
    "    cv_results = cross_val_score(KNN_model, x_train, y_train, cv=SKF, scoring=make_scorer(f1_score))\n",
    "    \n",
    "    results.append(cv_results)\n",
    "    names.append(name)\n",
    "    \n",
    "fig = plt.figure()\n",
    "fig.suptitle('Classifier Comparison')\n",
    "ax= fig.add_subplot(111)\n",
    "plt.boxplot(results)\n",
    "ax.set_xticklabels(names)"
   ]
  },
  {
   "cell_type": "markdown",
   "metadata": {},
   "source": [
    "## SVM"
   ]
  },
  {
   "cell_type": "code",
   "execution_count": 38,
   "metadata": {},
   "outputs": [
    {
     "data": {
      "text/plain": [
       "[Text(1, 0, 'SVM')]"
      ]
     },
     "execution_count": 38,
     "metadata": {},
     "output_type": "execute_result"
    },
    {
     "data": {
      "image/png": "[encoded data removed]",
      "text/plain": [
       "<Figure size 432x288 with 1 Axes>"
      ]
     },
     "metadata": {
      "needs_background": "light"
     },
     "output_type": "display_data"
    }
   ],
   "source": [
    "results = []\n",
    "names = []\n",
    "\n",
    "models = []\n",
    "\n",
    "models.append(('SVM', SVM_model))\n",
    "\n",
    "\n",
    "for name, model in models:\n",
    "    kfold = StratifiedKFold( n_splits = 5,  shuffle = True, random_state = 10)\n",
    "#     cv_results = cross_validate(ensemble, x_train, y_train, cv=SKF, scoring=make_scorer(f1_score))\n",
    "    cv_results = cross_val_score(SVM_model, x_train, y_train, cv=SKF, scoring=make_scorer(f1_score))\n",
    "    \n",
    "    results.append(cv_results)\n",
    "    names.append(name)\n",
    "    \n",
    "fig = plt.figure()\n",
    "fig.suptitle('Classifier Comparison')\n",
    "ax= fig.add_subplot(111)\n",
    "plt.boxplot(results)\n",
    "ax.set_xticklabels(names)"
   ]
  },
  {
   "cell_type": "markdown",
   "metadata": {},
   "source": [
    "## Decision Tree"
   ]
  },
  {
   "cell_type": "code",
   "execution_count": 39,
   "metadata": {},
   "outputs": [
    {
     "data": {
      "text/plain": [
       "[Text(1, 0, 'DT')]"
      ]
     },
     "execution_count": 39,
     "metadata": {},
     "output_type": "execute_result"
    },
    {
     "data": {
      "image/png": "[encoded data removed]",
      "text/plain": [
       "<Figure size 432x288 with 1 Axes>"
      ]
     },
     "metadata": {
      "needs_background": "light"
     },
     "output_type": "display_data"
    }
   ],
   "source": [
    "results = []\n",
    "names = []\n",
    "\n",
    "models = []\n",
    "models.append(('DT', DT_model))\n",
    "\n",
    "\n",
    "for name, model in models:\n",
    "    kfold = StratifiedKFold( n_splits = 5,  shuffle = True, random_state = 10)\n",
    "#     cv_results = cross_validate(ensemble, x_train, y_train, cv=SKF, scoring=make_scorer(f1_score))\n",
    "    cv_results = cross_val_score(DT_model, x_train, y_train, cv=SKF, scoring=make_scorer(f1_score))\n",
    "    \n",
    "    results.append(cv_results)\n",
    "    names.append(name)\n",
    "    \n",
    "fig = plt.figure()\n",
    "fig.suptitle('Classifier Comparison')\n",
    "ax= fig.add_subplot(111)\n",
    "plt.boxplot(results)\n",
    "ax.set_xticklabels(names)"
   ]
  },
  {
   "cell_type": "markdown",
   "metadata": {},
   "source": [
    "## Logistic regression"
   ]
  },
  {
   "cell_type": "code",
   "execution_count": 40,
   "metadata": {},
   "outputs": [
    {
     "data": {
      "text/plain": [
       "[Text(1, 0, 'LR')]"
      ]
     },
     "execution_count": 40,
     "metadata": {},
     "output_type": "execute_result"
    },
    {
     "data": {
      "image/png": "[encoded data removed]",
      "text/plain": [
       "<Figure size 432x288 with 1 Axes>"
      ]
     },
     "metadata": {
      "needs_background": "light"
     },
     "output_type": "display_data"
    }
   ],
   "source": [
    "results = []\n",
    "names = []\n",
    "\n",
    "models = []\n",
    "models.append(('LR', LR_model))\n",
    "\n",
    "\n",
    "for name, model in models:\n",
    "    kfold = StratifiedKFold( n_splits = 5,  shuffle = True, random_state = 10)\n",
    "#     cv_results = cross_validate(ensemble, x_train, y_train, cv=SKF, scoring=make_scorer(f1_score))\n",
    "    cv_results = cross_val_score(LR_model, x_train, y_train, cv=SKF, scoring=make_scorer(f1_score))\n",
    "    \n",
    "    results.append(cv_results)\n",
    "    names.append(name)\n",
    "    \n",
    "fig = plt.figure()\n",
    "fig.suptitle('Classifier Comparison')\n",
    "ax= fig.add_subplot(111)\n",
    "plt.boxplot(results)\n",
    "ax.set_xticklabels(names)"
   ]
  },
  {
   "cell_type": "markdown",
   "metadata": {},
   "source": [
    "## Voting ensemble"
   ]
  },
  {
   "cell_type": "code",
   "execution_count": 41,
   "metadata": {},
   "outputs": [
    {
     "data": {
      "text/plain": [
       "[Text(1, 0, 'Voting')]"
      ]
     },
     "execution_count": 41,
     "metadata": {},
     "output_type": "execute_result"
    },
    {
     "data": {
      "image/png": "[encoded data removed]",
      "text/plain": [
       "<Figure size 432x288 with 1 Axes>"
      ]
     },
     "metadata": {
      "needs_background": "light"
     },
     "output_type": "display_data"
    }
   ],
   "source": [
    "results = []\n",
    "names = []\n",
    "\n",
    "models = []\n",
    "models.append(('Voting',ensemble))\n",
    "\n",
    "\n",
    "for name, model in models:\n",
    "    kfold = StratifiedKFold( n_splits = 5,  shuffle = True, random_state = 10)\n",
    "#     cv_results = cross_validate(ensemble, x_train, y_train, cv=SKF, scoring=make_scorer(f1_score))\n",
    "    cv_results = cross_val_score(ensemble, x_train, y_train, cv=SKF, scoring=make_scorer(f1_score))\n",
    "    \n",
    "    results.append(cv_results)\n",
    "    names.append(name)\n",
    "    \n",
    "fig = plt.figure()\n",
    "fig.suptitle('Classifier Comparison')\n",
    "ax= fig.add_subplot(111)\n",
    "plt.boxplot(results)\n",
    "ax.set_xticklabels(names)"
   ]
  },
  {
   "cell_type": "markdown",
   "metadata": {},
   "source": [
    "# test 데이터 예측 정확도"
   ]
  },
  {
   "cell_type": "code",
   "execution_count": 42,
   "metadata": {},
   "outputs": [],
   "source": [
    "pred_KNN = KNN_model.predict(x_test)\n",
    "pred_SVM = SVM_model.predict(x_test)\n",
    "pred_DT = DT_model.predict(x_test)\n",
    "pred_LR = LR_model.predict(x_test)\n",
    "\n",
    "# 각 모델들의 test 데이터에 대한 예측 결과를 알기 위해 각각 예측실행"
   ]
  },
  {
   "cell_type": "code",
   "execution_count": 43,
   "metadata": {},
   "outputs": [],
   "source": [
    "y_predict= ensemble.predict(x_test)\n",
    "\n",
    "# 적용 모델인 Voting ensemble 예측"
   ]
  },
  {
   "cell_type": "code",
   "execution_count": 44,
   "metadata": {
    "scrolled": true
   },
   "outputs": [
    {
     "name": "stdout",
     "output_type": "stream",
     "text": [
      "KNN 0.6902654867256637\n",
      "SVM 0.6915887850467289\n",
      "DT 0.6981132075471698\n",
      "LR 0.62\n",
      "Voting 0.6972477064220184\n"
     ]
    }
   ],
   "source": [
    "print('KNN',f1_score(y_test,pred_KNN))\n",
    "print('SVM',f1_score(y_test,pred_SVM))\n",
    "print('DT',f1_score(y_test,pred_DT))\n",
    "print('LR',f1_score(y_test,pred_LR))\n",
    "print('Voting',f1_score(y_test,y_predict))          # 각 모델들의 f1_Score 확인"
   ]
  },
  {
   "cell_type": "markdown",
   "metadata": {},
   "source": [
    "# 2020 년 사고사례 데이터"
   ]
  },
  {
   "cell_type": "code",
   "execution_count": 45,
   "metadata": {},
   "outputs": [],
   "source": [
    "accident = pd.read_excel(\"./초량동 지형 강우량.xlsx\")   # 초량지하차도 지형정보 와 당일 시간당 강우량 데이터\n",
    "accident\n",
    "\n",
    "Busanaccident = accident.drop(['SLOPE_L','SLOPE_H','FLOOD','MANHOLES_RATIO'], axis = 1)  # 불필요 컬럼제거\n",
    "Busanaccidentclass = accident['FLOOD']                                                   # 종속 변수 \n",
    "\n",
    "Busanaccident.rename(columns={'R_W_SUM':'Hourly_Rainfall_Weight','HOUR_RAINFALL':'Hourly_Rainfall','IMP_SUR_RATIO':'Impervious_Surface',\n",
    "                              'IMP_W_SUM':'Impervious_Surface_Weight'},inplace=True)  \n",
    "#가중치 적용을 위해 컬럼명 수정하여 사용\n",
    "\n",
    "Busanaccident['SLOPE_AVG'] = Busanaccident['SLOPE_AVG'].astype(float)\n",
    "Busanaccident['HIGH'] = Busanaccident['HIGH'].astype(float)\n",
    "\n",
    "rain_weight = Busanaccident['Hourly_Rainfall'].copy()\n",
    "imp_weight = Busanaccident['Impervious_Surface'].copy()\n",
    "slope_weight = Busanaccident['SLOPE_AVG'].copy()\n",
    "high_weight = Busanaccident['HIGH'].copy()\n",
    "\n",
    "\n",
    "\n",
    "\n",
    "## 강우량 가중치\n",
    "\n",
    "for idx,col in enumerate(Busanaccident['Hourly_Rainfall']):\n",
    "    if col <= 15:\n",
    "        rain_weight[idx] = col / (46)\n",
    "    elif col > 15 and col <= 35:\n",
    "        rain_weight[idx] = col / (18 * 2**2)\n",
    "    elif col > 35 and col <= 60:\n",
    "        rain_weight[idx] = col / (17 * 3**2)\n",
    "    elif col > 60 and col <= 80:\n",
    "        rain_weight[idx] = col / (11 * 4**2)\n",
    "    elif col > 80:\n",
    "        rain_weight[idx] = col / (6.28 * 5**2)\n",
    "\n",
    "## 불투수면 가중치\n",
    "\n",
    "for idx,col in enumerate(Busanaccident['Impervious_Surface']):\n",
    "    if col <= 15:\n",
    "        imp_weight[idx] = col / 6.66\n",
    "    elif col > 15 and col <= 25:\n",
    "        imp_weight[idx] = col / (20 * 2)\n",
    "    elif col > 25 and col <= 40:\n",
    "        imp_weight[idx] = col / (13.33 * 3)\n",
    "    elif col > 40 and col <= 55:\n",
    "        imp_weight[idx] = col / (33.33 * 4)\n",
    "    elif col > 55:\n",
    "        imp_weight[idx] = col / (26.67 * 5)\n",
    "\n",
    "## 경사도 가중치\n",
    "\n",
    "#Busanaccident['SLOPE_AVG_Weight'] = Busanaccident['SLOPE_AVG']\n",
    "\n",
    "for idx,col in enumerate(Busanaccident['SLOPE_AVG']):\n",
    "    if col <= 10:\n",
    "        slope_weight[idx] = col / (41.67 / 5**2 )\n",
    "    elif col > 10 and col <= 15:\n",
    "        slope_weight[idx] = col / (25 / 4**2)\n",
    "    elif col > 15 and col <= 25:\n",
    "        slope_weight[idx] = col / (16.67 / 3**2)\n",
    "    elif col > 25 and col <= 50:\n",
    "        slope_weight[idx] = col / (8.33 / 2**2)\n",
    "    elif col > 50:\n",
    "        slope_weight[idx] = col / (8.33 / 1**2)\n",
    "\n",
    "## 고도 가중치\n",
    "\n",
    "#Busanaccident['HIGH_Weight'] = Busanaccident['HIGH']\n",
    "\n",
    "for idx,col in enumerate(Busanaccident['HIGH']):\n",
    "    if col <= 20:\n",
    "        high_weight[idx] = col / (79.62 / 1**2)\n",
    "    elif col > 20 and col <= 40:\n",
    "        high_weight[idx] = col / (10.18 / 2**2)\n",
    "    elif col > 40 and col <= 60:\n",
    "        high_weight[idx] = col / (4.63 / 3**2)\n",
    "    elif col > 60 and col <= 80:\n",
    "        high_weight[idx] = col / (2.78 / 4**2)\n",
    "    elif col > 80:\n",
    "        high_weight[idx] = col / (2.78 / 5**2)\n",
    "\n",
    "slope_weight\n",
    "\n",
    "Busanaccident['Hourly_Rainfall_Weight'] = rain_weight\n",
    "Busanaccident['Impervious_Surface_Weight'] = imp_weight\n",
    "Busanaccident['SLOPE_AVG_Weight'] = slope_weight\n",
    "Busanaccident['HIGH_Weight'] = high_weight\n",
    "\n",
    "\n",
    "## 가중치 값을 구한뒤 불필요한 변수 다시 제거\n",
    "\n",
    "Busanaccident = Busanaccident.drop(['SLOPE_AVG','Impervious_Surface','Hourly_Rainfall','HIGH','PUMP_RATIO'], axis = 1)\n",
    "\n",
    "Busanaccident\n",
    "\n",
    "Busanaccident = Busanaccident[['Hourly_Rainfall_Weight','Impervious_Surface_Weight','SLOPE_AVG_Weight','HIGH_Weight','F_WEIGHT']]"
   ]
  },
  {
   "cell_type": "code",
   "execution_count": 46,
   "metadata": {},
   "outputs": [
    {
     "data": {
      "text/html": [
       "<div>\n",
       "<style scoped>\n",
       "    .dataframe tbody tr th:only-of-type {\n",
       "        vertical-align: middle;\n",
       "    }\n",
       "\n",
       "    .dataframe tbody tr th {\n",
       "        vertical-align: top;\n",
       "    }\n",
       "\n",
       "    .dataframe thead th {\n",
       "        text-align: right;\n",
       "    }\n",
       "</style>\n",
       "<table border=\"1\" class=\"dataframe\">\n",
       "  <thead>\n",
       "    <tr style=\"text-align: right;\">\n",
       "      <th></th>\n",
       "      <th>Hourly_Rainfall_Weight</th>\n",
       "      <th>Impervious_Surface_Weight</th>\n",
       "      <th>SLOPE_AVG_Weight</th>\n",
       "      <th>HIGH_Weight</th>\n",
       "      <th>F_WEIGHT</th>\n",
       "    </tr>\n",
       "  </thead>\n",
       "  <tbody>\n",
       "    <tr>\n",
       "      <th>0</th>\n",
       "      <td>0.000000</td>\n",
       "      <td>0.434346</td>\n",
       "      <td>0.599952</td>\n",
       "      <td>0.050239</td>\n",
       "      <td>0.017</td>\n",
       "    </tr>\n",
       "    <tr>\n",
       "      <th>1</th>\n",
       "      <td>0.000000</td>\n",
       "      <td>0.434346</td>\n",
       "      <td>0.599952</td>\n",
       "      <td>0.050239</td>\n",
       "      <td>0.017</td>\n",
       "    </tr>\n",
       "    <tr>\n",
       "      <th>2</th>\n",
       "      <td>0.000000</td>\n",
       "      <td>0.434346</td>\n",
       "      <td>0.599952</td>\n",
       "      <td>0.050239</td>\n",
       "      <td>0.017</td>\n",
       "    </tr>\n",
       "    <tr>\n",
       "      <th>3</th>\n",
       "      <td>0.000000</td>\n",
       "      <td>0.434346</td>\n",
       "      <td>0.599952</td>\n",
       "      <td>0.050239</td>\n",
       "      <td>0.017</td>\n",
       "    </tr>\n",
       "    <tr>\n",
       "      <th>4</th>\n",
       "      <td>0.010870</td>\n",
       "      <td>0.434346</td>\n",
       "      <td>0.599952</td>\n",
       "      <td>0.050239</td>\n",
       "      <td>0.017</td>\n",
       "    </tr>\n",
       "    <tr>\n",
       "      <th>5</th>\n",
       "      <td>0.000000</td>\n",
       "      <td>0.434346</td>\n",
       "      <td>0.599952</td>\n",
       "      <td>0.050239</td>\n",
       "      <td>0.017</td>\n",
       "    </tr>\n",
       "    <tr>\n",
       "      <th>6</th>\n",
       "      <td>0.000000</td>\n",
       "      <td>0.434346</td>\n",
       "      <td>0.599952</td>\n",
       "      <td>0.050239</td>\n",
       "      <td>0.017</td>\n",
       "    </tr>\n",
       "    <tr>\n",
       "      <th>7</th>\n",
       "      <td>0.021739</td>\n",
       "      <td>0.434346</td>\n",
       "      <td>0.599952</td>\n",
       "      <td>0.050239</td>\n",
       "      <td>0.017</td>\n",
       "    </tr>\n",
       "    <tr>\n",
       "      <th>8</th>\n",
       "      <td>0.076087</td>\n",
       "      <td>0.434346</td>\n",
       "      <td>0.599952</td>\n",
       "      <td>0.050239</td>\n",
       "      <td>0.017</td>\n",
       "    </tr>\n",
       "    <tr>\n",
       "      <th>9</th>\n",
       "      <td>0.000000</td>\n",
       "      <td>0.434346</td>\n",
       "      <td>0.599952</td>\n",
       "      <td>0.050239</td>\n",
       "      <td>0.017</td>\n",
       "    </tr>\n",
       "    <tr>\n",
       "      <th>10</th>\n",
       "      <td>0.010870</td>\n",
       "      <td>0.434346</td>\n",
       "      <td>0.599952</td>\n",
       "      <td>0.050239</td>\n",
       "      <td>0.017</td>\n",
       "    </tr>\n",
       "    <tr>\n",
       "      <th>11</th>\n",
       "      <td>0.010870</td>\n",
       "      <td>0.434346</td>\n",
       "      <td>0.599952</td>\n",
       "      <td>0.050239</td>\n",
       "      <td>0.017</td>\n",
       "    </tr>\n",
       "    <tr>\n",
       "      <th>12</th>\n",
       "      <td>0.010870</td>\n",
       "      <td>0.434346</td>\n",
       "      <td>0.599952</td>\n",
       "      <td>0.050239</td>\n",
       "      <td>0.017</td>\n",
       "    </tr>\n",
       "    <tr>\n",
       "      <th>13</th>\n",
       "      <td>0.010870</td>\n",
       "      <td>0.434346</td>\n",
       "      <td>0.599952</td>\n",
       "      <td>0.050239</td>\n",
       "      <td>0.017</td>\n",
       "    </tr>\n",
       "    <tr>\n",
       "      <th>14</th>\n",
       "      <td>0.021739</td>\n",
       "      <td>0.434346</td>\n",
       "      <td>0.599952</td>\n",
       "      <td>0.050239</td>\n",
       "      <td>0.017</td>\n",
       "    </tr>\n",
       "    <tr>\n",
       "      <th>15</th>\n",
       "      <td>0.141304</td>\n",
       "      <td>0.434346</td>\n",
       "      <td>0.599952</td>\n",
       "      <td>0.050239</td>\n",
       "      <td>0.017</td>\n",
       "    </tr>\n",
       "    <tr>\n",
       "      <th>16</th>\n",
       "      <td>0.173913</td>\n",
       "      <td>0.434346</td>\n",
       "      <td>0.599952</td>\n",
       "      <td>0.050239</td>\n",
       "      <td>0.017</td>\n",
       "    </tr>\n",
       "    <tr>\n",
       "      <th>17</th>\n",
       "      <td>0.108696</td>\n",
       "      <td>0.434346</td>\n",
       "      <td>0.599952</td>\n",
       "      <td>0.050239</td>\n",
       "      <td>0.017</td>\n",
       "    </tr>\n",
       "    <tr>\n",
       "      <th>18</th>\n",
       "      <td>0.141304</td>\n",
       "      <td>0.434346</td>\n",
       "      <td>0.599952</td>\n",
       "      <td>0.050239</td>\n",
       "      <td>0.017</td>\n",
       "    </tr>\n",
       "    <tr>\n",
       "      <th>19</th>\n",
       "      <td>0.282609</td>\n",
       "      <td>0.434346</td>\n",
       "      <td>0.599952</td>\n",
       "      <td>0.050239</td>\n",
       "      <td>0.017</td>\n",
       "    </tr>\n",
       "    <tr>\n",
       "      <th>20</th>\n",
       "      <td>0.173913</td>\n",
       "      <td>0.434346</td>\n",
       "      <td>0.599952</td>\n",
       "      <td>0.050239</td>\n",
       "      <td>0.017</td>\n",
       "    </tr>\n",
       "    <tr>\n",
       "      <th>21</th>\n",
       "      <td>0.333333</td>\n",
       "      <td>0.434346</td>\n",
       "      <td>0.599952</td>\n",
       "      <td>0.050239</td>\n",
       "      <td>0.017</td>\n",
       "    </tr>\n",
       "    <tr>\n",
       "      <th>22</th>\n",
       "      <td>0.411932</td>\n",
       "      <td>0.434346</td>\n",
       "      <td>0.599952</td>\n",
       "      <td>0.050239</td>\n",
       "      <td>0.017</td>\n",
       "    </tr>\n",
       "    <tr>\n",
       "      <th>23</th>\n",
       "      <td>0.163043</td>\n",
       "      <td>0.434346</td>\n",
       "      <td>0.599952</td>\n",
       "      <td>0.050239</td>\n",
       "      <td>0.017</td>\n",
       "    </tr>\n",
       "    <tr>\n",
       "      <th>24</th>\n",
       "      <td>0.163043</td>\n",
       "      <td>0.434346</td>\n",
       "      <td>0.599952</td>\n",
       "      <td>0.050239</td>\n",
       "      <td>0.017</td>\n",
       "    </tr>\n",
       "    <tr>\n",
       "      <th>25</th>\n",
       "      <td>0.000000</td>\n",
       "      <td>0.434346</td>\n",
       "      <td>0.599952</td>\n",
       "      <td>0.050239</td>\n",
       "      <td>0.017</td>\n",
       "    </tr>\n",
       "    <tr>\n",
       "      <th>26</th>\n",
       "      <td>0.000000</td>\n",
       "      <td>0.434346</td>\n",
       "      <td>0.599952</td>\n",
       "      <td>0.050239</td>\n",
       "      <td>0.017</td>\n",
       "    </tr>\n",
       "    <tr>\n",
       "      <th>27</th>\n",
       "      <td>0.000000</td>\n",
       "      <td>0.434346</td>\n",
       "      <td>0.599952</td>\n",
       "      <td>0.050239</td>\n",
       "      <td>0.017</td>\n",
       "    </tr>\n",
       "  </tbody>\n",
       "</table>\n",
       "</div>"
      ],
      "text/plain": [
       "    Hourly_Rainfall_Weight  Impervious_Surface_Weight  SLOPE_AVG_Weight  \\\n",
       "0                 0.000000                   0.434346          0.599952   \n",
       "1                 0.000000                   0.434346          0.599952   \n",
       "2                 0.000000                   0.434346          0.599952   \n",
       "3                 0.000000                   0.434346          0.599952   \n",
       "4                 0.010870                   0.434346          0.599952   \n",
       "5                 0.000000                   0.434346          0.599952   \n",
       "6                 0.000000                   0.434346          0.599952   \n",
       "7                 0.021739                   0.434346          0.599952   \n",
       "8                 0.076087                   0.434346          0.599952   \n",
       "9                 0.000000                   0.434346          0.599952   \n",
       "10                0.010870                   0.434346          0.599952   \n",
       "11                0.010870                   0.434346          0.599952   \n",
       "12                0.010870                   0.434346          0.599952   \n",
       "13                0.010870                   0.434346          0.599952   \n",
       "14                0.021739                   0.434346          0.599952   \n",
       "15                0.141304                   0.434346          0.599952   \n",
       "16                0.173913                   0.434346          0.599952   \n",
       "17                0.108696                   0.434346          0.599952   \n",
       "18                0.141304                   0.434346          0.599952   \n",
       "19                0.282609                   0.434346          0.599952   \n",
       "20                0.173913                   0.434346          0.599952   \n",
       "21                0.333333                   0.434346          0.599952   \n",
       "22                0.411932                   0.434346          0.599952   \n",
       "23                0.163043                   0.434346          0.599952   \n",
       "24                0.163043                   0.434346          0.599952   \n",
       "25                0.000000                   0.434346          0.599952   \n",
       "26                0.000000                   0.434346          0.599952   \n",
       "27                0.000000                   0.434346          0.599952   \n",
       "\n",
       "    HIGH_Weight  F_WEIGHT  \n",
       "0      0.050239     0.017  \n",
       "1      0.050239     0.017  \n",
       "2      0.050239     0.017  \n",
       "3      0.050239     0.017  \n",
       "4      0.050239     0.017  \n",
       "5      0.050239     0.017  \n",
       "6      0.050239     0.017  \n",
       "7      0.050239     0.017  \n",
       "8      0.050239     0.017  \n",
       "9      0.050239     0.017  \n",
       "10     0.050239     0.017  \n",
       "11     0.050239     0.017  \n",
       "12     0.050239     0.017  \n",
       "13     0.050239     0.017  \n",
       "14     0.050239     0.017  \n",
       "15     0.050239     0.017  \n",
       "16     0.050239     0.017  \n",
       "17     0.050239     0.017  \n",
       "18     0.050239     0.017  \n",
       "19     0.050239     0.017  \n",
       "20     0.050239     0.017  \n",
       "21     0.050239     0.017  \n",
       "22     0.050239     0.017  \n",
       "23     0.050239     0.017  \n",
       "24     0.050239     0.017  \n",
       "25     0.050239     0.017  \n",
       "26     0.050239     0.017  \n",
       "27     0.050239     0.017  "
      ]
     },
     "execution_count": 46,
     "metadata": {},
     "output_type": "execute_result"
    }
   ],
   "source": [
    "Busanaccident"
   ]
  },
  {
   "cell_type": "markdown",
   "metadata": {},
   "source": [
    "## 정리된 데이터에 scale 적용"
   ]
  },
  {
   "cell_type": "code",
   "execution_count": 47,
   "metadata": {},
   "outputs": [],
   "source": [
    "scaler = MinMaxScaler()\n",
    "scaler.fit(Busanaccident)\n",
    "Busanaccident = scaler.transform(Busanaccident)                         # sccler 적용"
   ]
  },
  {
   "cell_type": "markdown",
   "metadata": {},
   "source": [
    "## 학습 데이터와 동일한 데이터 형태로 만들기위해 pca사용"
   ]
  },
  {
   "cell_type": "code",
   "execution_count": null,
   "metadata": {},
   "outputs": [],
   "source": [
    "pca = PCA(n_components=4)\n",
    "printcipalComponents = pca.fit_transform(Busanaccident)\n",
    "Busanaccident = pd.DataFrame(data=printcipalComponents, columns = ['principal component1', 'principal component2','principal component3', 'principal component4'])"
   ]
  },
  {
   "cell_type": "markdown",
   "metadata": {},
   "source": [
    "## 초량동에 대한 예측 실시\n"
   ]
  },
  {
   "cell_type": "code",
   "execution_count": 49,
   "metadata": {},
   "outputs": [
    {
     "data": {
      "text/plain": [
       "array([[0.60926565, 0.39073435],\n",
       "       [0.60926565, 0.39073435],\n",
       "       [0.60926565, 0.39073435],\n",
       "       [0.60926565, 0.39073435],\n",
       "       [0.67169701, 0.32830299],\n",
       "       [0.60926565, 0.39073435],\n",
       "       [0.60926565, 0.39073435],\n",
       "       [0.76690368, 0.23309632],\n",
       "       [0.91636946, 0.08363054],\n",
       "       [0.60926565, 0.39073435],\n",
       "       [0.67169701, 0.32830299],\n",
       "       [0.67169701, 0.32830299],\n",
       "       [0.67169701, 0.32830299],\n",
       "       [0.67169701, 0.32830299],\n",
       "       [0.76690368, 0.23309632],\n",
       "       [0.73306125, 0.26693875],\n",
       "       [0.61342668, 0.38657332],\n",
       "       [0.90258677, 0.09741323],\n",
       "       [0.73306125, 0.26693875],\n",
       "       [0.72734519, 0.27265481],\n",
       "       [0.61342668, 0.38657332],\n",
       "       [0.73849004, 0.26150996],\n",
       "       [0.6007923 , 0.3992077 ],\n",
       "       [0.64450036, 0.35549964],\n",
       "       [0.64450036, 0.35549964],\n",
       "       [0.60926565, 0.39073435],\n",
       "       [0.60926565, 0.39073435],\n",
       "       [0.60926565, 0.39073435]])"
      ]
     },
     "execution_count": 49,
     "metadata": {},
     "output_type": "execute_result"
    }
   ],
   "source": [
    "accident_predict= ensemble.predict(Busanaccident)                       # 학습된 모델을 활용해 사고사례 예측 실시\n",
    "ensemble.predict_proba(Busanaccident)"
   ]
  },
  {
   "cell_type": "code",
   "execution_count": 50,
   "metadata": {},
   "outputs": [
    {
     "name": "stdout",
     "output_type": "stream",
     "text": [
      "[0 0 0 0 0 0 0 0 0 0 0 0 0 0 0 0 0 0 0 0 0 0 0 0 0 0 0 0]\n"
     ]
    }
   ],
   "source": [
    "print(accident_predict)                                                 # 예측값 확인"
   ]
  },
  {
   "cell_type": "code",
   "execution_count": 42,
   "metadata": {},
   "outputs": [],
   "source": [
    "import joblib"
   ]
  },
  {
   "cell_type": "code",
   "execution_count": 43,
   "metadata": {},
   "outputs": [
    {
     "data": {
      "text/plain": [
       "['../../Data/final_data/model/geo_model/ensemble.pkl']"
      ]
     },
     "execution_count": 43,
     "metadata": {},
     "output_type": "execute_result"
    }
   ],
   "source": [
    "joblib.dump(ensemble,'../../Data/final_data/model/geo_model/ensemble.pkl')"
   ]
  },
  {
   "cell_type": "code",
   "execution_count": null,
   "metadata": {},
   "outputs": [],
   "source": []
  }
 ],
 "metadata": {
  "kernelspec": {
   "display_name": "Python 3",
   "language": "python",
   "name": "python3"
  },
  "language_info": {
   "codemirror_mode": {
    "name": "ipython",
    "version": 3
   },
   "file_extension": ".py",
   "mimetype": "text/x-python",
   "name": "python",
   "nbconvert_exporter": "python",
   "pygments_lexer": "ipython3",
   "version": "3.7.6"
  }
 },
 "nbformat": 4,
 "nbformat_minor": 4
}

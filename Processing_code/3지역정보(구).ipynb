{
 "cells": [
  {
   "cell_type": "code",
   "execution_count": 56,
   "metadata": {},
   "outputs": [],
   "source": [
    "#구 비율 데이터 만들기 -> PIH_MERGE만들기"
   ]
  },
  {
   "cell_type": "code",
   "execution_count": 57,
   "metadata": {},
   "outputs": [],
   "source": [
    "import pandas as pd\n",
    "import geopandas as gpd\n",
    "import numpy as np"
   ]
  },
  {
   "cell_type": "code",
   "execution_count": 58,
   "metadata": {},
   "outputs": [],
   "source": [
    "code = pd.read_csv('../Data/processing_data/2nd/busan_code.csv')"
   ]
  },
  {
   "cell_type": "code",
   "execution_count": 59,
   "metadata": {},
   "outputs": [],
   "source": [
    "sig_code = code[code['DONG'].isna()].reset_index(drop=True)"
   ]
  },
  {
   "cell_type": "code",
   "execution_count": 60,
   "metadata": {},
   "outputs": [],
   "source": [
    "sig_code = sig_code.drop(columns='DONG')"
   ]
  },
  {
   "cell_type": "code",
   "execution_count": 61,
   "metadata": {},
   "outputs": [],
   "source": [
    "#불투수면 작업"
   ]
  },
  {
   "cell_type": "code",
   "execution_count": 62,
   "metadata": {},
   "outputs": [],
   "source": [
    "#전국 데이터에서 부산 데이터를 뽑아냄 불투수면의 경우 법정동코드로 되어 있고 \n",
    "# 부산의 법정동코드는 21로 시작하는데 부산의 '구' 데이터만 가져온다.\n",
    "#busan_code = busan_code.rename(columns={'법정동코드':'CODE','n2':'ZONE','n3':'DONG'})"
   ]
  },
  {
   "cell_type": "code",
   "execution_count": 63,
   "metadata": {},
   "outputs": [],
   "source": [
    "imper = pd.read_excel('../data/rawdata/imper_ratio_data.xlsx')\n",
    "imper['코드'] = imper['코드'].apply(str)\n",
    "imper = imper[imper['코드'].str.startswith('21')].reset_index(drop=True)\n",
    "imper = imper.drop(index=0).reset_index(drop=True)\n",
    "imper = imper.drop(columns=['코드','기준연도','불투수면 면적(㎢)'])\n",
    "imper.rename(columns={'시도시군구':'ZONE', '불투수면 비율(%)':'IMP_SUR_RATIO',\\\n",
    "                              '행정구역면적(㎢)':'ZONE_AREA'}, inplace=True)\n",
    "imper['ZONE_AREA'] = round(imper['ZONE_AREA'],2) * 10000000\n",
    "imper['IMP_SUR_RATIO'] = round(imper['IMP_SUR_RATIO'],2)\n",
    "PIH_merge = pd.merge(sig_code, imper, on='ZONE', how='left')"
   ]
  },
  {
   "cell_type": "code",
   "execution_count": 64,
   "metadata": {},
   "outputs": [],
   "source": [
    "#맨홀작업"
   ]
  },
  {
   "cell_type": "code",
   "execution_count": 65,
   "metadata": {},
   "outputs": [],
   "source": [
    "manhole = pd.read_excel(\"../Data/rawdata/manhole_data.xlsx\", sheet_name=\"2-1_지역별 현황\", header = 1)"
   ]
  },
  {
   "cell_type": "code",
   "execution_count": 66,
   "metadata": {},
   "outputs": [],
   "source": [
    "manhole = manhole[manhole[\"행정구역\"] == '부산광역시'][['Unnamed: 2', '합류식맨홀\\n(개소)']].iloc[2:]"
   ]
  },
  {
   "cell_type": "code",
   "execution_count": 67,
   "metadata": {},
   "outputs": [],
   "source": [
    "manhole.rename(columns={'Unnamed: 2':'ZONE', '합류식맨홀\\n(개소)':'MANHOLES_COUNT'}, inplace=True)\n",
    "manhole.reset_index(drop=True)\n",
    "manhole['MANHOLES_COUNT'] = manhole['MANHOLES_COUNT'].astype(int)"
   ]
  },
  {
   "cell_type": "code",
   "execution_count": 68,
   "metadata": {},
   "outputs": [],
   "source": [
    "PIH_merge = pd.merge(PIH_merge, manhole, on='ZONE', how='left')"
   ]
  },
  {
   "cell_type": "code",
   "execution_count": 69,
   "metadata": {},
   "outputs": [
    {
     "data": {
      "text/html": [
       "<div>\n",
       "<style scoped>\n",
       "    .dataframe tbody tr th:only-of-type {\n",
       "        vertical-align: middle;\n",
       "    }\n",
       "\n",
       "    .dataframe tbody tr th {\n",
       "        vertical-align: top;\n",
       "    }\n",
       "\n",
       "    .dataframe thead th {\n",
       "        text-align: right;\n",
       "    }\n",
       "</style>\n",
       "<table border=\"1\" class=\"dataframe\">\n",
       "  <thead>\n",
       "    <tr style=\"text-align: right;\">\n",
       "      <th></th>\n",
       "      <th>CODE</th>\n",
       "      <th>ZONE</th>\n",
       "      <th>IMP_SUR_RATIO</th>\n",
       "      <th>ZONE_AREA</th>\n",
       "      <th>MANHOLES_COUNT</th>\n",
       "    </tr>\n",
       "  </thead>\n",
       "  <tbody>\n",
       "    <tr>\n",
       "      <th>0</th>\n",
       "      <td>2611000000</td>\n",
       "      <td>중구</td>\n",
       "      <td>81.61</td>\n",
       "      <td>3.010000e+07</td>\n",
       "      <td>773</td>\n",
       "    </tr>\n",
       "    <tr>\n",
       "      <th>1</th>\n",
       "      <td>2614000000</td>\n",
       "      <td>서구</td>\n",
       "      <td>40.57</td>\n",
       "      <td>1.414000e+08</td>\n",
       "      <td>1308</td>\n",
       "    </tr>\n",
       "    <tr>\n",
       "      <th>2</th>\n",
       "      <td>2617000000</td>\n",
       "      <td>동구</td>\n",
       "      <td>57.92</td>\n",
       "      <td>1.009000e+08</td>\n",
       "      <td>2410</td>\n",
       "    </tr>\n",
       "    <tr>\n",
       "      <th>3</th>\n",
       "      <td>2620000000</td>\n",
       "      <td>영도구</td>\n",
       "      <td>45.77</td>\n",
       "      <td>1.463000e+08</td>\n",
       "      <td>1914</td>\n",
       "    </tr>\n",
       "    <tr>\n",
       "      <th>4</th>\n",
       "      <td>2623000000</td>\n",
       "      <td>부산진구</td>\n",
       "      <td>45.91</td>\n",
       "      <td>2.978000e+08</td>\n",
       "      <td>6581</td>\n",
       "    </tr>\n",
       "    <tr>\n",
       "      <th>5</th>\n",
       "      <td>2626000000</td>\n",
       "      <td>동래구</td>\n",
       "      <td>59.03</td>\n",
       "      <td>1.667000e+08</td>\n",
       "      <td>3165</td>\n",
       "    </tr>\n",
       "    <tr>\n",
       "      <th>6</th>\n",
       "      <td>2629000000</td>\n",
       "      <td>남구</td>\n",
       "      <td>51.82</td>\n",
       "      <td>2.728000e+08</td>\n",
       "      <td>3156</td>\n",
       "    </tr>\n",
       "    <tr>\n",
       "      <th>7</th>\n",
       "      <td>2632000000</td>\n",
       "      <td>북구</td>\n",
       "      <td>22.17</td>\n",
       "      <td>3.976000e+08</td>\n",
       "      <td>6842</td>\n",
       "    </tr>\n",
       "    <tr>\n",
       "      <th>8</th>\n",
       "      <td>2635000000</td>\n",
       "      <td>해운대구</td>\n",
       "      <td>27.63</td>\n",
       "      <td>5.232000e+08</td>\n",
       "      <td>8794</td>\n",
       "    </tr>\n",
       "    <tr>\n",
       "      <th>9</th>\n",
       "      <td>2638000000</td>\n",
       "      <td>사하구</td>\n",
       "      <td>38.20</td>\n",
       "      <td>4.711000e+08</td>\n",
       "      <td>8331</td>\n",
       "    </tr>\n",
       "    <tr>\n",
       "      <th>10</th>\n",
       "      <td>2641000000</td>\n",
       "      <td>금정구</td>\n",
       "      <td>18.94</td>\n",
       "      <td>6.573000e+08</td>\n",
       "      <td>3082</td>\n",
       "    </tr>\n",
       "    <tr>\n",
       "      <th>11</th>\n",
       "      <td>2644000000</td>\n",
       "      <td>강서구</td>\n",
       "      <td>24.36</td>\n",
       "      <td>1.848800e+09</td>\n",
       "      <td>12838</td>\n",
       "    </tr>\n",
       "    <tr>\n",
       "      <th>12</th>\n",
       "      <td>2647000000</td>\n",
       "      <td>연제구</td>\n",
       "      <td>62.32</td>\n",
       "      <td>1.215000e+08</td>\n",
       "      <td>1991</td>\n",
       "    </tr>\n",
       "    <tr>\n",
       "      <th>13</th>\n",
       "      <td>2650000000</td>\n",
       "      <td>수영구</td>\n",
       "      <td>61.44</td>\n",
       "      <td>1.035000e+08</td>\n",
       "      <td>1930</td>\n",
       "    </tr>\n",
       "    <tr>\n",
       "      <th>14</th>\n",
       "      <td>2653000000</td>\n",
       "      <td>사상구</td>\n",
       "      <td>40.23</td>\n",
       "      <td>3.625000e+08</td>\n",
       "      <td>5053</td>\n",
       "    </tr>\n",
       "    <tr>\n",
       "      <th>15</th>\n",
       "      <td>2671000000</td>\n",
       "      <td>기장군</td>\n",
       "      <td>7.70</td>\n",
       "      <td>2.198800e+09</td>\n",
       "      <td>3558</td>\n",
       "    </tr>\n",
       "  </tbody>\n",
       "</table>\n",
       "</div>"
      ],
      "text/plain": [
       "          CODE  ZONE  IMP_SUR_RATIO     ZONE_AREA  MANHOLES_COUNT\n",
       "0   2611000000    중구          81.61  3.010000e+07             773\n",
       "1   2614000000    서구          40.57  1.414000e+08            1308\n",
       "2   2617000000    동구          57.92  1.009000e+08            2410\n",
       "3   2620000000   영도구          45.77  1.463000e+08            1914\n",
       "4   2623000000  부산진구          45.91  2.978000e+08            6581\n",
       "5   2626000000   동래구          59.03  1.667000e+08            3165\n",
       "6   2629000000    남구          51.82  2.728000e+08            3156\n",
       "7   2632000000    북구          22.17  3.976000e+08            6842\n",
       "8   2635000000  해운대구          27.63  5.232000e+08            8794\n",
       "9   2638000000   사하구          38.20  4.711000e+08            8331\n",
       "10  2641000000   금정구          18.94  6.573000e+08            3082\n",
       "11  2644000000   강서구          24.36  1.848800e+09           12838\n",
       "12  2647000000   연제구          62.32  1.215000e+08            1991\n",
       "13  2650000000   수영구          61.44  1.035000e+08            1930\n",
       "14  2653000000   사상구          40.23  3.625000e+08            5053\n",
       "15  2671000000   기장군           7.70  2.198800e+09            3558"
      ]
     },
     "execution_count": 69,
     "metadata": {},
     "output_type": "execute_result"
    }
   ],
   "source": [
    "PIH_merge"
   ]
  },
  {
   "cell_type": "code",
   "execution_count": 70,
   "metadata": {},
   "outputs": [],
   "source": [
    "#펌프작업"
   ]
  },
  {
   "cell_type": "code",
   "execution_count": 71,
   "metadata": {},
   "outputs": [],
   "source": [
    "pump_data1 = pd.read_csv('../data/rawdata/busan_pump_data.csv', encoding='euc-kr')\n",
    "pump_data2 = gpd.read_file('../Data/rawdata/FL_PUMP/FL_PUMP_SP.shp')\n",
    "pump_data1.iloc[29:31,0:1] = '금정구'\n",
    "pump_data1.iloc[26:27,0:1] = '연제구'\n",
    "code['CODE'] = code['CODE'].apply(str)"
   ]
  },
  {
   "cell_type": "code",
   "execution_count": 72,
   "metadata": {},
   "outputs": [
    {
     "data": {
      "text/html": [
       "<div>\n",
       "<style scoped>\n",
       "    .dataframe tbody tr th:only-of-type {\n",
       "        vertical-align: middle;\n",
       "    }\n",
       "\n",
       "    .dataframe tbody tr th {\n",
       "        vertical-align: top;\n",
       "    }\n",
       "\n",
       "    .dataframe thead th {\n",
       "        text-align: right;\n",
       "    }\n",
       "</style>\n",
       "<table border=\"1\" class=\"dataframe\">\n",
       "  <thead>\n",
       "    <tr style=\"text-align: right;\">\n",
       "      <th></th>\n",
       "      <th>CODE</th>\n",
       "      <th>ZONE</th>\n",
       "      <th>DONG</th>\n",
       "    </tr>\n",
       "  </thead>\n",
       "  <tbody>\n",
       "    <tr>\n",
       "      <th>0</th>\n",
       "      <td>2611000000</td>\n",
       "      <td>중구</td>\n",
       "      <td>NaN</td>\n",
       "    </tr>\n",
       "    <tr>\n",
       "      <th>1</th>\n",
       "      <td>2611010100</td>\n",
       "      <td>중구</td>\n",
       "      <td>영주동</td>\n",
       "    </tr>\n",
       "    <tr>\n",
       "      <th>2</th>\n",
       "      <td>2611010200</td>\n",
       "      <td>중구</td>\n",
       "      <td>대창동1가</td>\n",
       "    </tr>\n",
       "    <tr>\n",
       "      <th>3</th>\n",
       "      <td>2611010300</td>\n",
       "      <td>중구</td>\n",
       "      <td>대창동2가</td>\n",
       "    </tr>\n",
       "    <tr>\n",
       "      <th>4</th>\n",
       "      <td>2611010400</td>\n",
       "      <td>중구</td>\n",
       "      <td>중앙동1가</td>\n",
       "    </tr>\n",
       "    <tr>\n",
       "      <th>...</th>\n",
       "      <td>...</td>\n",
       "      <td>...</td>\n",
       "      <td>...</td>\n",
       "    </tr>\n",
       "    <tr>\n",
       "      <th>203</th>\n",
       "      <td>2671025000</td>\n",
       "      <td>기장군</td>\n",
       "      <td>기장읍</td>\n",
       "    </tr>\n",
       "    <tr>\n",
       "      <th>204</th>\n",
       "      <td>2671025300</td>\n",
       "      <td>기장군</td>\n",
       "      <td>장안읍</td>\n",
       "    </tr>\n",
       "    <tr>\n",
       "      <th>205</th>\n",
       "      <td>2671025600</td>\n",
       "      <td>기장군</td>\n",
       "      <td>정관읍</td>\n",
       "    </tr>\n",
       "    <tr>\n",
       "      <th>206</th>\n",
       "      <td>2671031000</td>\n",
       "      <td>기장군</td>\n",
       "      <td>일광면</td>\n",
       "    </tr>\n",
       "    <tr>\n",
       "      <th>207</th>\n",
       "      <td>2671033000</td>\n",
       "      <td>기장군</td>\n",
       "      <td>철마면</td>\n",
       "    </tr>\n",
       "  </tbody>\n",
       "</table>\n",
       "<p>208 rows × 3 columns</p>\n",
       "</div>"
      ],
      "text/plain": [
       "           CODE ZONE   DONG\n",
       "0    2611000000   중구    NaN\n",
       "1    2611010100   중구    영주동\n",
       "2    2611010200   중구  대창동1가\n",
       "3    2611010300   중구  대창동2가\n",
       "4    2611010400   중구  중앙동1가\n",
       "..          ...  ...    ...\n",
       "203  2671025000  기장군    기장읍\n",
       "204  2671025300  기장군    장안읍\n",
       "205  2671025600  기장군    정관읍\n",
       "206  2671031000  기장군    일광면\n",
       "207  2671033000  기장군    철마면\n",
       "\n",
       "[208 rows x 3 columns]"
      ]
     },
     "execution_count": 72,
     "metadata": {},
     "output_type": "execute_result"
    }
   ],
   "source": [
    "code"
   ]
  },
  {
   "cell_type": "code",
   "execution_count": 73,
   "metadata": {},
   "outputs": [],
   "source": [
    "pump_data2 = pd.merge(code, pump_data2, left_on='CODE', right_on='ADM_CD', how='inner')"
   ]
  },
  {
   "cell_type": "code",
   "execution_count": 74,
   "metadata": {},
   "outputs": [
    {
     "data": {
      "text/plain": [
       "(21, 18)"
      ]
     },
     "execution_count": 74,
     "metadata": {},
     "output_type": "execute_result"
    }
   ],
   "source": [
    "pump_data2.shape"
   ]
  },
  {
   "cell_type": "code",
   "execution_count": 75,
   "metadata": {},
   "outputs": [],
   "source": [
    "pump_data2 = pump_data2.groupby(by='ZONE').count()['CODE']"
   ]
  },
  {
   "cell_type": "code",
   "execution_count": 76,
   "metadata": {},
   "outputs": [
    {
     "data": {
      "text/plain": [
       "21"
      ]
     },
     "execution_count": 76,
     "metadata": {},
     "output_type": "execute_result"
    }
   ],
   "source": [
    "pump_data2.sum()"
   ]
  },
  {
   "cell_type": "code",
   "execution_count": 77,
   "metadata": {},
   "outputs": [],
   "source": [
    "pump_data1 = pump_data1.groupby(by='구군').count()['배수펌프장명']\n",
    "pump_data = pump_data1.add(pump_data2,fill_value=0)"
   ]
  },
  {
   "cell_type": "code",
   "execution_count": 81,
   "metadata": {},
   "outputs": [],
   "source": [
    "pump_data = pump_data.reset_index()\n",
    "pump_data.rename(columns={'index':'ZONE',0:'PUMP_COUNT'},inplace=True)\n",
    "pump_data['PUMP_COUNT'] = pump_data['PUMP_COUNT'].astype(int)"
   ]
  },
  {
   "cell_type": "code",
   "execution_count": 84,
   "metadata": {},
   "outputs": [
    {
     "data": {
      "text/html": [
       "<div>\n",
       "<style scoped>\n",
       "    .dataframe tbody tr th:only-of-type {\n",
       "        vertical-align: middle;\n",
       "    }\n",
       "\n",
       "    .dataframe tbody tr th {\n",
       "        vertical-align: top;\n",
       "    }\n",
       "\n",
       "    .dataframe thead th {\n",
       "        text-align: right;\n",
       "    }\n",
       "</style>\n",
       "<table border=\"1\" class=\"dataframe\">\n",
       "  <thead>\n",
       "    <tr style=\"text-align: right;\">\n",
       "      <th></th>\n",
       "      <th>ZONE</th>\n",
       "      <th>PUMP_COUNT</th>\n",
       "    </tr>\n",
       "  </thead>\n",
       "  <tbody>\n",
       "    <tr>\n",
       "      <th>0</th>\n",
       "      <td>강서구</td>\n",
       "      <td>22</td>\n",
       "    </tr>\n",
       "    <tr>\n",
       "      <th>1</th>\n",
       "      <td>금정구</td>\n",
       "      <td>2</td>\n",
       "    </tr>\n",
       "    <tr>\n",
       "      <th>2</th>\n",
       "      <td>기장군</td>\n",
       "      <td>3</td>\n",
       "    </tr>\n",
       "    <tr>\n",
       "      <th>3</th>\n",
       "      <td>남구</td>\n",
       "      <td>7</td>\n",
       "    </tr>\n",
       "    <tr>\n",
       "      <th>4</th>\n",
       "      <td>동구</td>\n",
       "      <td>2</td>\n",
       "    </tr>\n",
       "    <tr>\n",
       "      <th>5</th>\n",
       "      <td>동래구</td>\n",
       "      <td>4</td>\n",
       "    </tr>\n",
       "    <tr>\n",
       "      <th>6</th>\n",
       "      <td>북구</td>\n",
       "      <td>6</td>\n",
       "    </tr>\n",
       "    <tr>\n",
       "      <th>7</th>\n",
       "      <td>사상구</td>\n",
       "      <td>14</td>\n",
       "    </tr>\n",
       "    <tr>\n",
       "      <th>8</th>\n",
       "      <td>사하구</td>\n",
       "      <td>7</td>\n",
       "    </tr>\n",
       "    <tr>\n",
       "      <th>9</th>\n",
       "      <td>연제구</td>\n",
       "      <td>5</td>\n",
       "    </tr>\n",
       "    <tr>\n",
       "      <th>10</th>\n",
       "      <td>해운대구</td>\n",
       "      <td>11</td>\n",
       "    </tr>\n",
       "  </tbody>\n",
       "</table>\n",
       "</div>"
      ],
      "text/plain": [
       "    ZONE  PUMP_COUNT\n",
       "0    강서구          22\n",
       "1    금정구           2\n",
       "2    기장군           3\n",
       "3     남구           7\n",
       "4     동구           2\n",
       "5    동래구           4\n",
       "6     북구           6\n",
       "7    사상구          14\n",
       "8    사하구           7\n",
       "9    연제구           5\n",
       "10  해운대구          11"
      ]
     },
     "execution_count": 84,
     "metadata": {},
     "output_type": "execute_result"
    }
   ],
   "source": [
    "pump_data"
   ]
  },
  {
   "cell_type": "code",
   "execution_count": 85,
   "metadata": {},
   "outputs": [],
   "source": [
    "PIH_merge = pd.merge(PIH_merge,pump_data,on='ZONE',how='left')"
   ]
  },
  {
   "cell_type": "code",
   "execution_count": 86,
   "metadata": {},
   "outputs": [],
   "source": [
    "PIH_merge = PIH_merge.fillna(0)"
   ]
  },
  {
   "cell_type": "code",
   "execution_count": 87,
   "metadata": {},
   "outputs": [
    {
     "data": {
      "text/html": [
       "<div>\n",
       "<style scoped>\n",
       "    .dataframe tbody tr th:only-of-type {\n",
       "        vertical-align: middle;\n",
       "    }\n",
       "\n",
       "    .dataframe tbody tr th {\n",
       "        vertical-align: top;\n",
       "    }\n",
       "\n",
       "    .dataframe thead th {\n",
       "        text-align: right;\n",
       "    }\n",
       "</style>\n",
       "<table border=\"1\" class=\"dataframe\">\n",
       "  <thead>\n",
       "    <tr style=\"text-align: right;\">\n",
       "      <th></th>\n",
       "      <th>CODE</th>\n",
       "      <th>ZONE</th>\n",
       "      <th>IMP_SUR_RATIO</th>\n",
       "      <th>ZONE_AREA</th>\n",
       "      <th>MANHOLES_COUNT</th>\n",
       "      <th>PUMP_COUNT</th>\n",
       "    </tr>\n",
       "  </thead>\n",
       "  <tbody>\n",
       "    <tr>\n",
       "      <th>0</th>\n",
       "      <td>2611000000</td>\n",
       "      <td>중구</td>\n",
       "      <td>81.61</td>\n",
       "      <td>3.010000e+07</td>\n",
       "      <td>773</td>\n",
       "      <td>0.0</td>\n",
       "    </tr>\n",
       "    <tr>\n",
       "      <th>1</th>\n",
       "      <td>2614000000</td>\n",
       "      <td>서구</td>\n",
       "      <td>40.57</td>\n",
       "      <td>1.414000e+08</td>\n",
       "      <td>1308</td>\n",
       "      <td>0.0</td>\n",
       "    </tr>\n",
       "    <tr>\n",
       "      <th>2</th>\n",
       "      <td>2617000000</td>\n",
       "      <td>동구</td>\n",
       "      <td>57.92</td>\n",
       "      <td>1.009000e+08</td>\n",
       "      <td>2410</td>\n",
       "      <td>2.0</td>\n",
       "    </tr>\n",
       "    <tr>\n",
       "      <th>3</th>\n",
       "      <td>2620000000</td>\n",
       "      <td>영도구</td>\n",
       "      <td>45.77</td>\n",
       "      <td>1.463000e+08</td>\n",
       "      <td>1914</td>\n",
       "      <td>0.0</td>\n",
       "    </tr>\n",
       "    <tr>\n",
       "      <th>4</th>\n",
       "      <td>2623000000</td>\n",
       "      <td>부산진구</td>\n",
       "      <td>45.91</td>\n",
       "      <td>2.978000e+08</td>\n",
       "      <td>6581</td>\n",
       "      <td>0.0</td>\n",
       "    </tr>\n",
       "    <tr>\n",
       "      <th>5</th>\n",
       "      <td>2626000000</td>\n",
       "      <td>동래구</td>\n",
       "      <td>59.03</td>\n",
       "      <td>1.667000e+08</td>\n",
       "      <td>3165</td>\n",
       "      <td>4.0</td>\n",
       "    </tr>\n",
       "    <tr>\n",
       "      <th>6</th>\n",
       "      <td>2629000000</td>\n",
       "      <td>남구</td>\n",
       "      <td>51.82</td>\n",
       "      <td>2.728000e+08</td>\n",
       "      <td>3156</td>\n",
       "      <td>7.0</td>\n",
       "    </tr>\n",
       "    <tr>\n",
       "      <th>7</th>\n",
       "      <td>2632000000</td>\n",
       "      <td>북구</td>\n",
       "      <td>22.17</td>\n",
       "      <td>3.976000e+08</td>\n",
       "      <td>6842</td>\n",
       "      <td>6.0</td>\n",
       "    </tr>\n",
       "    <tr>\n",
       "      <th>8</th>\n",
       "      <td>2635000000</td>\n",
       "      <td>해운대구</td>\n",
       "      <td>27.63</td>\n",
       "      <td>5.232000e+08</td>\n",
       "      <td>8794</td>\n",
       "      <td>11.0</td>\n",
       "    </tr>\n",
       "    <tr>\n",
       "      <th>9</th>\n",
       "      <td>2638000000</td>\n",
       "      <td>사하구</td>\n",
       "      <td>38.20</td>\n",
       "      <td>4.711000e+08</td>\n",
       "      <td>8331</td>\n",
       "      <td>7.0</td>\n",
       "    </tr>\n",
       "    <tr>\n",
       "      <th>10</th>\n",
       "      <td>2641000000</td>\n",
       "      <td>금정구</td>\n",
       "      <td>18.94</td>\n",
       "      <td>6.573000e+08</td>\n",
       "      <td>3082</td>\n",
       "      <td>2.0</td>\n",
       "    </tr>\n",
       "    <tr>\n",
       "      <th>11</th>\n",
       "      <td>2644000000</td>\n",
       "      <td>강서구</td>\n",
       "      <td>24.36</td>\n",
       "      <td>1.848800e+09</td>\n",
       "      <td>12838</td>\n",
       "      <td>22.0</td>\n",
       "    </tr>\n",
       "    <tr>\n",
       "      <th>12</th>\n",
       "      <td>2647000000</td>\n",
       "      <td>연제구</td>\n",
       "      <td>62.32</td>\n",
       "      <td>1.215000e+08</td>\n",
       "      <td>1991</td>\n",
       "      <td>5.0</td>\n",
       "    </tr>\n",
       "    <tr>\n",
       "      <th>13</th>\n",
       "      <td>2650000000</td>\n",
       "      <td>수영구</td>\n",
       "      <td>61.44</td>\n",
       "      <td>1.035000e+08</td>\n",
       "      <td>1930</td>\n",
       "      <td>0.0</td>\n",
       "    </tr>\n",
       "    <tr>\n",
       "      <th>14</th>\n",
       "      <td>2653000000</td>\n",
       "      <td>사상구</td>\n",
       "      <td>40.23</td>\n",
       "      <td>3.625000e+08</td>\n",
       "      <td>5053</td>\n",
       "      <td>14.0</td>\n",
       "    </tr>\n",
       "    <tr>\n",
       "      <th>15</th>\n",
       "      <td>2671000000</td>\n",
       "      <td>기장군</td>\n",
       "      <td>7.70</td>\n",
       "      <td>2.198800e+09</td>\n",
       "      <td>3558</td>\n",
       "      <td>3.0</td>\n",
       "    </tr>\n",
       "  </tbody>\n",
       "</table>\n",
       "</div>"
      ],
      "text/plain": [
       "          CODE  ZONE  IMP_SUR_RATIO     ZONE_AREA  MANHOLES_COUNT  PUMP_COUNT\n",
       "0   2611000000    중구          81.61  3.010000e+07             773         0.0\n",
       "1   2614000000    서구          40.57  1.414000e+08            1308         0.0\n",
       "2   2617000000    동구          57.92  1.009000e+08            2410         2.0\n",
       "3   2620000000   영도구          45.77  1.463000e+08            1914         0.0\n",
       "4   2623000000  부산진구          45.91  2.978000e+08            6581         0.0\n",
       "5   2626000000   동래구          59.03  1.667000e+08            3165         4.0\n",
       "6   2629000000    남구          51.82  2.728000e+08            3156         7.0\n",
       "7   2632000000    북구          22.17  3.976000e+08            6842         6.0\n",
       "8   2635000000  해운대구          27.63  5.232000e+08            8794        11.0\n",
       "9   2638000000   사하구          38.20  4.711000e+08            8331         7.0\n",
       "10  2641000000   금정구          18.94  6.573000e+08            3082         2.0\n",
       "11  2644000000   강서구          24.36  1.848800e+09           12838        22.0\n",
       "12  2647000000   연제구          62.32  1.215000e+08            1991         5.0\n",
       "13  2650000000   수영구          61.44  1.035000e+08            1930         0.0\n",
       "14  2653000000   사상구          40.23  3.625000e+08            5053        14.0\n",
       "15  2671000000   기장군           7.70  2.198800e+09            3558         3.0"
      ]
     },
     "execution_count": 87,
     "metadata": {},
     "output_type": "execute_result"
    }
   ],
   "source": [
    "PIH_merge"
   ]
  },
  {
   "cell_type": "code",
   "execution_count": 89,
   "metadata": {},
   "outputs": [],
   "source": [
    "PIH_merge['PUMP_RATIO'] = PIH_merge['PUMP_COUNT'] / PIH_merge['ZONE_AREA']"
   ]
  },
  {
   "cell_type": "code",
   "execution_count": 94,
   "metadata": {},
   "outputs": [],
   "source": [
    "PIH_merge['MANHOLES_RATIO'] = PIH_merge['MANHOLES_COUNT'] * 1000 / PIH_merge['ZONE_AREA']"
   ]
  },
  {
   "cell_type": "code",
   "execution_count": 96,
   "metadata": {},
   "outputs": [],
   "source": [
    "PIH_merge = PIH_merge.sort_values('ZONE').reset_index(drop=True)"
   ]
  },
  {
   "cell_type": "code",
   "execution_count": 98,
   "metadata": {},
   "outputs": [],
   "source": [
    "PIH_merge.to_csv('../Data/processing_data/2nd/PIH_merge.csv', encoding='utf-8', index=False)"
   ]
  }
 ],
 "metadata": {
  "kernelspec": {
   "display_name": "Python 3",
   "language": "python",
   "name": "python3"
  },
  "language_info": {
   "codemirror_mode": {
    "name": "ipython",
    "version": 3
   },
   "file_extension": ".py",
   "mimetype": "text/x-python",
   "name": "python",
   "nbconvert_exporter": "python",
   "pygments_lexer": "ipython3",
   "version": "3.7.6"
  }
 },
 "nbformat": 4,
 "nbformat_minor": 4
}

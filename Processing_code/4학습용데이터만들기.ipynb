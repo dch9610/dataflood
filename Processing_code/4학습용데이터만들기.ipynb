{
 "cells": [
  {
   "cell_type": "markdown",
   "metadata": {},
   "source": [
    "## 학습용 데이터 만들기\n",
    " - 1. 침수데이터 결측치 해결\n",
    " - 2. 침수데이터와 비침수 데이터 합치기\n",
    " - 3. 필요한 데이터만 뽑아내기\n",
    " - 4. 가중치 주기\n",
    " - 5. 학습용 데이터 저장"
   ]
  },
  {
   "cell_type": "code",
   "execution_count": null,
   "metadata": {},
   "outputs": [],
   "source": [
    "#이미 가중치를 주어 만들어 두었지만 학습용데이터가 만들어지는 과정을 보여주기 위해 가중치를 주기 전 데이터를 사용"
   ]
  },
  {
   "cell_type": "code",
   "execution_count": 154,
   "metadata": {},
   "outputs": [],
   "source": [
    "import pandas as pd\n",
    "import numpy as np"
   ]
  },
  {
   "cell_type": "code",
   "execution_count": 155,
   "metadata": {},
   "outputs": [],
   "source": [
    "sig_info = pd.read_csv('../Data/processing_data/2nd/sig_info.csv')"
   ]
  },
  {
   "cell_type": "code",
   "execution_count": 156,
   "metadata": {},
   "outputs": [],
   "source": [
    "BF_R_P = pd.read_csv('../data/processing_data/2nd/busan_flood_geo_rain.csv')"
   ]
  },
  {
   "cell_type": "code",
   "execution_count": 157,
   "metadata": {},
   "outputs": [],
   "source": [
    "BF_R_P = pd.merge(BF_R_P, sig_info, how='inner', on = 'ZONE')"
   ]
  },
  {
   "cell_type": "code",
   "execution_count": 158,
   "metadata": {},
   "outputs": [],
   "source": [
    "BF_R_P['FLOOD'] = np.nan"
   ]
  },
  {
   "cell_type": "code",
   "execution_count": 159,
   "metadata": {},
   "outputs": [],
   "source": [
    "SEQ_list = BF_R_P['SEQ'].unique()"
   ]
  },
  {
   "cell_type": "code",
   "execution_count": 160,
   "metadata": {},
   "outputs": [],
   "source": [
    "for seq in SEQ_list:\n",
    "    #사건 중 최대 강우량 인덱스를 마지막 인덱스로 지정\n",
    "    end_idx = BF_R_P.loc[(BF_R_P[\"SEQ\"]==seq)][\"HOUR_RAINFALL\"].idxmax()\n",
    "    \n",
    "    #시작 인덱스를 마지막 인덱스와 같은 값으로 정하고 아래에서 -1씩 뺄것\n",
    "    start_idx = end_idx\n",
    "    \n",
    "    #해당 사건의 최대 \"FLUD_DPWT\"(침수심) 값을 저장\n",
    "    FLUD_DPWT_max = BF_R_P.loc[end_idx,\"FLUD_DPWT\"]\n",
    "    \n",
    "    #해당 행의 강우 값을 저장하여 5이하가 나올 때까지 사용할 변수\n",
    "    time_rain = BF_R_P.loc[(BF_R_P[\"SEQ\"]==seq)][\"HOUR_RAINFALL\"].max()\n",
    "\n",
    "    #해당 행의 강우가 5이하이면 스톱하여 그 떄의 인덱스를 찾아 start_idx로 지정\n",
    "    while time_rain >=5:\n",
    "        start_idx -= 1\n",
    "        time_rain = BF_R_P.loc[start_idx,\"HOUR_RAINFALL\"]\n",
    "    \n",
    "    # 최대침수심에서 0인 곳까지 인덱스의 범위\n",
    "    n=end_idx-start_idx\n",
    "    \n",
    "    # 침수심 결측치를 채울 첫 행은 강우가 5mm이하 이므로 0\n",
    "    BF_R_P.loc[start_idx,\"FLUD_DPWT\"]=0\n",
    "    \n",
    "    # \"FLOOD\"(침수여부)에 대해서 시작 인덱스와 마지막 인덱스는 정해져있음\n",
    "    # 시작 인덱스의 \"FLOOD\" == 0\n",
    "    # 마지막 인덱스의 \"FLOOD\" == 1\n",
    "    BF_R_P.loc[start_idx,\"FLOOD\"] = 0\n",
    "    BF_R_P.loc[end_idx,\"FLOOD\"] = 1\n",
    "    \n",
    "    # 시작 인덱스와 마지막 인덱스 사이의 침수심 결측치를 선형적인 값을 채움\n",
    "    for i in range(1,n):\n",
    "        FLUD_DPWT = (FLUD_DPWT_max/(n))*i\n",
    "        BF_R_P.loc[start_idx+i,\"FLUD_DPWT\"]=FLUD_DPWT\n",
    "        if FLUD_DPWT >= 0.2 :\n",
    "            BF_R_P.loc[start_idx+i,\"FLOOD\"]=1\n",
    "        else:\n",
    "            BF_R_P.loc[start_idx+i,\"FLOOD\"]=0\n"
   ]
  },
  {
   "cell_type": "code",
   "execution_count": 161,
   "metadata": {},
   "outputs": [],
   "source": [
    "BUnF = pd.read_csv('../data/processing_data/2nd/busan_unflood_geo_rain.csv')"
   ]
  },
  {
   "cell_type": "code",
   "execution_count": 162,
   "metadata": {},
   "outputs": [],
   "source": [
    "BUnF = pd.merge(BUnF, sig_info, how='inner', on = 'ZONE')"
   ]
  },
  {
   "cell_type": "code",
   "execution_count": 163,
   "metadata": {},
   "outputs": [],
   "source": [
    "Flood_Exist = BF_R_P[BF_R_P['FLOOD']>=0]"
   ]
  },
  {
   "cell_type": "code",
   "execution_count": 164,
   "metadata": {},
   "outputs": [],
   "source": [
    "Unf_match = BUnF.loc[Flood_Exist[Flood_Exist['FLOOD']==1].index]"
   ]
  },
  {
   "cell_type": "code",
   "execution_count": 165,
   "metadata": {},
   "outputs": [],
   "source": [
    "training_data = pd.concat([Flood_Exist,Unf_match])"
   ]
  },
  {
   "cell_type": "code",
   "execution_count": 166,
   "metadata": {},
   "outputs": [],
   "source": [
    "training_data = training_data[['PUMP_RATIO','HOUR_RAINFALL','IMP_SUR_RATIO','SLOPE_AVG','HIGH','F_WEIGHT','FLOOD']]"
   ]
  },
  {
   "cell_type": "code",
   "execution_count": 167,
   "metadata": {},
   "outputs": [],
   "source": [
    "training_data.reset_index(drop=True, inplace=True)"
   ]
  },
  {
   "cell_type": "code",
   "execution_count": 168,
   "metadata": {},
   "outputs": [],
   "source": [
    "weight_data = pd.DataFrame()"
   ]
  },
  {
   "cell_type": "code",
   "execution_count": 169,
   "metadata": {},
   "outputs": [],
   "source": [
    "weight_data['Hourly_Rainfall_Weight'] = training_data['HOUR_RAINFALL'].copy()\n",
    "weight_data['Impervious_Surface_Weight'] = training_data['IMP_SUR_RATIO'].copy()\n",
    "weight_data['SLOPE_AVG_Weight'] = training_data['SLOPE_AVG'].copy()\n",
    "weight_data['HIGH_Weight'] = training_data['HIGH'].copy()"
   ]
  },
  {
   "cell_type": "code",
   "execution_count": 170,
   "metadata": {},
   "outputs": [],
   "source": [
    "#가중치"
   ]
  },
  {
   "cell_type": "markdown",
   "metadata": {},
   "source": [
    "## 강우량 가중치"
   ]
  },
  {
   "cell_type": "code",
   "execution_count": 171,
   "metadata": {},
   "outputs": [],
   "source": [
    "for idx,col in enumerate(training_data['HOUR_RAINFALL']):\n",
    "    if col <= 15:\n",
    "        weight_data['Hourly_Rainfall_Weight'][idx] = col / (46)\n",
    "    elif col > 15 and col <= 35:\n",
    "        weight_data['Hourly_Rainfall_Weight'][idx] = col / (18 * 2**2)\n",
    "    elif col > 35 and col <= 60:\n",
    "        weight_data['Hourly_Rainfall_Weight'][idx] = col / (17 * 3**2)\n",
    "    elif col > 60 and col <= 80:\n",
    "        weight_data['Hourly_Rainfall_Weight'][idx] = col / (11 * 4**2)\n",
    "    elif col > 80:\n",
    "        weight_data['Hourly_Rainfall_Weight'][idx] = col / (6.28 * 5**2)"
   ]
  },
  {
   "cell_type": "markdown",
   "metadata": {},
   "source": [
    "## 불투수면 가중치"
   ]
  },
  {
   "cell_type": "code",
   "execution_count": 172,
   "metadata": {},
   "outputs": [],
   "source": [
    "for idx,col in enumerate(training_data['IMP_SUR_RATIO']):\n",
    "    if col <= 15:\n",
    "        weight_data['Impervious_Surface_Weight'][idx] = col / 6.66\n",
    "    elif col > 15 and col <= 25:\n",
    "        weight_data['Impervious_Surface_Weight'][idx] = col / (20 * 2)\n",
    "    elif col > 25 and col <= 40:\n",
    "        weight_data['Impervious_Surface_Weight'][idx] = col / (13.33 * 3)\n",
    "    elif col > 40 and col <= 55:\n",
    "        weight_data['Impervious_Surface_Weight'][idx] = col / (33.33 * 4)\n",
    "    elif col > 55:\n",
    "        weight_data['Impervious_Surface_Weight'][idx] = col / (26.67 * 5)"
   ]
  },
  {
   "cell_type": "markdown",
   "metadata": {},
   "source": [
    "## 경사도 가중치"
   ]
  },
  {
   "cell_type": "code",
   "execution_count": 173,
   "metadata": {},
   "outputs": [],
   "source": [
    "for idx,col in enumerate(training_data['SLOPE_AVG']):\n",
    "    if col <= 10:\n",
    "        weight_data['SLOPE_AVG_Weight'][idx] = col / (41.67 / 5**2 )\n",
    "    elif col > 10 and col <= 15:\n",
    "        weight_data['SLOPE_AVG_Weight'][idx] = col / (25 / 4**2)\n",
    "    elif col > 15 and col <= 25:\n",
    "        weight_data['SLOPE_AVG_Weight'][idx] = col / (16.67 / 3**2)\n",
    "    elif col > 25 and col <= 50:\n",
    "        weight_data['SLOPE_AVG_Weight'][idx] = col / (8.33 / 2**2)\n",
    "    elif col > 50:\n",
    "        weight_data['SLOPE_AVG_Weight'][idx] = col / (8.33 / 1**2)"
   ]
  },
  {
   "cell_type": "markdown",
   "metadata": {},
   "source": [
    "## 고도 가중치"
   ]
  },
  {
   "cell_type": "code",
   "execution_count": 174,
   "metadata": {},
   "outputs": [],
   "source": [
    "for idx,col in enumerate(training_data['HIGH']):\n",
    "    if col <= 20:\n",
    "        weight_data['HIGH_Weight'][idx] = col / (79.62 / 1**2)\n",
    "    elif col > 20 and col <= 40:\n",
    "        weight_data['HIGH_Weight'][idx] = col / (10.18 / 2**2)\n",
    "    elif col > 40 and col <= 60:\n",
    "        weight_data['HIGH_Weight'][idx] = col / (4.63 / 3**2)\n",
    "    elif col > 60 and col <= 80:\n",
    "        weight_data['HIGH_Weight'][idx] = col / (2.78 / 4**2)\n",
    "    elif col > 80:\n",
    "        weight_data['HIGH_Weight'][idx] = col / (2.78 / 5**2)"
   ]
  },
  {
   "cell_type": "code",
   "execution_count": 175,
   "metadata": {},
   "outputs": [],
   "source": [
    "training_data = pd.concat([training_data,weight_data],axis=1)"
   ]
  },
  {
   "cell_type": "code",
   "execution_count": 176,
   "metadata": {},
   "outputs": [
    {
     "data": {
      "text/html": [
       "<div>\n",
       "<style scoped>\n",
       "    .dataframe tbody tr th:only-of-type {\n",
       "        vertical-align: middle;\n",
       "    }\n",
       "\n",
       "    .dataframe tbody tr th {\n",
       "        vertical-align: top;\n",
       "    }\n",
       "\n",
       "    .dataframe thead th {\n",
       "        text-align: right;\n",
       "    }\n",
       "</style>\n",
       "<table border=\"1\" class=\"dataframe\">\n",
       "  <thead>\n",
       "    <tr style=\"text-align: right;\">\n",
       "      <th></th>\n",
       "      <th>PUMP_RATIO</th>\n",
       "      <th>HOUR_RAINFALL</th>\n",
       "      <th>IMP_SUR_RATIO</th>\n",
       "      <th>SLOPE_AVG</th>\n",
       "      <th>HIGH</th>\n",
       "      <th>F_WEIGHT</th>\n",
       "      <th>FLOOD</th>\n",
       "      <th>Hourly_Rainfall_Weight</th>\n",
       "      <th>Impervious_Surface_Weight</th>\n",
       "      <th>SLOPE_AVG_Weight</th>\n",
       "      <th>HIGH_Weight</th>\n",
       "    </tr>\n",
       "  </thead>\n",
       "  <tbody>\n",
       "    <tr>\n",
       "      <th>0</th>\n",
       "      <td>4.115226e-07</td>\n",
       "      <td>4.8</td>\n",
       "      <td>62.32</td>\n",
       "      <td>1.0</td>\n",
       "      <td>3.66</td>\n",
       "      <td>0.075019</td>\n",
       "      <td>0.0</td>\n",
       "      <td>0.104348</td>\n",
       "      <td>0.467342</td>\n",
       "      <td>0.599952</td>\n",
       "      <td>0.045968</td>\n",
       "    </tr>\n",
       "    <tr>\n",
       "      <th>1</th>\n",
       "      <td>4.115226e-07</td>\n",
       "      <td>9.6</td>\n",
       "      <td>62.32</td>\n",
       "      <td>1.0</td>\n",
       "      <td>3.66</td>\n",
       "      <td>0.075019</td>\n",
       "      <td>0.0</td>\n",
       "      <td>0.208696</td>\n",
       "      <td>0.467342</td>\n",
       "      <td>0.599952</td>\n",
       "      <td>0.045968</td>\n",
       "    </tr>\n",
       "    <tr>\n",
       "      <th>2</th>\n",
       "      <td>4.115226e-07</td>\n",
       "      <td>18.7</td>\n",
       "      <td>62.32</td>\n",
       "      <td>1.0</td>\n",
       "      <td>3.66</td>\n",
       "      <td>0.075019</td>\n",
       "      <td>1.0</td>\n",
       "      <td>0.259722</td>\n",
       "      <td>0.467342</td>\n",
       "      <td>0.599952</td>\n",
       "      <td>0.045968</td>\n",
       "    </tr>\n",
       "    <tr>\n",
       "      <th>3</th>\n",
       "      <td>4.115226e-07</td>\n",
       "      <td>0.5</td>\n",
       "      <td>62.32</td>\n",
       "      <td>4.5</td>\n",
       "      <td>5.75</td>\n",
       "      <td>0.075019</td>\n",
       "      <td>0.0</td>\n",
       "      <td>0.010870</td>\n",
       "      <td>0.467342</td>\n",
       "      <td>2.699784</td>\n",
       "      <td>0.072218</td>\n",
       "    </tr>\n",
       "    <tr>\n",
       "      <th>4</th>\n",
       "      <td>4.115226e-07</td>\n",
       "      <td>5.0</td>\n",
       "      <td>62.32</td>\n",
       "      <td>4.5</td>\n",
       "      <td>5.75</td>\n",
       "      <td>0.075019</td>\n",
       "      <td>1.0</td>\n",
       "      <td>0.108696</td>\n",
       "      <td>0.467342</td>\n",
       "      <td>2.699784</td>\n",
       "      <td>0.072218</td>\n",
       "    </tr>\n",
       "    <tr>\n",
       "      <th>...</th>\n",
       "      <td>...</td>\n",
       "      <td>...</td>\n",
       "      <td>...</td>\n",
       "      <td>...</td>\n",
       "      <td>...</td>\n",
       "      <td>...</td>\n",
       "      <td>...</td>\n",
       "      <td>...</td>\n",
       "      <td>...</td>\n",
       "      <td>...</td>\n",
       "      <td>...</td>\n",
       "    </tr>\n",
       "    <tr>\n",
       "      <th>791</th>\n",
       "      <td>1.364381e-08</td>\n",
       "      <td>90.0</td>\n",
       "      <td>7.70</td>\n",
       "      <td>11.0</td>\n",
       "      <td>59.65</td>\n",
       "      <td>0.016667</td>\n",
       "      <td>NaN</td>\n",
       "      <td>0.573248</td>\n",
       "      <td>1.156156</td>\n",
       "      <td>7.040000</td>\n",
       "      <td>115.950324</td>\n",
       "    </tr>\n",
       "    <tr>\n",
       "      <th>792</th>\n",
       "      <td>1.364381e-08</td>\n",
       "      <td>90.0</td>\n",
       "      <td>7.70</td>\n",
       "      <td>45.0</td>\n",
       "      <td>33.49</td>\n",
       "      <td>0.016667</td>\n",
       "      <td>NaN</td>\n",
       "      <td>0.573248</td>\n",
       "      <td>1.156156</td>\n",
       "      <td>21.608643</td>\n",
       "      <td>13.159136</td>\n",
       "    </tr>\n",
       "    <tr>\n",
       "      <th>793</th>\n",
       "      <td>1.364381e-08</td>\n",
       "      <td>90.0</td>\n",
       "      <td>7.70</td>\n",
       "      <td>22.5</td>\n",
       "      <td>5.32</td>\n",
       "      <td>0.016667</td>\n",
       "      <td>NaN</td>\n",
       "      <td>0.573248</td>\n",
       "      <td>1.156156</td>\n",
       "      <td>12.147570</td>\n",
       "      <td>0.066817</td>\n",
       "    </tr>\n",
       "    <tr>\n",
       "      <th>794</th>\n",
       "      <td>1.364381e-08</td>\n",
       "      <td>90.0</td>\n",
       "      <td>7.70</td>\n",
       "      <td>45.0</td>\n",
       "      <td>4.92</td>\n",
       "      <td>0.016667</td>\n",
       "      <td>NaN</td>\n",
       "      <td>0.573248</td>\n",
       "      <td>1.156156</td>\n",
       "      <td>21.608643</td>\n",
       "      <td>0.061794</td>\n",
       "    </tr>\n",
       "    <tr>\n",
       "      <th>795</th>\n",
       "      <td>1.364381e-08</td>\n",
       "      <td>90.0</td>\n",
       "      <td>7.70</td>\n",
       "      <td>45.0</td>\n",
       "      <td>77.86</td>\n",
       "      <td>0.016667</td>\n",
       "      <td>NaN</td>\n",
       "      <td>0.573248</td>\n",
       "      <td>1.156156</td>\n",
       "      <td>21.608643</td>\n",
       "      <td>448.115108</td>\n",
       "    </tr>\n",
       "  </tbody>\n",
       "</table>\n",
       "<p>796 rows × 11 columns</p>\n",
       "</div>"
      ],
      "text/plain": [
       "       PUMP_RATIO  HOUR_RAINFALL  IMP_SUR_RATIO  SLOPE_AVG   HIGH  F_WEIGHT  \\\n",
       "0    4.115226e-07            4.8          62.32        1.0   3.66  0.075019   \n",
       "1    4.115226e-07            9.6          62.32        1.0   3.66  0.075019   \n",
       "2    4.115226e-07           18.7          62.32        1.0   3.66  0.075019   \n",
       "3    4.115226e-07            0.5          62.32        4.5   5.75  0.075019   \n",
       "4    4.115226e-07            5.0          62.32        4.5   5.75  0.075019   \n",
       "..            ...            ...            ...        ...    ...       ...   \n",
       "791  1.364381e-08           90.0           7.70       11.0  59.65  0.016667   \n",
       "792  1.364381e-08           90.0           7.70       45.0  33.49  0.016667   \n",
       "793  1.364381e-08           90.0           7.70       22.5   5.32  0.016667   \n",
       "794  1.364381e-08           90.0           7.70       45.0   4.92  0.016667   \n",
       "795  1.364381e-08           90.0           7.70       45.0  77.86  0.016667   \n",
       "\n",
       "     FLOOD  Hourly_Rainfall_Weight  Impervious_Surface_Weight  \\\n",
       "0      0.0                0.104348                   0.467342   \n",
       "1      0.0                0.208696                   0.467342   \n",
       "2      1.0                0.259722                   0.467342   \n",
       "3      0.0                0.010870                   0.467342   \n",
       "4      1.0                0.108696                   0.467342   \n",
       "..     ...                     ...                        ...   \n",
       "791    NaN                0.573248                   1.156156   \n",
       "792    NaN                0.573248                   1.156156   \n",
       "793    NaN                0.573248                   1.156156   \n",
       "794    NaN                0.573248                   1.156156   \n",
       "795    NaN                0.573248                   1.156156   \n",
       "\n",
       "     SLOPE_AVG_Weight  HIGH_Weight  \n",
       "0            0.599952     0.045968  \n",
       "1            0.599952     0.045968  \n",
       "2            0.599952     0.045968  \n",
       "3            2.699784     0.072218  \n",
       "4            2.699784     0.072218  \n",
       "..                ...          ...  \n",
       "791          7.040000   115.950324  \n",
       "792         21.608643    13.159136  \n",
       "793         12.147570     0.066817  \n",
       "794         21.608643     0.061794  \n",
       "795         21.608643   448.115108  \n",
       "\n",
       "[796 rows x 11 columns]"
      ]
     },
     "execution_count": 176,
     "metadata": {},
     "output_type": "execute_result"
    }
   ],
   "source": [
    "training_data"
   ]
  },
  {
   "cell_type": "code",
   "execution_count": 177,
   "metadata": {},
   "outputs": [],
   "source": [
    "training_data = training_data[['PUMP_RATIO','Hourly_Rainfall_Weight','Impervious_Surface_Weight',\\\n",
    "                               'SLOPE_AVG_Weight','HIGH_Weight','F_WEIGHT','FLOOD']]"
   ]
  },
  {
   "cell_type": "code",
   "execution_count": 178,
   "metadata": {},
   "outputs": [],
   "source": [
    "training_data = training_data.fillna(0)"
   ]
  },
  {
   "cell_type": "code",
   "execution_count": 179,
   "metadata": {},
   "outputs": [],
   "source": [
    "training_data['FLOOD'] = training_data['FLOOD'].astype(int)"
   ]
  },
  {
   "cell_type": "code",
   "execution_count": 180,
   "metadata": {},
   "outputs": [],
   "source": [
    "training_data.reset_index(drop=True, inplace=True)"
   ]
  },
  {
   "cell_type": "code",
   "execution_count": 181,
   "metadata": {},
   "outputs": [],
   "source": [
    "training_data.to_csv('../Data/final_data/training/geo_data/geo_training_data.csv', encoding='utf-8',index=False)"
   ]
  },
  {
   "cell_type": "code",
   "execution_count": 182,
   "metadata": {},
   "outputs": [
    {
     "data": {
      "text/html": [
       "<div>\n",
       "<style scoped>\n",
       "    .dataframe tbody tr th:only-of-type {\n",
       "        vertical-align: middle;\n",
       "    }\n",
       "\n",
       "    .dataframe tbody tr th {\n",
       "        vertical-align: top;\n",
       "    }\n",
       "\n",
       "    .dataframe thead th {\n",
       "        text-align: right;\n",
       "    }\n",
       "</style>\n",
       "<table border=\"1\" class=\"dataframe\">\n",
       "  <thead>\n",
       "    <tr style=\"text-align: right;\">\n",
       "      <th></th>\n",
       "      <th>PUMP_RATIO</th>\n",
       "      <th>Hourly_Rainfall_Weight</th>\n",
       "      <th>Impervious_Surface_Weight</th>\n",
       "      <th>SLOPE_AVG_Weight</th>\n",
       "      <th>HIGH_Weight</th>\n",
       "      <th>F_WEIGHT</th>\n",
       "      <th>FLOOD</th>\n",
       "    </tr>\n",
       "  </thead>\n",
       "  <tbody>\n",
       "    <tr>\n",
       "      <th>0</th>\n",
       "      <td>4.115226e-07</td>\n",
       "      <td>0.104348</td>\n",
       "      <td>0.467342</td>\n",
       "      <td>0.599952</td>\n",
       "      <td>0.045968</td>\n",
       "      <td>0.075019</td>\n",
       "      <td>0</td>\n",
       "    </tr>\n",
       "    <tr>\n",
       "      <th>1</th>\n",
       "      <td>4.115226e-07</td>\n",
       "      <td>0.208696</td>\n",
       "      <td>0.467342</td>\n",
       "      <td>0.599952</td>\n",
       "      <td>0.045968</td>\n",
       "      <td>0.075019</td>\n",
       "      <td>0</td>\n",
       "    </tr>\n",
       "    <tr>\n",
       "      <th>2</th>\n",
       "      <td>4.115226e-07</td>\n",
       "      <td>0.259722</td>\n",
       "      <td>0.467342</td>\n",
       "      <td>0.599952</td>\n",
       "      <td>0.045968</td>\n",
       "      <td>0.075019</td>\n",
       "      <td>1</td>\n",
       "    </tr>\n",
       "    <tr>\n",
       "      <th>3</th>\n",
       "      <td>4.115226e-07</td>\n",
       "      <td>0.010870</td>\n",
       "      <td>0.467342</td>\n",
       "      <td>2.699784</td>\n",
       "      <td>0.072218</td>\n",
       "      <td>0.075019</td>\n",
       "      <td>0</td>\n",
       "    </tr>\n",
       "    <tr>\n",
       "      <th>4</th>\n",
       "      <td>4.115226e-07</td>\n",
       "      <td>0.108696</td>\n",
       "      <td>0.467342</td>\n",
       "      <td>2.699784</td>\n",
       "      <td>0.072218</td>\n",
       "      <td>0.075019</td>\n",
       "      <td>1</td>\n",
       "    </tr>\n",
       "    <tr>\n",
       "      <th>...</th>\n",
       "      <td>...</td>\n",
       "      <td>...</td>\n",
       "      <td>...</td>\n",
       "      <td>...</td>\n",
       "      <td>...</td>\n",
       "      <td>...</td>\n",
       "      <td>...</td>\n",
       "    </tr>\n",
       "    <tr>\n",
       "      <th>791</th>\n",
       "      <td>1.364381e-08</td>\n",
       "      <td>0.573248</td>\n",
       "      <td>1.156156</td>\n",
       "      <td>7.040000</td>\n",
       "      <td>115.950324</td>\n",
       "      <td>0.016667</td>\n",
       "      <td>0</td>\n",
       "    </tr>\n",
       "    <tr>\n",
       "      <th>792</th>\n",
       "      <td>1.364381e-08</td>\n",
       "      <td>0.573248</td>\n",
       "      <td>1.156156</td>\n",
       "      <td>21.608643</td>\n",
       "      <td>13.159136</td>\n",
       "      <td>0.016667</td>\n",
       "      <td>0</td>\n",
       "    </tr>\n",
       "    <tr>\n",
       "      <th>793</th>\n",
       "      <td>1.364381e-08</td>\n",
       "      <td>0.573248</td>\n",
       "      <td>1.156156</td>\n",
       "      <td>12.147570</td>\n",
       "      <td>0.066817</td>\n",
       "      <td>0.016667</td>\n",
       "      <td>0</td>\n",
       "    </tr>\n",
       "    <tr>\n",
       "      <th>794</th>\n",
       "      <td>1.364381e-08</td>\n",
       "      <td>0.573248</td>\n",
       "      <td>1.156156</td>\n",
       "      <td>21.608643</td>\n",
       "      <td>0.061794</td>\n",
       "      <td>0.016667</td>\n",
       "      <td>0</td>\n",
       "    </tr>\n",
       "    <tr>\n",
       "      <th>795</th>\n",
       "      <td>1.364381e-08</td>\n",
       "      <td>0.573248</td>\n",
       "      <td>1.156156</td>\n",
       "      <td>21.608643</td>\n",
       "      <td>448.115108</td>\n",
       "      <td>0.016667</td>\n",
       "      <td>0</td>\n",
       "    </tr>\n",
       "  </tbody>\n",
       "</table>\n",
       "<p>796 rows × 7 columns</p>\n",
       "</div>"
      ],
      "text/plain": [
       "       PUMP_RATIO  Hourly_Rainfall_Weight  Impervious_Surface_Weight  \\\n",
       "0    4.115226e-07                0.104348                   0.467342   \n",
       "1    4.115226e-07                0.208696                   0.467342   \n",
       "2    4.115226e-07                0.259722                   0.467342   \n",
       "3    4.115226e-07                0.010870                   0.467342   \n",
       "4    4.115226e-07                0.108696                   0.467342   \n",
       "..            ...                     ...                        ...   \n",
       "791  1.364381e-08                0.573248                   1.156156   \n",
       "792  1.364381e-08                0.573248                   1.156156   \n",
       "793  1.364381e-08                0.573248                   1.156156   \n",
       "794  1.364381e-08                0.573248                   1.156156   \n",
       "795  1.364381e-08                0.573248                   1.156156   \n",
       "\n",
       "     SLOPE_AVG_Weight  HIGH_Weight  F_WEIGHT  FLOOD  \n",
       "0            0.599952     0.045968  0.075019      0  \n",
       "1            0.599952     0.045968  0.075019      0  \n",
       "2            0.599952     0.045968  0.075019      1  \n",
       "3            2.699784     0.072218  0.075019      0  \n",
       "4            2.699784     0.072218  0.075019      1  \n",
       "..                ...          ...       ...    ...  \n",
       "791          7.040000   115.950324  0.016667      0  \n",
       "792         21.608643    13.159136  0.016667      0  \n",
       "793         12.147570     0.066817  0.016667      0  \n",
       "794         21.608643     0.061794  0.016667      0  \n",
       "795         21.608643   448.115108  0.016667      0  \n",
       "\n",
       "[796 rows x 7 columns]"
      ]
     },
     "execution_count": 182,
     "metadata": {},
     "output_type": "execute_result"
    }
   ],
   "source": [
    "training_data"
   ]
  },
  {
   "cell_type": "code",
   "execution_count": null,
   "metadata": {},
   "outputs": [],
   "source": []
  },
  {
   "cell_type": "code",
   "execution_count": null,
   "metadata": {},
   "outputs": [],
   "source": []
  }
 ],
 "metadata": {
  "kernelspec": {
   "display_name": "Python 3",
   "language": "python",
   "name": "python3"
  },
  "language_info": {
   "codemirror_mode": {
    "name": "ipython",
    "version": 3
   },
   "file_extension": ".py",
   "mimetype": "text/x-python",
   "name": "python",
   "nbconvert_exporter": "python",
   "pygments_lexer": "ipython3",
   "version": "3.7.6"
  },
  "pycharm": {
   "stem_cell": {
    "cell_type": "raw",
    "source": [],
    "metadata": {
     "collapsed": false
    }
   }
  }
 },
 "nbformat": 4,
 "nbformat_minor": 4
}
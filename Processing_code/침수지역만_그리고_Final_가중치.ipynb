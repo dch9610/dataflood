{
 "cells": [
  {
   "cell_type": "code",
   "execution_count": 1,
   "metadata": {},
   "outputs": [],
   "source": [
    "import pandas as pd"
   ]
  },
  {
   "cell_type": "markdown",
   "metadata": {},
   "source": [
    "# 부산침수지역 가중치"
   ]
  },
  {
   "cell_type": "code",
   "execution_count": 2,
   "metadata": {},
   "outputs": [],
   "source": [
    "BF = pd.read_excel(\"./부산침수지역정보_침수심결측치_보완.xlsx\")"
   ]
  },
  {
   "cell_type": "code",
   "execution_count": 3,
   "metadata": {},
   "outputs": [],
   "source": [
    "BF.drop(\"Unnamed: 0\",axis=1,inplace=True)"
   ]
  },
  {
   "cell_type": "code",
   "execution_count": 4,
   "metadata": {},
   "outputs": [],
   "source": [
    "BF.loc[BF[\"HOUR_RAINFALL\"]<=10, \"R_W_SUM\"]=BF[\"HOUR_RAINFALL\"]*0.01\n",
    "BF.loc[(BF[\"HOUR_RAINFALL\"]>10)&(BF[\"HOUR_RAINFALL\"]<=30), \"R_W_SUM\"]=BF[\"HOUR_RAINFALL\"]*0.41\n",
    "BF.loc[(BF[\"HOUR_RAINFALL\"]>30)&(BF[\"HOUR_RAINFALL\"]<=50), \"R_W_SUM\"]=BF[\"HOUR_RAINFALL\"]*4.23\n",
    "BF.loc[(BF[\"HOUR_RAINFALL\"]>50)&(BF[\"HOUR_RAINFALL\"]<=70), \"R_W_SUM\"]=BF[\"HOUR_RAINFALL\"]*30.77\n",
    "BF.loc[BF[\"HOUR_RAINFALL\"]>70, \"R_W_SUM\"]=BF[\"HOUR_RAINFALL\"]*83.33"
   ]
  },
  {
   "cell_type": "code",
   "execution_count": 5,
   "metadata": {},
   "outputs": [],
   "source": [
    "BF[\"FLOOD\"].fillna(0,inplace=True)"
   ]
  },
  {
   "cell_type": "code",
   "execution_count": 6,
   "metadata": {},
   "outputs": [
    {
     "name": "stdout",
     "output_type": "stream",
     "text": [
      "<class 'pandas.core.frame.DataFrame'>\n",
      "RangeIndex: 3960 entries, 0 to 3959\n",
      "Data columns (total 23 columns):\n",
      " #   Column          Non-Null Count  Dtype  \n",
      "---  ------          --------------  -----  \n",
      " 0   SEQ             3960 non-null   int64  \n",
      " 1   ADM_CD          3960 non-null   int64  \n",
      " 2   ZONE            3960 non-null   object \n",
      " 3   DONG            1344 non-null   object \n",
      " 4   DISTRICT        3960 non-null   object \n",
      " 5   SLOPE_L         3960 non-null   float64\n",
      " 6   SLOPE_H         3960 non-null   int64  \n",
      " 7   SLOPE_AVG       3960 non-null   float64\n",
      " 8   HIGH            3960 non-null   float64\n",
      " 9   PUMP_RATIO      3960 non-null   float64\n",
      " 10  IMP_SUR_RATIO   3960 non-null   float64\n",
      " 11  MANHOLES_RATIO  3960 non-null   float64\n",
      " 12  F_BEGIN_DE      3960 non-null   int64  \n",
      " 13  F_END_DE        3960 non-null   int64  \n",
      " 14  F_BEGIN_TM      3912 non-null   float64\n",
      " 15  F_END_TM        3912 non-null   float64\n",
      " 16  FLUD_TIME       3912 non-null   float64\n",
      " 17  FLUD_DPWT       3960 non-null   float64\n",
      " 18  FLOOD           3960 non-null   float64\n",
      " 19  HOUR_RAINFALL   3960 non-null   float64\n",
      " 20  PRECI_YYMMDDHH  3960 non-null   int64  \n",
      " 21  PRECI_HH        3960 non-null   int64  \n",
      " 22  R_W_SUM         3960 non-null   float64\n",
      "dtypes: float64(13), int64(7), object(3)\n",
      "memory usage: 711.7+ KB\n"
     ]
    }
   ],
   "source": [
    "BF.info()"
   ]
  },
  {
   "cell_type": "code",
   "execution_count": 7,
   "metadata": {},
   "outputs": [],
   "source": [
    "IMP_w = pd.read_excel(\"./IMP_SUR_WEIGHT_INFO.xlsx\")\n",
    "F_bin_w = pd.read_excel(\"./F_BIN_WEIGHT_INFO.xlsx\")"
   ]
  },
  {
   "cell_type": "code",
   "execution_count": 8,
   "metadata": {},
   "outputs": [],
   "source": [
    "BF_I = pd.merge(BF,IMP_w,how=\"inner\",on=\"ZONE\")\n",
    "BF_I_B = pd.merge(BF_I,F_bin_w,how=\"inner\",on=\"ZONE\")"
   ]
  },
  {
   "cell_type": "code",
   "execution_count": 9,
   "metadata": {},
   "outputs": [
    {
     "data": {
      "text/plain": [
       "Index(['SEQ', 'ADM_CD', 'ZONE', 'DONG', 'DISTRICT', 'SLOPE_L', 'SLOPE_H',\n",
       "       'SLOPE_AVG', 'HIGH', 'PUMP_RATIO', 'IMP_SUR_RATIO_x', 'MANHOLES_RATIO',\n",
       "       'F_BEGIN_DE', 'F_END_DE', 'F_BEGIN_TM', 'F_END_TM', 'FLUD_TIME',\n",
       "       'FLUD_DPWT', 'FLOOD', 'HOUR_RAINFALL', 'PRECI_YYMMDDHH', 'PRECI_HH',\n",
       "       'R_W_SUM', 'IMP_SUR_RATIO_y', 'IMP_SUR_GRADE', 'IMP_SUR_PERCENTAGE',\n",
       "       'IMP_SUR_WEIGHT', 'IMP_W_SUM', 'F_GRADE', 'F_PERCENTAGE', 'F_WEIGHT'],\n",
       "      dtype='object')"
      ]
     },
     "execution_count": 9,
     "metadata": {},
     "output_type": "execute_result"
    }
   ],
   "source": [
    "BF_I_B.columns"
   ]
  },
  {
   "cell_type": "code",
   "execution_count": 10,
   "metadata": {},
   "outputs": [],
   "source": [
    "df = BF_I_B[['SEQ', 'ADM_CD', 'ZONE', 'DONG', 'DISTRICT', 'SLOPE_L', 'SLOPE_H',\n",
    "       'SLOPE_AVG', 'HIGH', 'PUMP_RATIO', 'IMP_SUR_RATIO_x', 'MANHOLES_RATIO',\n",
    "       'FLUD_DPWT', 'FLOOD', 'HOUR_RAINFALL', 'R_W_SUM','IMP_W_SUM','F_WEIGHT']].copy()"
   ]
  },
  {
   "cell_type": "code",
   "execution_count": 11,
   "metadata": {},
   "outputs": [],
   "source": [
    "df.rename(columns={'IMP_SUR_RATIO_x':'IMP_SUR_RATIO'},inplace=True)"
   ]
  },
  {
   "cell_type": "code",
   "execution_count": 12,
   "metadata": {},
   "outputs": [],
   "source": [
    "df.to_excel(\"./부산침수지역_가중치.xlsx\")"
   ]
  },
  {
   "cell_type": "code",
   "execution_count": null,
   "metadata": {},
   "outputs": [],
   "source": []
  },
  {
   "cell_type": "markdown",
   "metadata": {},
   "source": [
    "# 최종데이터 가중치"
   ]
  },
  {
   "cell_type": "code",
   "execution_count": 2,
   "metadata": {},
   "outputs": [],
   "source": [
    "F_data = pd.read_csv(\"../Data/final_data/training/geo_data/geo_training_data.csv\")"
   ]
  },
  {
   "cell_type": "code",
   "execution_count": 3,
   "metadata": {},
   "outputs": [
    {
     "data": {
      "text/html": [
       "<div>\n",
       "<style scoped>\n",
       "    .dataframe tbody tr th:only-of-type {\n",
       "        vertical-align: middle;\n",
       "    }\n",
       "\n",
       "    .dataframe tbody tr th {\n",
       "        vertical-align: top;\n",
       "    }\n",
       "\n",
       "    .dataframe thead th {\n",
       "        text-align: right;\n",
       "    }\n",
       "</style>\n",
       "<table border=\"1\" class=\"dataframe\">\n",
       "  <thead>\n",
       "    <tr style=\"text-align: right;\">\n",
       "      <th></th>\n",
       "      <th>PUMP_RATIO</th>\n",
       "      <th>Hourly_Rainfall_Weight</th>\n",
       "      <th>Impervious_Surface_Weight</th>\n",
       "      <th>SLOPE_AVG_Weight</th>\n",
       "      <th>HIGH_Weight</th>\n",
       "      <th>F_WEIGHT</th>\n",
       "      <th>FLOOD</th>\n",
       "    </tr>\n",
       "  </thead>\n",
       "  <tbody>\n",
       "    <tr>\n",
       "      <th>0</th>\n",
       "      <td>4.115226e-07</td>\n",
       "      <td>0.104348</td>\n",
       "      <td>0.467342</td>\n",
       "      <td>0.599952</td>\n",
       "      <td>0.045968</td>\n",
       "      <td>0.075019</td>\n",
       "      <td>0</td>\n",
       "    </tr>\n",
       "    <tr>\n",
       "      <th>1</th>\n",
       "      <td>4.115226e-07</td>\n",
       "      <td>0.208696</td>\n",
       "      <td>0.467342</td>\n",
       "      <td>0.599952</td>\n",
       "      <td>0.045968</td>\n",
       "      <td>0.075019</td>\n",
       "      <td>0</td>\n",
       "    </tr>\n",
       "    <tr>\n",
       "      <th>2</th>\n",
       "      <td>4.115226e-07</td>\n",
       "      <td>0.259722</td>\n",
       "      <td>0.467342</td>\n",
       "      <td>0.599952</td>\n",
       "      <td>0.045968</td>\n",
       "      <td>0.075019</td>\n",
       "      <td>1</td>\n",
       "    </tr>\n",
       "    <tr>\n",
       "      <th>3</th>\n",
       "      <td>4.115226e-07</td>\n",
       "      <td>0.010870</td>\n",
       "      <td>0.467342</td>\n",
       "      <td>2.699784</td>\n",
       "      <td>0.072218</td>\n",
       "      <td>0.075019</td>\n",
       "      <td>0</td>\n",
       "    </tr>\n",
       "    <tr>\n",
       "      <th>4</th>\n",
       "      <td>4.115226e-07</td>\n",
       "      <td>0.108696</td>\n",
       "      <td>0.467342</td>\n",
       "      <td>2.699784</td>\n",
       "      <td>0.072218</td>\n",
       "      <td>0.075019</td>\n",
       "      <td>1</td>\n",
       "    </tr>\n",
       "    <tr>\n",
       "      <th>...</th>\n",
       "      <td>...</td>\n",
       "      <td>...</td>\n",
       "      <td>...</td>\n",
       "      <td>...</td>\n",
       "      <td>...</td>\n",
       "      <td>...</td>\n",
       "      <td>...</td>\n",
       "    </tr>\n",
       "    <tr>\n",
       "      <th>791</th>\n",
       "      <td>1.364381e-08</td>\n",
       "      <td>0.573248</td>\n",
       "      <td>1.156156</td>\n",
       "      <td>7.040000</td>\n",
       "      <td>115.950324</td>\n",
       "      <td>0.016667</td>\n",
       "      <td>0</td>\n",
       "    </tr>\n",
       "    <tr>\n",
       "      <th>792</th>\n",
       "      <td>1.364381e-08</td>\n",
       "      <td>0.573248</td>\n",
       "      <td>1.156156</td>\n",
       "      <td>21.608643</td>\n",
       "      <td>13.159136</td>\n",
       "      <td>0.016667</td>\n",
       "      <td>0</td>\n",
       "    </tr>\n",
       "    <tr>\n",
       "      <th>793</th>\n",
       "      <td>1.364381e-08</td>\n",
       "      <td>0.573248</td>\n",
       "      <td>1.156156</td>\n",
       "      <td>12.147570</td>\n",
       "      <td>0.066817</td>\n",
       "      <td>0.016667</td>\n",
       "      <td>0</td>\n",
       "    </tr>\n",
       "    <tr>\n",
       "      <th>794</th>\n",
       "      <td>1.364381e-08</td>\n",
       "      <td>0.573248</td>\n",
       "      <td>1.156156</td>\n",
       "      <td>21.608643</td>\n",
       "      <td>0.061794</td>\n",
       "      <td>0.016667</td>\n",
       "      <td>0</td>\n",
       "    </tr>\n",
       "    <tr>\n",
       "      <th>795</th>\n",
       "      <td>1.364381e-08</td>\n",
       "      <td>0.573248</td>\n",
       "      <td>1.156156</td>\n",
       "      <td>21.608643</td>\n",
       "      <td>448.115108</td>\n",
       "      <td>0.016667</td>\n",
       "      <td>0</td>\n",
       "    </tr>\n",
       "  </tbody>\n",
       "</table>\n",
       "<p>796 rows × 7 columns</p>\n",
       "</div>"
      ],
      "text/plain": [
       "       PUMP_RATIO  Hourly_Rainfall_Weight  Impervious_Surface_Weight  \\\n",
       "0    4.115226e-07                0.104348                   0.467342   \n",
       "1    4.115226e-07                0.208696                   0.467342   \n",
       "2    4.115226e-07                0.259722                   0.467342   \n",
       "3    4.115226e-07                0.010870                   0.467342   \n",
       "4    4.115226e-07                0.108696                   0.467342   \n",
       "..            ...                     ...                        ...   \n",
       "791  1.364381e-08                0.573248                   1.156156   \n",
       "792  1.364381e-08                0.573248                   1.156156   \n",
       "793  1.364381e-08                0.573248                   1.156156   \n",
       "794  1.364381e-08                0.573248                   1.156156   \n",
       "795  1.364381e-08                0.573248                   1.156156   \n",
       "\n",
       "     SLOPE_AVG_Weight  HIGH_Weight  F_WEIGHT  FLOOD  \n",
       "0            0.599952     0.045968  0.075019      0  \n",
       "1            0.599952     0.045968  0.075019      0  \n",
       "2            0.599952     0.045968  0.075019      1  \n",
       "3            2.699784     0.072218  0.075019      0  \n",
       "4            2.699784     0.072218  0.075019      1  \n",
       "..                ...          ...       ...    ...  \n",
       "791          7.040000   115.950324  0.016667      0  \n",
       "792         21.608643    13.159136  0.016667      0  \n",
       "793         12.147570     0.066817  0.016667      0  \n",
       "794         21.608643     0.061794  0.016667      0  \n",
       "795         21.608643   448.115108  0.016667      0  \n",
       "\n",
       "[796 rows x 7 columns]"
      ]
     },
     "execution_count": 3,
     "metadata": {},
     "output_type": "execute_result"
    }
   ],
   "source": [
    "F_data"
   ]
  },
  {
   "cell_type": "code",
   "execution_count": 50,
   "metadata": {},
   "outputs": [],
   "source": [
    "F_data.drop(\"Unnamed: 0\",axis=1,inplace=True)"
   ]
  },
  {
   "cell_type": "code",
   "execution_count": 51,
   "metadata": {},
   "outputs": [],
   "source": [
    "F_data[\"FLOOD\"].fillna(0,inplace=True)"
   ]
  },
  {
   "cell_type": "code",
   "execution_count": 52,
   "metadata": {},
   "outputs": [
    {
     "name": "stdout",
     "output_type": "stream",
     "text": [
      "<class 'pandas.core.frame.DataFrame'>\n",
      "RangeIndex: 796 entries, 0 to 795\n",
      "Data columns (total 22 columns):\n",
      " #   Column          Non-Null Count  Dtype  \n",
      "---  ------          --------------  -----  \n",
      " 0   SEQ             796 non-null    int64  \n",
      " 1   ADM_CD          796 non-null    int64  \n",
      " 2   ZONE            796 non-null    object \n",
      " 3   DONG            117 non-null    object \n",
      " 4   DISTRICT        796 non-null    object \n",
      " 5   SLOPE_L         796 non-null    float64\n",
      " 6   SLOPE_H         796 non-null    int64  \n",
      " 7   SLOPE_AVG       796 non-null    float64\n",
      " 8   HIGH            796 non-null    float64\n",
      " 9   PUMP_RATIO      796 non-null    float64\n",
      " 10  IMP_SUR_RATIO   796 non-null    float64\n",
      " 11  MANHOLES_RATIO  796 non-null    float64\n",
      " 12  F_BEGIN_DE      796 non-null    int64  \n",
      " 13  F_END_DE        796 non-null    int64  \n",
      " 14  F_BEGIN_TM      785 non-null    float64\n",
      " 15  F_END_TM        785 non-null    float64\n",
      " 16  FLUD_TIME       785 non-null    float64\n",
      " 17  FLUD_DPWT       796 non-null    float64\n",
      " 18  FLOOD           796 non-null    float64\n",
      " 19  HOUR_RAINFALL   796 non-null    float64\n",
      " 20  PRECI_YYMMDDHH  796 non-null    int64  \n",
      " 21  PRECI_HH        796 non-null    int64  \n",
      "dtypes: float64(12), int64(7), object(3)\n",
      "memory usage: 136.9+ KB\n"
     ]
    }
   ],
   "source": [
    "F_data.info()"
   ]
  },
  {
   "cell_type": "code",
   "execution_count": 53,
   "metadata": {},
   "outputs": [],
   "source": [
    "F_data.loc[F_data[\"HOUR_RAINFALL\"]<=10, \"R_W_SUM\"]=F_data[\"HOUR_RAINFALL\"]*0.01\n",
    "F_data.loc[(F_data[\"HOUR_RAINFALL\"]>10)&(F_data[\"HOUR_RAINFALL\"]<=30), \"R_W_SUM\"]=F_data[\"HOUR_RAINFALL\"]*0.41\n",
    "F_data.loc[(F_data[\"HOUR_RAINFALL\"]>30)&(F_data[\"HOUR_RAINFALL\"]<=50), \"R_W_SUM\"]=F_data[\"HOUR_RAINFALL\"]*4.23\n",
    "F_data.loc[(F_data[\"HOUR_RAINFALL\"]>50)&(F_data[\"HOUR_RAINFALL\"]<=70), \"R_W_SUM\"]=F_data[\"HOUR_RAINFALL\"]*30.77\n",
    "F_data.loc[F_data[\"HOUR_RAINFALL\"]>70, \"R_W_SUM\"]=F_data[\"HOUR_RAINFALL\"]*83.33"
   ]
  },
  {
   "cell_type": "code",
   "execution_count": 54,
   "metadata": {},
   "outputs": [],
   "source": [
    "Fd_I = pd.merge(F_data,IMP_w,how=\"inner\",on=\"ZONE\")\n",
    "Fd_I_B = pd.merge(Fd_I,F_bin_w,how=\"inner\",on=\"ZONE\")"
   ]
  },
  {
   "cell_type": "code",
   "execution_count": 55,
   "metadata": {},
   "outputs": [
    {
     "name": "stdout",
     "output_type": "stream",
     "text": [
      "<class 'pandas.core.frame.DataFrame'>\n",
      "Int64Index: 796 entries, 0 to 795\n",
      "Data columns (total 31 columns):\n",
      " #   Column              Non-Null Count  Dtype  \n",
      "---  ------              --------------  -----  \n",
      " 0   SEQ                 796 non-null    int64  \n",
      " 1   ADM_CD              796 non-null    int64  \n",
      " 2   ZONE                796 non-null    object \n",
      " 3   DONG                117 non-null    object \n",
      " 4   DISTRICT            796 non-null    object \n",
      " 5   SLOPE_L             796 non-null    float64\n",
      " 6   SLOPE_H             796 non-null    int64  \n",
      " 7   SLOPE_AVG           796 non-null    float64\n",
      " 8   HIGH                796 non-null    float64\n",
      " 9   PUMP_RATIO          796 non-null    float64\n",
      " 10  IMP_SUR_RATIO_x     796 non-null    float64\n",
      " 11  MANHOLES_RATIO      796 non-null    float64\n",
      " 12  F_BEGIN_DE          796 non-null    int64  \n",
      " 13  F_END_DE            796 non-null    int64  \n",
      " 14  F_BEGIN_TM          785 non-null    float64\n",
      " 15  F_END_TM            785 non-null    float64\n",
      " 16  FLUD_TIME           785 non-null    float64\n",
      " 17  FLUD_DPWT           796 non-null    float64\n",
      " 18  FLOOD               796 non-null    float64\n",
      " 19  HOUR_RAINFALL       796 non-null    float64\n",
      " 20  PRECI_YYMMDDHH      796 non-null    int64  \n",
      " 21  PRECI_HH            796 non-null    int64  \n",
      " 22  R_W_SUM             796 non-null    float64\n",
      " 23  IMP_SUR_RATIO_y     796 non-null    float64\n",
      " 24  IMP_SUR_GRADE       796 non-null    int64  \n",
      " 25  IMP_SUR_PERCENTAGE  796 non-null    float64\n",
      " 26  IMP_SUR_WEIGHT      796 non-null    float64\n",
      " 27  IMP_W_SUM           796 non-null    float64\n",
      " 28  F_GRADE             796 non-null    int64  \n",
      " 29  F_PERCENTAGE        796 non-null    float64\n",
      " 30  F_WEIGHT            796 non-null    float64\n",
      "dtypes: float64(19), int64(9), object(3)\n",
      "memory usage: 199.0+ KB\n"
     ]
    }
   ],
   "source": [
    "Fd_I_B.info()"
   ]
  },
  {
   "cell_type": "code",
   "execution_count": null,
   "metadata": {},
   "outputs": [],
   "source": []
  },
  {
   "cell_type": "code",
   "execution_count": 56,
   "metadata": {},
   "outputs": [],
   "source": [
    "df2 = Fd_I_B[['SEQ', 'ADM_CD', 'ZONE', 'DONG', 'DISTRICT', 'SLOPE_L', 'SLOPE_H',\n",
    "       'SLOPE_AVG', 'HIGH', 'PUMP_RATIO', 'IMP_SUR_RATIO_x', 'MANHOLES_RATIO',\n",
    "       'FLUD_DPWT', 'FLOOD', 'HOUR_RAINFALL', 'R_W_SUM','IMP_W_SUM','F_WEIGHT']].copy()"
   ]
  },
  {
   "cell_type": "code",
   "execution_count": 57,
   "metadata": {},
   "outputs": [],
   "source": [
    "df2.rename(columns={'IMP_SUR_RATIO_x':'IMP_SUR_RATIO'},inplace=True)"
   ]
  },
  {
   "cell_type": "code",
   "execution_count": 58,
   "metadata": {},
   "outputs": [],
   "source": [
    "df2.to_excel(\"./부산침수_비침수_가중치.xlsx\")"
   ]
  },
  {
   "cell_type": "code",
   "execution_count": null,
   "metadata": {},
   "outputs": [],
   "source": []
  }
 ],
 "metadata": {
  "kernelspec": {
   "display_name": "Python 3",
   "language": "python",
   "name": "python3"
  },
  "language_info": {
   "codemirror_mode": {
    "name": "ipython",
    "version": 3
   },
   "file_extension": ".py",
   "mimetype": "text/x-python",
   "name": "python",
   "nbconvert_exporter": "python",
   "pygments_lexer": "ipython3",
   "version": "3.7.6"
  }
 },
 "nbformat": 4,
 "nbformat_minor": 4
}
